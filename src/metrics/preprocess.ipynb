{
 "cells": [
  {
   "cell_type": "code",
   "execution_count": 1,
   "metadata": {},
   "outputs": [],
   "source": [
    "import matplotlib.pyplot as plt\n",
    "import polars as pl\n",
    "import os"
   ]
  },
  {
   "cell_type": "code",
   "execution_count": 2,
   "metadata": {},
   "outputs": [],
   "source": [
    "# Get the absolute path of the current working directory\n",
    "cwd = os.path.abspath(os.getcwd())\n",
    "\n",
    "# Get the absolute path of the parent directory of the working directory\n",
    "parent_dir = os.path.abspath(os.path.join(cwd, os.pardir))\n",
    "\n",
    "# Navigate to the target directory (assuming it is two levels above the working directory)\n",
    "target_dir = os.path.abspath(os.path.join(parent_dir, os.pardir, 'data'))"
   ]
  },
  {
   "cell_type": "code",
   "execution_count": 3,
   "metadata": {},
   "outputs": [],
   "source": [
    "# read every parquet file in the data directory, load them all, and then concat together except uniswap-v3 mainnet\n",
    "# concat all of the balancer-v2 parquet files\n",
    "balancer_df = pl.concat([pl.read_parquet(f\"{target_dir}/{f}\") for f in os.listdir(target_dir) if 'balancer-v2' in f])\n",
    "\n",
    "curve_df = pl.concat([pl.read_parquet(f\"{target_dir}/{f}\") for f in os.listdir(target_dir) if 'curve-finance' in f])"
   ]
  },
  {
   "cell_type": "code",
   "execution_count": 4,
   "metadata": {},
   "outputs": [],
   "source": [
    "# concat balancer and curve\n",
    "swaps_df = pl.concat([balancer_df, curve_df])"
   ]
  },
  {
   "cell_type": "code",
   "execution_count": 5,
   "metadata": {},
   "outputs": [],
   "source": [
    "master_swaps_col_list = [\n",
    "'swaps_hash', \n",
    "'swaps_from', \n",
    "'swaps_blockNumber',  \n",
    "'swaps_timestamp',\n",
    "'swaps_tokenIn_id',\n",
    "'swaps_amountIn',\n",
    "'swaps_amountInUSD',\n",
    "'swaps_tokenOut_id',\n",
    "'swaps_amountOut',\n",
    "'swaps_amountOutUSD',\n",
    "'swaps_pool_id',\n",
    "'endpoint'\n",
    "]"
   ]
  },
  {
   "cell_type": "code",
   "execution_count": 6,
   "metadata": {},
   "outputs": [],
   "source": [
    "# truncate swaps_df based on master list\n",
    "swaps_df = swaps_df[master_swaps_col_list]"
   ]
  },
  {
   "attachments": {},
   "cell_type": "markdown",
   "metadata": {},
   "source": [
    "The Messari Uniswap v3 subgraph data has different swap schema columns. The polygon swap schema has the same columns as Balancer and Curve. \n",
    "However, the ethereum, arbitrum, and optimism swap schemas have different columns. The most glaring difference is that while Balancer and Curve\n",
    "swap schemas have swaps_to and swaps_from, the non-comforming Uniswap v3 schemas only have swaps_account_id, which is equivalent to the swaps_from column."
   ]
  },
  {
   "cell_type": "code",
   "execution_count": 7,
   "metadata": {},
   "outputs": [],
   "source": [
    "# load each parquet file separately for uniswap-v3. \n",
    "df1 = pl.concat([pl.read_parquet(f\"{target_dir}/{f}\") for f in os.listdir(target_dir) if 'uniswap-v3-arbitrum' in f])\n",
    "df2 = pl.concat([pl.read_parquet(f\"{target_dir}/{f}\") for f in os.listdir(target_dir) if 'uniswap-v3-ethereum' in f])\n",
    "df3 = pl.concat([pl.read_parquet(f\"{target_dir}/{f}\") for f in os.listdir(target_dir) if 'uniswap-v3-polygon' in f])\n",
    "df4 = pl.concat([pl.read_parquet(f\"{target_dir}/{f}\") for f in os.listdir(target_dir) if 'uniswap-v3-optimism' in f])"
   ]
  },
  {
   "cell_type": "code",
   "execution_count": 8,
   "metadata": {},
   "outputs": [],
   "source": [
    "df1 = df1.rename({'swaps_account_id': 'swaps_from'})\n",
    "df2 = df2.rename({'swaps_account_id': 'swaps_from'})\n",
    "df4 = df4.rename({'swaps_account_id': 'swaps_from'})"
   ]
  },
  {
   "cell_type": "code",
   "execution_count": 9,
   "metadata": {},
   "outputs": [],
   "source": [
    "# truncate df1, df2, df3, df4 based on the master list\n",
    "df1 = df1[master_swaps_col_list]\n",
    "df2 = df2[master_swaps_col_list]\n",
    "df3 = df3[master_swaps_col_list]\n",
    "df4 = df4[master_swaps_col_list]"
   ]
  },
  {
   "cell_type": "code",
   "execution_count": 10,
   "metadata": {},
   "outputs": [],
   "source": [
    "#concat df1, df2, df3, df4\n",
    "uniswap_df = pl.concat([df1, df2, df3, df4])"
   ]
  },
  {
   "cell_type": "code",
   "execution_count": 11,
   "metadata": {},
   "outputs": [],
   "source": [
    "# concat swaps_df and uniswap_df\n",
    "swaps_df = pl.concat([swaps_df, uniswap_df])"
   ]
  },
  {
   "cell_type": "code",
   "execution_count": 12,
   "metadata": {},
   "outputs": [],
   "source": [
    "swaps_df = swaps_df.with_columns(\n",
    "    pl.from_epoch(\"swaps_timestamp\", unit=\"s\")\n",
    ")"
   ]
  },
  {
   "cell_type": "code",
   "execution_count": 13,
   "metadata": {},
   "outputs": [
    {
     "data": {
      "text/plain": [
       "(1958328, 12)"
      ]
     },
     "execution_count": 13,
     "metadata": {},
     "output_type": "execute_result"
    }
   ],
   "source": [
    "swaps_df.shape"
   ]
  },
  {
   "cell_type": "code",
   "execution_count": 14,
   "metadata": {},
   "outputs": [
    {
     "data": {
      "text/html": [
       "<div><style>\n",
       ".dataframe > thead > tr > th,\n",
       ".dataframe > tbody > tr > td {\n",
       "  text-align: right;\n",
       "}\n",
       "</style>\n",
       "<small>shape: (5, 12)</small><table border=\"1\" class=\"dataframe\"><thead><tr><th>swaps_hash</th><th>swaps_from</th><th>swaps_blockNumber</th><th>swaps_timestamp</th><th>swaps_tokenIn_id</th><th>swaps_amountIn</th><th>swaps_amountInUSD</th><th>swaps_tokenOut_id</th><th>swaps_amountOut</th><th>swaps_amountOutUSD</th><th>swaps_pool_id</th><th>endpoint</th></tr><tr><td>str</td><td>str</td><td>i64</td><td>datetime[μs]</td><td>str</td><td>f64</td><td>f64</td><td>str</td><td>f64</td><td>f64</td><td>str</td><td>str</td></tr></thead><tbody><tr><td>&quot;0xa60f173d822a...</td><td>&quot;0xf7995b6b0511...</td><td>16816549</td><td>2023-03-13 03:59:59</td><td>&quot;0x6b175474e890...</td><td>2.9991e22</td><td>28643.363471</td><td>&quot;0xae37d54ae477...</td><td>2.9918e22</td><td>0.0</td><td>&quot;0xae37d54ae477...</td><td>&quot;balancer-v2-et...</td></tr><tr><td>&quot;0x59d3ff71f65a...</td><td>&quot;0xf7995b6b0511...</td><td>16816533</td><td>2023-03-13 03:56:47</td><td>&quot;0xa0b86991c621...</td><td>1.9994e10</td><td>19947.7118</td><td>&quot;0x82698aecc9e2...</td><td>1.9934e22</td><td>0.0</td><td>&quot;0x82698aecc9e2...</td><td>&quot;balancer-v2-et...</td></tr><tr><td>&quot;0x06cff3367d7c...</td><td>&quot;0x1b84c738c33c...</td><td>16816532</td><td>2023-03-13 03:56:35</td><td>&quot;0xc02aaa39b223...</td><td>1.7152e20</td><td>253851.18999</td><td>&quot;0x7f39c581f595...</td><td>1.5420e20</td><td>276727.804267</td><td>&quot;0x32296969ef14...</td><td>&quot;balancer-v2-et...</td></tr><tr><td>&quot;0x09eff2771522...</td><td>&quot;0x1b84c738c33c...</td><td>16816531</td><td>2023-03-13 03:56:23</td><td>&quot;0xba100000625a...</td><td>4.8415e19</td><td>312.568058</td><td>&quot;0xc02aaa39b223...</td><td>1.9273e17</td><td>285.239959</td><td>&quot;0x3ebf48cd7586...</td><td>&quot;balancer-v2-et...</td></tr><tr><td>&quot;0x59aee0705b39...</td><td>&quot;0x9b88a69886d0...</td><td>16816525</td><td>2023-03-13 03:55:11</td><td>&quot;0xdac17f958d2e...</td><td>7.5000e10</td><td>78013.8</td><td>&quot;0x2f4eb100552e...</td><td>7.4360e22</td><td>0.0</td><td>&quot;0x2f4eb100552e...</td><td>&quot;balancer-v2-et...</td></tr></tbody></table></div>"
      ],
      "text/plain": [
       "shape: (5, 12)\n",
       "┌──────────┬──────────┬────────────┬────────────┬─────┬────────────┬────────────┬────────────┬────────┐\n",
       "│ swaps_ha ┆ swaps_fr ┆ swaps_bloc ┆ swaps_time ┆ ... ┆ swaps_amou ┆ swaps_amou ┆ swaps_pool ┆ endpoi │\n",
       "│ sh       ┆ om       ┆ kNumber    ┆ stamp      ┆     ┆ ntOut      ┆ ntOutUSD   ┆ _id        ┆ nt     │\n",
       "│ ---      ┆ ---      ┆ ---        ┆ ---        ┆     ┆ ---        ┆ ---        ┆ ---        ┆ ---    │\n",
       "│ str      ┆ str      ┆ i64        ┆ datetime[μ ┆     ┆ f64        ┆ f64        ┆ str        ┆ str    │\n",
       "│          ┆          ┆            ┆ s]         ┆     ┆            ┆            ┆            ┆        │\n",
       "╞══════════╪══════════╪════════════╪════════════╪═════╪════════════╪════════════╪════════════╪════════╡\n",
       "│ 0xa60f17 ┆ 0xf7995b ┆ 16816549   ┆ 2023-03-13 ┆ ... ┆ 2.9918e22  ┆ 0.0        ┆ 0xae37d54a ┆ balanc │\n",
       "│ 3d822aeb ┆ 6b051166 ┆            ┆ 03:59:59   ┆     ┆            ┆            ┆ e477268b99 ┆ er-v2- │\n",
       "│ cfca1f8b ┆ ea52218c ┆            ┆            ┆     ┆            ┆            ┆ 97d4161b96 ┆ ethere │\n",
       "│ d1a3f7f1 ┆ 37b8d03a ┆            ┆            ┆     ┆            ┆            ┆ b8...      ┆ um     │\n",
       "│ ...      ┆ ...      ┆            ┆            ┆     ┆            ┆            ┆            ┆        │\n",
       "│ 0x59d3ff ┆ 0xf7995b ┆ 16816533   ┆ 2023-03-13 ┆ ... ┆ 1.9934e22  ┆ 0.0        ┆ 0x82698aec ┆ balanc │\n",
       "│ 71f65ad8 ┆ 6b051166 ┆            ┆ 03:56:47   ┆     ┆            ┆            ┆ c9e28e9bb2 ┆ er-v2- │\n",
       "│ f94dc6d6 ┆ ea52218c ┆            ┆            ┆     ┆            ┆            ┆ 7608bd52cf ┆ ethere │\n",
       "│ b0e31eec ┆ 37b8d03a ┆            ┆            ┆     ┆            ┆            ┆ 57...      ┆ um     │\n",
       "│ ...      ┆ ...      ┆            ┆            ┆     ┆            ┆            ┆            ┆        │\n",
       "│ 0x06cff3 ┆ 0x1b84c7 ┆ 16816532   ┆ 2023-03-13 ┆ ... ┆ 1.5420e20  ┆ 276727.804 ┆ 0x32296969 ┆ balanc │\n",
       "│ 367d7cbf ┆ 38c33cd4 ┆            ┆ 03:56:35   ┆     ┆            ┆ 267        ┆ ef14eb0c6d ┆ er-v2- │\n",
       "│ e9e625af ┆ 2e9e2764 ┆            ┆            ┆     ┆            ┆            ┆ 29669c550d ┆ ethere │\n",
       "│ a26291b4 ┆ b7e94394 ┆            ┆            ┆     ┆            ┆            ┆ 4a...      ┆ um     │\n",
       "│ ...      ┆ ...      ┆            ┆            ┆     ┆            ┆            ┆            ┆        │\n",
       "│ 0x09eff2 ┆ 0x1b84c7 ┆ 16816531   ┆ 2023-03-13 ┆ ... ┆ 1.9273e17  ┆ 285.239959 ┆ 0x3ebf48cd ┆ balanc │\n",
       "│ 77152258 ┆ 38c33cd4 ┆            ┆ 03:56:23   ┆     ┆            ┆            ┆ 7586d7a452 ┆ er-v2- │\n",
       "│ af56bcf9 ┆ 2e9e2764 ┆            ┆            ┆     ┆            ┆            ┆ 1ce59e53d9 ┆ ethere │\n",
       "│ 792b40a1 ┆ b7e94394 ┆            ┆            ┆     ┆            ┆            ┆ a9...      ┆ um     │\n",
       "│ ...      ┆ ...      ┆            ┆            ┆     ┆            ┆            ┆            ┆        │\n",
       "│ 0x59aee0 ┆ 0x9b88a6 ┆ 16816525   ┆ 2023-03-13 ┆ ... ┆ 7.4360e22  ┆ 0.0        ┆ 0x2f4eb100 ┆ balanc │\n",
       "│ 705b3958 ┆ 9886d033 ┆            ┆ 03:55:11   ┆     ┆            ┆            ┆ 552ef93840 ┆ er-v2- │\n",
       "│ b69713db ┆ 31499a0e ┆            ┆            ┆     ┆            ┆            ┆ d5adc30560 ┆ ethere │\n",
       "│ c5b48491 ┆ e7332db0 ┆            ┆            ┆     ┆            ┆            ┆ e5...      ┆ um     │\n",
       "│ ...      ┆ ...      ┆            ┆            ┆     ┆            ┆            ┆            ┆        │\n",
       "└──────────┴──────────┴────────────┴────────────┴─────┴────────────┴────────────┴────────────┴────────┘"
      ]
     },
     "execution_count": 14,
     "metadata": {},
     "output_type": "execute_result"
    }
   ],
   "source": [
    "# this is the dataset we will work with for analysis\n",
    "swaps_df.head(5)"
   ]
  },
  {
   "attachments": {},
   "cell_type": "markdown",
   "metadata": {},
   "source": [
    "Since we only have the swaps_from values, we will just focus on amountInUSD column for analysis. Here we will just drop all of the nonzero amountInUSD values for simplicity. It looks like it's about 11.27% of total datapoints"
   ]
  },
  {
   "cell_type": "code",
   "execution_count": 15,
   "metadata": {},
   "outputs": [
    {
     "name": "stdout",
     "output_type": "stream",
     "text": [
      "amountInZeroCount: 220858\n",
      "amountOutZeroCount: 250749\n",
      "swaps_df size: 1958328\n"
     ]
    }
   ],
   "source": [
    "amountInZeroCount = swaps_df.filter(pl.col('swaps_amountInUSD') == 0).shape[0]\n",
    "amountOutZeroCount = swaps_df.filter(pl.col('swaps_amountOutUSD') == 0).shape[0]\n",
    "swaps_df_size = swaps_df.shape[0]\n",
    "\n",
    "print(f'amountInZeroCount: {amountInZeroCount}')\n",
    "print(f'amountOutZeroCount: {amountOutZeroCount}')\n",
    "print(f'swaps_df size: {swaps_df_size}')"
   ]
  },
  {
   "cell_type": "code",
   "execution_count": 16,
   "metadata": {},
   "outputs": [
    {
     "name": "stdout",
     "output_type": "stream",
     "text": [
      "The percent of swaps_amountInUSD values that are 0 is 0.1127788603339175\n"
     ]
    }
   ],
   "source": [
    "# how many swaps_amountInUSD values are 0?\n",
    "amountInUSDPercent = swaps_df.filter(pl.col('swaps_amountInUSD') == 0).shape[0] / swaps_df.shape[0]\n",
    "print(f'The percent of swaps_amountInUSD values that are 0 is {amountInUSDPercent}')"
   ]
  },
  {
   "cell_type": "code",
   "execution_count": 17,
   "metadata": {},
   "outputs": [],
   "source": [
    "# swaps_df = swaps_df.filter(pl.col('swaps_amountInUSD') != 0)"
   ]
  },
  {
   "attachments": {},
   "cell_type": "markdown",
   "metadata": {},
   "source": [
    "### Basic Analysis"
   ]
  },
  {
   "cell_type": "code",
   "execution_count": 18,
   "metadata": {},
   "outputs": [],
   "source": [
    "# hard coded list of USDC addresses taken from the various _scan.com websites\n",
    "usdc_list = [\n",
    "    '0x2791Bca1f2de4661ED88A30C99A7a9449Aa84174', # polygon\n",
    "    '0xA0b86991c6218b36c1d19D4a2e9Eb0cE3606eB48', # ethereum\n",
    "    '0xFF970A61A04b1cA14834A43f5dE4533eBDDB5CC8', # arbitrum\n",
    "    '0x7F5c764cBc14f9669B88837ca1490cCa17c31607', # optimism\n",
    "]"
   ]
  },
  {
   "cell_type": "code",
   "execution_count": 19,
   "metadata": {},
   "outputs": [],
   "source": [
    "# for every element in usdc_list, convert all uppercase to lowercase\n",
    "usdc_list = [address.lower() for address in usdc_list]"
   ]
  },
  {
   "cell_type": "code",
   "execution_count": 20,
   "metadata": {},
   "outputs": [],
   "source": [
    "# filter swaps_df for values in usdc_list\n",
    "usdc_inflow = swaps_df.filter(pl.col('swaps_tokenIn_id').is_in(usdc_list))\n",
    "usdc_outflow = swaps_df.filter(pl.col('swaps_tokenOut_id').is_in(usdc_list))"
   ]
  },
  {
   "cell_type": "code",
   "execution_count": 23,
   "metadata": {},
   "outputs": [
    {
     "name": "stdout",
     "output_type": "stream",
     "text": [
      "usdc_inflow size: 495582\n",
      "usdc_outflow size: 453045\n"
     ]
    }
   ],
   "source": [
    "print(f'usdc_inflow size: {usdc_inflow.shape[0]}')\n",
    "print(f'usdc_outflow size: {usdc_outflow.shape[0]}')"
   ]
  },
  {
   "cell_type": "code",
   "execution_count": 49,
   "metadata": {},
   "outputs": [],
   "source": [
    "# decimal conversion logic\n",
    "usdc_inflow = usdc_inflow.with_columns([\n",
    "    (pl.col(\"swaps_amountIn\") / 10**6).alias('swaps_amountIn')\n",
    "])\n",
    "\n",
    "usdc_outflow = usdc_outflow.with_columns([\n",
    "    (pl.col(\"swaps_amountOut\") / 10**6).alias('swaps_amountOut')\n",
    "])"
   ]
  },
  {
   "cell_type": "code",
   "execution_count": 50,
   "metadata": {},
   "outputs": [],
   "source": [
    "# group usd_inflow amountInUSD by endpoint\n",
    "usdc_inflow_grouped = usdc_inflow.groupby('endpoint').agg([pl.sum('swaps_amountIn')]).sort('swaps_amountIn', descending=True)\n",
    "usdc_outflow_grouped = usdc_outflow.groupby('endpoint').agg([pl.sum('swaps_amountOut')]).sort('swaps_amountOut', descending=True)"
   ]
  },
  {
   "cell_type": "code",
   "execution_count": 51,
   "metadata": {},
   "outputs": [],
   "source": [
    "# join usdc_inflow_grouped and usdc_outflow_grouped\n",
    "usdc_inflow_outflow = usdc_inflow_grouped.join(usdc_outflow_grouped, on='endpoint', how='inner')"
   ]
  },
  {
   "cell_type": "code",
   "execution_count": 53,
   "metadata": {},
   "outputs": [],
   "source": [
    "#first swaps_timestamp date\n",
    "first_date = swaps_df['swaps_timestamp'].min().strftime('%Y-%m-%d')\n",
    "#last swaps_timestamp date\n",
    "last_date = swaps_df['swaps_timestamp'].max().strftime('%Y-%m-%d')"
   ]
  },
  {
   "cell_type": "code",
   "execution_count": 62,
   "metadata": {},
   "outputs": [
    {
     "name": "stdout",
     "output_type": "stream",
     "text": [
      "The total surplus of USDC going into liquidity pools was $668,822,051.10 from 2023-03-09 to 2023-03-13.\n",
      "The sum of the swaps_amountIn is $12,722,280,129.27\n",
      "The sum of the swaps_amountOut is $12,053,458,078.16\n"
     ]
    }
   ],
   "source": [
    "# print the sum of the swaps_amountInUSD and swaps_amountOutUSD\n",
    "print(f'The total surplus of USDC going into liquidity pools was ${usdc_inflow_outflow[\"swaps_amountIn\"].sum() - usdc_inflow_outflow[\"swaps_amountOut\"].sum():,.2f} from {first_date} to {last_date}.')\n",
    "print(f'The sum of the swaps_amountIn is ${usdc_inflow_outflow[\"swaps_amountIn\"].sum():,.2f}')\n",
    "print(f'The sum of the swaps_amountOut is ${usdc_inflow_outflow[\"swaps_amountOut\"].sum():,.2f}')\n"
   ]
  },
  {
   "cell_type": "code",
   "execution_count": 67,
   "metadata": {},
   "outputs": [
    {
     "name": "stdout",
     "output_type": "stream",
     "text": [
      "The total surplus of USDC supply going into uniswap-v3-ethereum LPs was $205,732,606.41\n",
      "The total surplus of USDC supply going into curve-finance-ethereum LPs was $365,072,871.63\n",
      "The total surplus of USDC supply going into uniswap-v3-arbitrum LPs was $6,627,529.05\n",
      "The total surplus of USDC supply going into uniswap-v3-polygon LPs was $7,093,276.86\n",
      "The total surplus of USDC supply going into uniswap-v3-optimism LPs was $93,512.27\n",
      "The total surplus of USDC supply going into curve-finance-arbitrum LPs was $444,585.70\n",
      "The total surplus of USDC supply going into curve-finance-optimism LPs was $-8,135,060.56\n",
      "The total surplus of USDC supply going into balancer-v2-ethereum LPs was $95,130,016.70\n",
      "The total surplus of USDC supply going into balancer-v2-polygon LPs was $1,361,210.85\n",
      "The total surplus of USDC supply going into curve-finance-polygon LPs was $-7,777,846.31\n"
     ]
    }
   ],
   "source": [
    "# for the first 5 rows, print the swaps_amountInUSD and swaps_amountOutUSD\n",
    "for i in range(0,10):\n",
    "    print(f'The total surplus of USDC supply going into {usdc_inflow_outflow[\"endpoint\"][i]} LPs was ${usdc_inflow_outflow[\"swaps_amountIn\"][i] - usdc_inflow_outflow[\"swaps_amountOut\"][i]:,.2f}')\n"
   ]
  },
  {
   "cell_type": "code",
   "execution_count": 63,
   "metadata": {},
   "outputs": [
    {
     "name": "stderr",
     "output_type": "stream",
     "text": [
      "/tmp/ipykernel_395280/3680472829.py:14: UserWarning: FixedFormatter should only be used together with FixedLocator\n",
      "  ax.set_yticklabels(new_labels)\n"
     ]
    },
    {
     "data": {
      "image/png": "[encoded data removed]",
      "text/plain": [
       "<Figure size 1000x500 with 1 Axes>"
      ]
     },
     "metadata": {},
     "output_type": "display_data"
    }
   ],
   "source": [
    "# This chart shows how much dollar volume value is attributed to each protocol on each chain. Top chains in order are Ethereum, Polygon, then Arbitrum\n",
    "fig, ax = plt.subplots(1, 1, figsize=(2, 2))\n",
    "\n",
    "# convert to pandas and plot histograms. Label the x-axis and y-axis\n",
    "usdc_inflow_outflow.to_pandas().plot(kind='bar', x='endpoint', figsize=(10, 5), ax=ax, title='USDC Supply Flow into LPs (on Ethereum, Polygon, Arbitrum, Optimism)')\n",
    "plt.ylabel('USDC Supply into LPs')\n",
    "plt.xlabel('Subgraph Endpoint')\n",
    "\n",
    "# getting the array of values of y-axis\n",
    "ticks = ax.get_yticks()\n",
    "# formatted the values into strings beginning with dollar sign\n",
    "new_labels = [f'{amt:,.0f}' for amt in ticks]\n",
    "# Set the new labels\n",
    "ax.set_yticklabels(new_labels)\n",
    "plt.show();"
   ]
  },
  {
   "cell_type": "code",
   "execution_count": null,
   "metadata": {},
   "outputs": [],
   "source": []
  }
 ],
 "metadata": {
  "kernelspec": {
   "display_name": ".venv",
   "language": "python",
   "name": "python3"
  },
  "language_info": {
   "codemirror_mode": {
    "name": "ipython",
    "version": 3
   },
   "file_extension": ".py",
   "mimetype": "text/x-python",
   "name": "python",
   "nbconvert_exporter": "python",
   "pygments_lexer": "ipython3",
   "version": "3.10.6"
  },
  "orig_nbformat": 4
 },
 "nbformat": 4,
 "nbformat_minor": 2
}
