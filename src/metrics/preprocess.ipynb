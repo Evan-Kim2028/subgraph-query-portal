{
 "cells": [
  {
   "cell_type": "code",
   "execution_count": 47,
   "metadata": {},
   "outputs": [],
   "source": [
    "import matplotlib.pyplot as plt\n",
    "import polars as pl\n",
    "import os"
   ]
  },
  {
   "cell_type": "code",
   "execution_count": 2,
   "metadata": {},
   "outputs": [],
   "source": [
    "# Get the absolute path of the current working directory\n",
    "cwd = os.path.abspath(os.getcwd())\n",
    "\n",
    "# Get the absolute path of the parent directory of the working directory\n",
    "parent_dir = os.path.abspath(os.path.join(cwd, os.pardir))\n",
    "\n",
    "# Navigate to the target directory (assuming it is two levels above the working directory)\n",
    "target_dir = os.path.abspath(os.path.join(parent_dir, os.pardir, 'data'))"
   ]
  },
  {
   "cell_type": "code",
   "execution_count": 3,
   "metadata": {},
   "outputs": [],
   "source": [
    "# read every parquet file in the data directory, load them all, and then concat together except uniswap-v3 mainnet\n",
    "# concat all of the balancer-v2 parquet files\n",
    "balancer_df = pl.concat([pl.read_parquet(f\"{target_dir}/{f}\") for f in os.listdir(target_dir) if 'balancer-v2' in f])\n",
    "\n",
    "curve_df = pl.concat([pl.read_parquet(f\"{target_dir}/{f}\") for f in os.listdir(target_dir) if 'curve-finance' in f])"
   ]
  },
  {
   "cell_type": "code",
   "execution_count": 4,
   "metadata": {},
   "outputs": [],
   "source": [
    "# concat balancer and curve\n",
    "swaps_df = pl.concat([balancer_df, curve_df])"
   ]
  },
  {
   "cell_type": "code",
   "execution_count": 5,
   "metadata": {},
   "outputs": [],
   "source": [
    "master_swaps_col_list = [\n",
    "'swaps_hash', \n",
    "'swaps_from', \n",
    "'swaps_blockNumber',  \n",
    "'swaps_timestamp',\n",
    "'swaps_tokenIn_id',\n",
    "'swaps_amountIn',\n",
    "'swaps_amountInUSD',\n",
    "'swaps_tokenOut_id',\n",
    "'swaps_amountOut',\n",
    "'swaps_amountOutUSD',\n",
    "'swaps_pool_id',\n",
    "'endpoint'\n",
    "]"
   ]
  },
  {
   "cell_type": "code",
   "execution_count": 6,
   "metadata": {},
   "outputs": [],
   "source": [
    "# truncate swaps_df based on master list\n",
    "swaps_df = swaps_df[master_swaps_col_list]"
   ]
  },
  {
   "attachments": {},
   "cell_type": "markdown",
   "metadata": {},
   "source": [
    "The Messari Uniswap v3 subgraph data has different swap schema columns. The polygon swap schema has the same columns as Balancer and Curve. \n",
    "However, the ethereum, arbitrum, and optimism swap schemas have different columns. The most glaring difference is that while Balancer and Curve\n",
    "swap schemas have swaps_to and swaps_from, the non-comforming Uniswap v3 schemas only have swaps_account_id, which is equivalent to the swaps_from column."
   ]
  },
  {
   "cell_type": "code",
   "execution_count": 7,
   "metadata": {},
   "outputs": [],
   "source": [
    "# load each parquet file separately for uniswap-v3. \n",
    "df1 = pl.concat([pl.read_parquet(f\"{target_dir}/{f}\") for f in os.listdir(target_dir) if 'uniswap-v3-arbitrum' in f])\n",
    "df2 = pl.concat([pl.read_parquet(f\"{target_dir}/{f}\") for f in os.listdir(target_dir) if 'uniswap-v3-ethereum' in f])\n",
    "df3 = pl.concat([pl.read_parquet(f\"{target_dir}/{f}\") for f in os.listdir(target_dir) if 'uniswap-v3-polygon' in f])\n",
    "df4 = pl.concat([pl.read_parquet(f\"{target_dir}/{f}\") for f in os.listdir(target_dir) if 'uniswap-v3-optimism' in f])"
   ]
  },
  {
   "cell_type": "code",
   "execution_count": 8,
   "metadata": {},
   "outputs": [],
   "source": [
    "df1 = df1.rename({'swaps_account_id': 'swaps_from'})\n",
    "df2 = df2.rename({'swaps_account_id': 'swaps_from'})\n",
    "df4 = df4.rename({'swaps_account_id': 'swaps_from'})"
   ]
  },
  {
   "cell_type": "code",
   "execution_count": 9,
   "metadata": {},
   "outputs": [],
   "source": [
    "# truncate df1, df2, df3, df4 based on the master list\n",
    "df1 = df1[master_swaps_col_list]\n",
    "df2 = df2[master_swaps_col_list]\n",
    "df3 = df3[master_swaps_col_list]\n",
    "df4 = df4[master_swaps_col_list]"
   ]
  },
  {
   "cell_type": "code",
   "execution_count": 10,
   "metadata": {},
   "outputs": [],
   "source": [
    "#concat df1, df2, df3, df4\n",
    "uniswap_df = pl.concat([df1, df2, df3, df4])"
   ]
  },
  {
   "cell_type": "code",
   "execution_count": 11,
   "metadata": {},
   "outputs": [],
   "source": [
    "# concat swaps_df and uniswap_df\n",
    "swaps_df = pl.concat([swaps_df, uniswap_df])"
   ]
  },
  {
   "cell_type": "code",
   "execution_count": 67,
   "metadata": {},
   "outputs": [],
   "source": [
    "swaps_df = swaps_df.with_columns(\n",
    "    pl.from_epoch(\"swaps_timestamp\", unit=\"s\")\n",
    ")"
   ]
  },
  {
   "cell_type": "code",
   "execution_count": 68,
   "metadata": {},
   "outputs": [
    {
     "data": {
      "text/plain": [
       "(1958328, 12)"
      ]
     },
     "execution_count": 68,
     "metadata": {},
     "output_type": "execute_result"
    }
   ],
   "source": [
    "swaps_df.shape"
   ]
  },
  {
   "cell_type": "code",
   "execution_count": 69,
   "metadata": {},
   "outputs": [
    {
     "data": {
      "text/html": [
       "<div><style>\n",
       ".dataframe > thead > tr > th,\n",
       ".dataframe > tbody > tr > td {\n",
       "  text-align: right;\n",
       "}\n",
       "</style>\n",
       "<small>shape: (5, 12)</small><table border=\"1\" class=\"dataframe\"><thead><tr><th>swaps_hash</th><th>swaps_from</th><th>swaps_blockNumber</th><th>swaps_timestamp</th><th>swaps_tokenIn_id</th><th>swaps_amountIn</th><th>swaps_amountInUSD</th><th>swaps_tokenOut_id</th><th>swaps_amountOut</th><th>swaps_amountOutUSD</th><th>swaps_pool_id</th><th>endpoint</th></tr><tr><td>str</td><td>str</td><td>i64</td><td>datetime[μs]</td><td>str</td><td>f64</td><td>f64</td><td>str</td><td>f64</td><td>f64</td><td>str</td><td>str</td></tr></thead><tbody><tr><td>&quot;0xa60f173d822a...</td><td>&quot;0xf7995b6b0511...</td><td>16816549</td><td>2023-03-13 03:59:59</td><td>&quot;0x6b175474e890...</td><td>2.9991e22</td><td>28643.363471</td><td>&quot;0xae37d54ae477...</td><td>2.9918e22</td><td>0.0</td><td>&quot;0xae37d54ae477...</td><td>&quot;balancer-v2-et...</td></tr><tr><td>&quot;0x59d3ff71f65a...</td><td>&quot;0xf7995b6b0511...</td><td>16816533</td><td>2023-03-13 03:56:47</td><td>&quot;0xa0b86991c621...</td><td>1.9994e10</td><td>19947.7118</td><td>&quot;0x82698aecc9e2...</td><td>1.9934e22</td><td>0.0</td><td>&quot;0x82698aecc9e2...</td><td>&quot;balancer-v2-et...</td></tr><tr><td>&quot;0x06cff3367d7c...</td><td>&quot;0x1b84c738c33c...</td><td>16816532</td><td>2023-03-13 03:56:35</td><td>&quot;0xc02aaa39b223...</td><td>1.7152e20</td><td>253851.18999</td><td>&quot;0x7f39c581f595...</td><td>1.5420e20</td><td>276727.804267</td><td>&quot;0x32296969ef14...</td><td>&quot;balancer-v2-et...</td></tr><tr><td>&quot;0x09eff2771522...</td><td>&quot;0x1b84c738c33c...</td><td>16816531</td><td>2023-03-13 03:56:23</td><td>&quot;0xba100000625a...</td><td>4.8415e19</td><td>312.568058</td><td>&quot;0xc02aaa39b223...</td><td>1.9273e17</td><td>285.239959</td><td>&quot;0x3ebf48cd7586...</td><td>&quot;balancer-v2-et...</td></tr><tr><td>&quot;0x59aee0705b39...</td><td>&quot;0x9b88a69886d0...</td><td>16816525</td><td>2023-03-13 03:55:11</td><td>&quot;0xdac17f958d2e...</td><td>7.5000e10</td><td>78013.8</td><td>&quot;0x2f4eb100552e...</td><td>7.4360e22</td><td>0.0</td><td>&quot;0x2f4eb100552e...</td><td>&quot;balancer-v2-et...</td></tr></tbody></table></div>"
      ],
      "text/plain": [
       "shape: (5, 12)\n",
       "┌──────────┬──────────┬────────────┬────────────┬─────┬────────────┬────────────┬────────────┬────────┐\n",
       "│ swaps_ha ┆ swaps_fr ┆ swaps_bloc ┆ swaps_time ┆ ... ┆ swaps_amou ┆ swaps_amou ┆ swaps_pool ┆ endpoi │\n",
       "│ sh       ┆ om       ┆ kNumber    ┆ stamp      ┆     ┆ ntOut      ┆ ntOutUSD   ┆ _id        ┆ nt     │\n",
       "│ ---      ┆ ---      ┆ ---        ┆ ---        ┆     ┆ ---        ┆ ---        ┆ ---        ┆ ---    │\n",
       "│ str      ┆ str      ┆ i64        ┆ datetime[μ ┆     ┆ f64        ┆ f64        ┆ str        ┆ str    │\n",
       "│          ┆          ┆            ┆ s]         ┆     ┆            ┆            ┆            ┆        │\n",
       "╞══════════╪══════════╪════════════╪════════════╪═════╪════════════╪════════════╪════════════╪════════╡\n",
       "│ 0xa60f17 ┆ 0xf7995b ┆ 16816549   ┆ 2023-03-13 ┆ ... ┆ 2.9918e22  ┆ 0.0        ┆ 0xae37d54a ┆ balanc │\n",
       "│ 3d822aeb ┆ 6b051166 ┆            ┆ 03:59:59   ┆     ┆            ┆            ┆ e477268b99 ┆ er-v2- │\n",
       "│ cfca1f8b ┆ ea52218c ┆            ┆            ┆     ┆            ┆            ┆ 97d4161b96 ┆ ethere │\n",
       "│ d1a3f7f1 ┆ 37b8d03a ┆            ┆            ┆     ┆            ┆            ┆ b8...      ┆ um     │\n",
       "│ ...      ┆ ...      ┆            ┆            ┆     ┆            ┆            ┆            ┆        │\n",
       "│ 0x59d3ff ┆ 0xf7995b ┆ 16816533   ┆ 2023-03-13 ┆ ... ┆ 1.9934e22  ┆ 0.0        ┆ 0x82698aec ┆ balanc │\n",
       "│ 71f65ad8 ┆ 6b051166 ┆            ┆ 03:56:47   ┆     ┆            ┆            ┆ c9e28e9bb2 ┆ er-v2- │\n",
       "│ f94dc6d6 ┆ ea52218c ┆            ┆            ┆     ┆            ┆            ┆ 7608bd52cf ┆ ethere │\n",
       "│ b0e31eec ┆ 37b8d03a ┆            ┆            ┆     ┆            ┆            ┆ 57...      ┆ um     │\n",
       "│ ...      ┆ ...      ┆            ┆            ┆     ┆            ┆            ┆            ┆        │\n",
       "│ 0x06cff3 ┆ 0x1b84c7 ┆ 16816532   ┆ 2023-03-13 ┆ ... ┆ 1.5420e20  ┆ 276727.804 ┆ 0x32296969 ┆ balanc │\n",
       "│ 367d7cbf ┆ 38c33cd4 ┆            ┆ 03:56:35   ┆     ┆            ┆ 267        ┆ ef14eb0c6d ┆ er-v2- │\n",
       "│ e9e625af ┆ 2e9e2764 ┆            ┆            ┆     ┆            ┆            ┆ 29669c550d ┆ ethere │\n",
       "│ a26291b4 ┆ b7e94394 ┆            ┆            ┆     ┆            ┆            ┆ 4a...      ┆ um     │\n",
       "│ ...      ┆ ...      ┆            ┆            ┆     ┆            ┆            ┆            ┆        │\n",
       "│ 0x09eff2 ┆ 0x1b84c7 ┆ 16816531   ┆ 2023-03-13 ┆ ... ┆ 1.9273e17  ┆ 285.239959 ┆ 0x3ebf48cd ┆ balanc │\n",
       "│ 77152258 ┆ 38c33cd4 ┆            ┆ 03:56:23   ┆     ┆            ┆            ┆ 7586d7a452 ┆ er-v2- │\n",
       "│ af56bcf9 ┆ 2e9e2764 ┆            ┆            ┆     ┆            ┆            ┆ 1ce59e53d9 ┆ ethere │\n",
       "│ 792b40a1 ┆ b7e94394 ┆            ┆            ┆     ┆            ┆            ┆ a9...      ┆ um     │\n",
       "│ ...      ┆ ...      ┆            ┆            ┆     ┆            ┆            ┆            ┆        │\n",
       "│ 0x59aee0 ┆ 0x9b88a6 ┆ 16816525   ┆ 2023-03-13 ┆ ... ┆ 7.4360e22  ┆ 0.0        ┆ 0x2f4eb100 ┆ balanc │\n",
       "│ 705b3958 ┆ 9886d033 ┆            ┆ 03:55:11   ┆     ┆            ┆            ┆ 552ef93840 ┆ er-v2- │\n",
       "│ b69713db ┆ 31499a0e ┆            ┆            ┆     ┆            ┆            ┆ d5adc30560 ┆ ethere │\n",
       "│ c5b48491 ┆ e7332db0 ┆            ┆            ┆     ┆            ┆            ┆ e5...      ┆ um     │\n",
       "│ ...      ┆ ...      ┆            ┆            ┆     ┆            ┆            ┆            ┆        │\n",
       "└──────────┴──────────┴────────────┴────────────┴─────┴────────────┴────────────┴────────────┴────────┘"
      ]
     },
     "execution_count": 69,
     "metadata": {},
     "output_type": "execute_result"
    }
   ],
   "source": [
    "# this is the dataset we will work with for analysis\n",
    "swaps_df.head(5)"
   ]
  },
  {
   "attachments": {},
   "cell_type": "markdown",
   "metadata": {},
   "source": [
    "Since we only have the swaps_from values, we will just focus on amountInUSD column for analysis. Here we will just drop all of the nonzero amountInUSD values for simplicity. It looks like it's about 11.27% of total datapoints"
   ]
  },
  {
   "cell_type": "code",
   "execution_count": 14,
   "metadata": {},
   "outputs": [
    {
     "name": "stdout",
     "output_type": "stream",
     "text": [
      "amountInZeroCount: 220858\n",
      "amountOutZeroCount: 250749\n",
      "swaps_df size: 1958328\n"
     ]
    }
   ],
   "source": [
    "amountInZeroCount = swaps_df.filter(pl.col('swaps_amountInUSD') == 0).shape[0]\n",
    "amountOutZeroCount = swaps_df.filter(pl.col('swaps_amountOutUSD') == 0).shape[0]\n",
    "swaps_df_size = swaps_df.shape[0]\n",
    "\n",
    "print(f'amountInZeroCount: {amountInZeroCount}')\n",
    "print(f'amountOutZeroCount: {amountOutZeroCount}')\n",
    "print(f'swaps_df size: {swaps_df_size}')"
   ]
  },
  {
   "cell_type": "code",
   "execution_count": 15,
   "metadata": {},
   "outputs": [
    {
     "name": "stdout",
     "output_type": "stream",
     "text": [
      "The percent of swaps_amountInUSD values that are 0 is 0.1127788603339175\n"
     ]
    }
   ],
   "source": [
    "# how many swaps_amountInUSD values are 0?\n",
    "amountInUSDPercent = swaps_df.filter(pl.col('swaps_amountInUSD') == 0).shape[0] / swaps_df.shape[0]\n",
    "print(f'The percent of swaps_amountInUSD values that are 0 is {amountInUSDPercent}')"
   ]
  },
  {
   "cell_type": "code",
   "execution_count": 16,
   "metadata": {},
   "outputs": [],
   "source": [
    "# swaps_df = swaps_df.filter(pl.col('swaps_amountInUSD') != 0)"
   ]
  },
  {
   "attachments": {},
   "cell_type": "markdown",
   "metadata": {},
   "source": [
    "### Basic Analysis"
   ]
  },
  {
   "cell_type": "code",
   "execution_count": 17,
   "metadata": {},
   "outputs": [],
   "source": [
    "# hard coded list of USDC addresses taken from the various _scan.com websites\n",
    "usdc_list = [\n",
    "    '0x2791Bca1f2de4661ED88A30C99A7a9449Aa84174', # polygon\n",
    "    '0xA0b86991c6218b36c1d19D4a2e9Eb0cE3606eB48', # ethereum\n",
    "    '0xFF970A61A04b1cA14834A43f5dE4533eBDDB5CC8', # arbitrum\n",
    "    '0x7F5c764cBc14f9669B88837ca1490cCa17c31607', # optimism\n",
    "]"
   ]
  },
  {
   "cell_type": "code",
   "execution_count": 18,
   "metadata": {},
   "outputs": [],
   "source": [
    "# for every element in usdc_list, convert all uppercase to lowercase\n",
    "usdc_list = [address.lower() for address in usdc_list]"
   ]
  },
  {
   "cell_type": "code",
   "execution_count": 19,
   "metadata": {},
   "outputs": [],
   "source": [
    "# filter swaps_df for values in usdc_list\n",
    "usdc_inflow = swaps_df.filter(pl.col('swaps_tokenIn_id').is_in(usdc_list))\n",
    "usdc_outflow = swaps_df.filter(pl.col('swaps_tokenOut_id').is_in(usdc_list))"
   ]
  },
  {
   "cell_type": "code",
   "execution_count": 31,
   "metadata": {},
   "outputs": [
    {
     "data": {
      "text/plain": [
       "'0x0fe6694f0eee10068a70a0fbef7a012ce242d51d902db6277f03104f84076eaa'"
      ]
     },
     "execution_count": 31,
     "metadata": {},
     "output_type": "execute_result"
    }
   ],
   "source": [
    "usdc_outflow['swaps_hash'].to_list()[0]"
   ]
  },
  {
   "cell_type": "code",
   "execution_count": 32,
   "metadata": {},
   "outputs": [
    {
     "data": {
      "text/html": [
       "<div><style>\n",
       ".dataframe > thead > tr > th,\n",
       ".dataframe > tbody > tr > td {\n",
       "  text-align: right;\n",
       "}\n",
       "</style>\n",
       "<small>shape: (2, 12)</small><table border=\"1\" class=\"dataframe\"><thead><tr><th>swaps_hash</th><th>swaps_from</th><th>swaps_blockNumber</th><th>swaps_timestamp</th><th>swaps_tokenIn_id</th><th>swaps_amountIn</th><th>swaps_amountInUSD</th><th>swaps_tokenOut_id</th><th>swaps_amountOut</th><th>swaps_amountOutUSD</th><th>swaps_pool_id</th><th>endpoint</th></tr><tr><td>str</td><td>str</td><td>i64</td><td>i64</td><td>str</td><td>f64</td><td>f64</td><td>str</td><td>f64</td><td>f64</td><td>str</td><td>str</td></tr></thead><tbody><tr><td>&quot;0x0fe6694f0eee...</td><td>&quot;0xf480fab87c07...</td><td>16816495</td><td>1678679339</td><td>&quot;0xdac17f958d2e...</td><td>2.1912e10</td><td>22792.970593</td><td>&quot;0xa0b86991c621...</td><td>2.2207e10</td><td>22155.81232</td><td>&quot;0x06df3b2bbb68...</td><td>&quot;balancer-v2-et...</td></tr><tr><td>&quot;0xfac6230360b8...</td><td>&quot;0x7fcc933f6042...</td><td>16816376</td><td>1678677899</td><td>&quot;0x865377367054...</td><td>1.2267e21</td><td>1227.674335</td><td>&quot;0xa0b86991c621...</td><td>1.2191e9</td><td>1216.318297</td><td>&quot;0xff4ce5aaab5a...</td><td>&quot;balancer-v2-et...</td></tr></tbody></table></div>"
      ],
      "text/plain": [
       "shape: (2, 12)\n",
       "┌──────────┬──────────┬────────────┬────────────┬─────┬────────────┬────────────┬────────────┬────────┐\n",
       "│ swaps_ha ┆ swaps_fr ┆ swaps_bloc ┆ swaps_time ┆ ... ┆ swaps_amou ┆ swaps_amou ┆ swaps_pool ┆ endpoi │\n",
       "│ sh       ┆ om       ┆ kNumber    ┆ stamp      ┆     ┆ ntOut      ┆ ntOutUSD   ┆ _id        ┆ nt     │\n",
       "│ ---      ┆ ---      ┆ ---        ┆ ---        ┆     ┆ ---        ┆ ---        ┆ ---        ┆ ---    │\n",
       "│ str      ┆ str      ┆ i64        ┆ i64        ┆     ┆ f64        ┆ f64        ┆ str        ┆ str    │\n",
       "╞══════════╪══════════╪════════════╪════════════╪═════╪════════════╪════════════╪════════════╪════════╡\n",
       "│ 0x0fe669 ┆ 0xf480fa ┆ 16816495   ┆ 1678679339 ┆ ... ┆ 2.2207e10  ┆ 22155.8123 ┆ 0x06df3b2b ┆ balanc │\n",
       "│ 4f0eee10 ┆ b87c07ec ┆            ┆            ┆     ┆            ┆ 2          ┆ bb68adc8b0 ┆ er-v2- │\n",
       "│ 068a70a0 ┆ 2ddd68a8 ┆            ┆            ┆     ┆            ┆            ┆ e302443692 ┆ ethere │\n",
       "│ fbef7a01 ┆ 3ec0319b ┆            ┆            ┆     ┆            ┆            ┆ 03...      ┆ um     │\n",
       "│ ...      ┆ ...      ┆            ┆            ┆     ┆            ┆            ┆            ┆        │\n",
       "│ 0xfac623 ┆ 0x7fcc93 ┆ 16816376   ┆ 1678677899 ┆ ... ┆ 1.2191e9   ┆ 1216.31829 ┆ 0xff4ce5aa ┆ balanc │\n",
       "│ 0360b8e0 ┆ 3f6042f8 ┆            ┆            ┆     ┆            ┆ 7          ┆ ab5a627bf8 ┆ er-v2- │\n",
       "│ 39b9f38d ┆ 40864886 ┆            ┆            ┆     ┆            ┆            ┆ 2f4a571ab1 ┆ ethere │\n",
       "│ 9dd6f5ee ┆ fa7f32e0 ┆            ┆            ┆     ┆            ┆            ┆ ce...      ┆ um     │\n",
       "│ ...      ┆ ...      ┆            ┆            ┆     ┆            ┆            ┆            ┆        │\n",
       "└──────────┴──────────┴────────────┴────────────┴─────┴────────────┴────────────┴────────────┴────────┘"
      ]
     },
     "execution_count": 32,
     "metadata": {},
     "output_type": "execute_result"
    }
   ],
   "source": [
    "usdc_outflow.head(2)"
   ]
  },
  {
   "cell_type": "code",
   "execution_count": 20,
   "metadata": {},
   "outputs": [
    {
     "name": "stdout",
     "output_type": "stream",
     "text": [
      "usdc_inflow size: 495582\n",
      "usdc_outflow size: 453045\n"
     ]
    }
   ],
   "source": [
    "print(f'usdc_inflow size: {usdc_inflow.shape[0]}')\n",
    "print(f'usdc_outflow size: {usdc_outflow.shape[0]}')"
   ]
  },
  {
   "cell_type": "code",
   "execution_count": 38,
   "metadata": {},
   "outputs": [],
   "source": [
    "# group usd_inflow amountInUSD by endpoint\n",
    "usdc_inflow_grouped = usdc_inflow.groupby('endpoint').agg([pl.sum('swaps_amountInUSD')]).sort('swaps_amountInUSD', descending=True)\n",
    "usdc_outflow_grouped = usdc_outflow.groupby('endpoint').agg([pl.sum('swaps_amountOutUSD')]).sort('swaps_amountOutUSD', descending=True)"
   ]
  },
  {
   "cell_type": "code",
   "execution_count": 40,
   "metadata": {},
   "outputs": [],
   "source": [
    "# join usdc_inflow_grouped and usdc_outflow_grouped\n",
    "usdc_inflow_outflow = usdc_inflow_grouped.join(usdc_outflow_grouped, on='endpoint', how='inner')"
   ]
  },
  {
   "cell_type": "code",
   "execution_count": 53,
   "metadata": {},
   "outputs": [
    {
     "data": {
      "text/html": [
       "<div><style>\n",
       ".dataframe > thead > tr > th,\n",
       ".dataframe > tbody > tr > td {\n",
       "  text-align: right;\n",
       "}\n",
       "</style>\n",
       "<small>shape: (11, 3)</small><table border=\"1\" class=\"dataframe\"><thead><tr><th>endpoint</th><th>swaps_amountInUSD</th><th>swaps_amountOutUSD</th></tr><tr><td>str</td><td>f64</td><td>f64</td></tr></thead><tbody><tr><td>&quot;uniswap-v3-eth...</td><td>7.9299e9</td><td>7.7242e9</td></tr><tr><td>&quot;curve-finance-...</td><td>3.7120e9</td><td>3.3470e9</td></tr><tr><td>&quot;curve-finance-...</td><td>9.4535e8</td><td>1.6442e9</td></tr><tr><td>&quot;uniswap-v3-arb...</td><td>4.3843e8</td><td>4.3180e8</td></tr><tr><td>&quot;uniswap-v3-pol...</td><td>2.5964e8</td><td>2.5255e8</td></tr><tr><td>&quot;uniswap-v3-opt...</td><td>1.0138e8</td><td>1.0128e8</td></tr><tr><td>&quot;curve-finance-...</td><td>6.3277e7</td><td>6.2833e7</td></tr><tr><td>&quot;curve-finance-...</td><td>4.9914e7</td><td>5.7654e7</td></tr><tr><td>&quot;balancer-v2-et...</td><td>1.2431e8</td><td>2.9024e7</td></tr><tr><td>&quot;balancer-v2-po...</td><td>2.3111e7</td><td>2.1750e7</td></tr><tr><td>&quot;balancer-v2-ar...</td><td>6.8672e6</td><td>3.7932e6</td></tr></tbody></table></div>"
      ],
      "text/plain": [
       "shape: (11, 3)\n",
       "┌────────────────────────┬───────────────────┬────────────────────┐\n",
       "│ endpoint               ┆ swaps_amountInUSD ┆ swaps_amountOutUSD │\n",
       "│ ---                    ┆ ---               ┆ ---                │\n",
       "│ str                    ┆ f64               ┆ f64                │\n",
       "╞════════════════════════╪═══════════════════╪════════════════════╡\n",
       "│ uniswap-v3-ethereum    ┆ 7.9299e9          ┆ 7.7242e9           │\n",
       "│ curve-finance-ethereum ┆ 3.7120e9          ┆ 3.3470e9           │\n",
       "│ curve-finance-polygon  ┆ 9.4535e8          ┆ 1.6442e9           │\n",
       "│ uniswap-v3-arbitrum    ┆ 4.3843e8          ┆ 4.3180e8           │\n",
       "│ ...                    ┆ ...               ┆ ...                │\n",
       "│ curve-finance-optimism ┆ 4.9914e7          ┆ 5.7654e7           │\n",
       "│ balancer-v2-ethereum   ┆ 1.2431e8          ┆ 2.9024e7           │\n",
       "│ balancer-v2-polygon    ┆ 2.3111e7          ┆ 2.1750e7           │\n",
       "│ balancer-v2-arbitrum   ┆ 6.8672e6          ┆ 3.7932e6           │\n",
       "└────────────────────────┴───────────────────┴────────────────────┘"
      ]
     },
     "execution_count": 53,
     "metadata": {},
     "output_type": "execute_result"
    }
   ],
   "source": [
    "usdc_inflow_outflow"
   ]
  },
  {
   "cell_type": "code",
   "execution_count": 64,
   "metadata": {},
   "outputs": [
    {
     "name": "stdout",
     "output_type": "stream",
     "text": [
      "The sum of the swaps_amountInUSD is $13,654,212,075.57\n",
      "The sum of the swaps_amountOutUSD is $13,675,993,253.36\n"
     ]
    }
   ],
   "source": [
    "# print the sum of the swaps_amountInUSD and swaps_amountOutUSD\n",
    "print(f'Period from March 9th, 2023 (Thursday) to March 13th, 2023 (Monday)')\n",
    "print(f'The sum of the swaps_amountInUSD is ${usdc_inflow_outflow[\"swaps_amountInUSD\"].sum():,.2f}')\n",
    "print(f'The sum of the swaps_amountOutUSD is ${usdc_inflow_outflow[\"swaps_amountOutUSD\"].sum():,.2f}')"
   ]
  },
  {
   "cell_type": "code",
   "execution_count": 60,
   "metadata": {},
   "outputs": [
    {
     "name": "stdout",
     "output_type": "stream",
     "text": [
      "The swaps_amountInUSD for uniswap-v3-ethereum is $7,929,918,217.41\n",
      "The swaps_amountInUSD for curve-finance-ethereum is $3,712,026,694.38\n",
      "The swaps_amountInUSD for curve-finance-polygon is $945,345,119.73\n",
      "The swaps_amountInUSD for uniswap-v3-arbitrum is $438,425,898.17\n",
      "The swaps_amountInUSD for uniswap-v3-polygon is $259,643,909.12\n",
      "The swaps_amountInUSD for uniswap-v3-optimism is $101,375,075.47\n",
      "The swaps_amountInUSD for curve-finance-arbitrum is $63,277,140.58\n",
      "The swaps_amountInUSD for curve-finance-optimism is $49,913,655.06\n",
      "The swaps_amountInUSD for balancer-v2-ethereum is $124,308,160.29\n",
      "The swaps_amountInUSD for balancer-v2-polygon is $23,110,957.92\n"
     ]
    }
   ],
   "source": [
    "# for the first 5 rows, print the swaps_amountInUSD and swaps_amountOutUSD\n",
    "\n",
    "for i in range(0,10):\n",
    "    print(f'The swaps_amountInUSD for {usdc_inflow_outflow[\"endpoint\"][i]} is ${usdc_inflow_outflow[\"swaps_amountInUSD\"][i]:,.2f}')"
   ]
  },
  {
   "cell_type": "code",
   "execution_count": 63,
   "metadata": {},
   "outputs": [
    {
     "name": "stderr",
     "output_type": "stream",
     "text": [
      "/tmp/ipykernel_385029/1368020884.py:14: UserWarning: FixedFormatter should only be used together with FixedLocator\n",
      "  ax.set_yticklabels(new_labels)\n"
     ]
    },
    {
     "data": {
      "image/png": "[encoded data removed]",
      "text/plain": [
       "<Figure size 1000x500 with 1 Axes>"
      ]
     },
     "metadata": {},
     "output_type": "display_data"
    }
   ],
   "source": [
    "# This chart shows how much dollar volume value is attributed to each protocol on each chain. Top chains in order are Ethereum, Polygon, then Arbitrum\n",
    "fig, ax = plt.subplots(1, 1, figsize=(2, 2))\n",
    "\n",
    "# convert to pandas and plot histograms. Label the x-axis and y-axis\n",
    "usdc_inflow_outflow.to_pandas().plot(kind='bar', x='endpoint', figsize=(10, 5), ax=ax, title='USDC Inflow and Outflow (in USD)')\n",
    "plt.ylabel('USDC Volume (in USD)')\n",
    "plt.xlabel('Subgraph Endpoint')\n",
    "\n",
    "# getting the array of values of y-axis\n",
    "ticks = ax.get_yticks()\n",
    "# formatted the values into strings beginning with dollar sign\n",
    "new_labels = [f'${amt:,.0f}' for amt in ticks]\n",
    "# Set the new labels\n",
    "ax.set_yticklabels(new_labels)\n",
    "plt.show();"
   ]
  },
  {
   "cell_type": "code",
   "execution_count": null,
   "metadata": {},
   "outputs": [],
   "source": []
  }
 ],
 "metadata": {
  "kernelspec": {
   "display_name": ".venv",
   "language": "python",
   "name": "python3"
  },
  "language_info": {
   "codemirror_mode": {
    "name": "ipython",
    "version": 3
   },
   "file_extension": ".py",
   "mimetype": "text/x-python",
   "name": "python",
   "nbconvert_exporter": "python",
   "pygments_lexer": "ipython3",
   "version": "3.10.6"
  },
  "orig_nbformat": 4
 },
 "nbformat": 4,
 "nbformat_minor": 2
}
