{
 "cells": [
  {
   "cell_type": "code",
   "execution_count": 1,
   "metadata": {},
   "outputs": [
    {
     "data": {
      "text/plain": [
       "polars.config.Config"
      ]
     },
     "execution_count": 1,
     "metadata": {},
     "output_type": "execute_result"
    }
   ],
   "source": [
    "from queryportal.subgraphinterface import SubgraphInterface as sgi\n",
    "from datetime import datetime, timedelta\n",
    "\n",
    "import polars as pl\n",
    "pl.Config.set_fmt_str_lengths(200)"
   ]
  },
  {
   "cell_type": "code",
   "execution_count": 2,
   "metadata": {},
   "outputs": [],
   "source": [
    "endpoints = ['https://api.thegraph.com/subgraphs/name/denverbaumgartner/rubiconv2-optimism-mainnet',\n",
    "             'https://api.thegraph.com/subgraphs/name/denverbaumgartner/rubiconv2-optimism-goerli',\n",
    "             'https://api.thegraph.com/subgraphs/name/denverbaumgartner/rubiconv2-arbitrum-goerli',\n",
    "             'https://api.thegraph.com/subgraphs/name/denverbaumgartner/rubiconv2-polygon-mumbai'\n",
    "             ]"
   ]
  },
  {
   "cell_type": "code",
   "execution_count": 3,
   "metadata": {},
   "outputs": [],
   "source": [
    "sgi = sgi(endpoints=endpoints)"
   ]
  },
  {
   "cell_type": "code",
   "execution_count": 14,
   "metadata": {},
   "outputs": [],
   "source": [
    "query_size = 5000\n",
    "\n",
    "filter_dict = {\n",
    "    # 'timestamp_gte': int((datetime.today() - timedelta(hours=1)).timestamp()),\n",
    "    'timestamp_gte': int((datetime(2023, 4, 26) - timedelta(hours=1)).timestamp()),\n",
    "    'timestamp_lte': int(datetime(2023, 4, 26).timestamp())\n",
    "}"
   ]
  },
  {
   "cell_type": "code",
   "execution_count": 39,
   "metadata": {},
   "outputs": [
    {
     "name": "stdout",
     "output_type": "stream",
     "text": [
      "Subgraph endpoint: rubiconv2-optimism-mainnet with type <class 'subgrounds.subgraph.subgraph.Subgraph'>\n",
      "Shape: (5000, 14)\n",
      "Schema: {'timestamp': Int64, 'index': Int64, 'pay_gem': Utf8, 'buy_gem': Utf8, 'pay_amt': Float64, 'buy_amt': Float64, 'paid_amt': Float64, 'bought_amt': Float64, 'price': Float64, 'open': Boolean, 'removed_timestamp': Int64, 'removed_block': Int64, 'transaction_id': Utf8, 'maker_id': Utf8}\n",
      "Function 'query_entity' executed in 5.9866s\n"
     ]
    }
   ],
   "source": [
    "df1 = sgi.query_entity(\n",
    "    entity='offers',\n",
    "    name='rubiconv2-optimism-mainnet',\n",
    "    query_size=query_size,\n",
    "    filter_dict=filter_dict\n",
    ")"
   ]
  },
  {
   "cell_type": "code",
   "execution_count": 40,
   "metadata": {},
   "outputs": [
    {
     "name": "stdout",
     "output_type": "stream",
     "text": [
      "Subgraph endpoint: rubiconv2-optimism-mainnet with type <class 'subgrounds.subgraph.subgraph.Subgraph'>\n",
      "Shape: (5000, 3)\n",
      "Schema: {'timestamp': Int64, 'block_number': Int64, 'block_index': Int64}\n",
      "Function 'query_entity' executed in 3.5201s\n"
     ]
    }
   ],
   "source": [
    "df2 = sgi.query_entity(\n",
    "    entity='transactions',\n",
    "    name='rubiconv2-optimism-mainnet',\n",
    "    query_size=query_size,\n",
    "    filter_dict=filter_dict\n",
    ")"
   ]
  },
  {
   "cell_type": "code",
   "execution_count": 41,
   "metadata": {},
   "outputs": [
    {
     "name": "stdout",
     "output_type": "stream",
     "text": [
      "Subgraph endpoint: rubiconv2-optimism-mainnet with type <class 'subgrounds.subgraph.subgraph.Subgraph'>\n",
      "filter_dict is empty. Returning empty dictionary\n",
      "Shape: (5000, 8)\n",
      "Schema: {'timestamp': Int64, 'index': Int64, 'input_gem': Utf8, 'output_gem': Utf8, 'input_amt': Float64, 'output_amt': Float64, 'transaction_id': Utf8, 'swapper_id': Utf8}\n",
      "Function 'query_entity' executed in 5.2401s\n"
     ]
    }
   ],
   "source": [
    "df3 = sgi.query_entity(\n",
    "    entity='swaps',\n",
    "    name='rubiconv2-optimism-mainnet',\n",
    "    query_size=query_size\n",
    ")"
   ]
  },
  {
   "cell_type": "code",
   "execution_count": null,
   "metadata": {},
   "outputs": [],
   "source": []
  }
 ],
 "metadata": {
  "kernelspec": {
   "display_name": ".venv",
   "language": "python",
   "name": "python3"
  },
  "language_info": {
   "codemirror_mode": {
    "name": "ipython",
    "version": 3
   },
   "file_extension": ".py",
   "mimetype": "text/x-python",
   "name": "python",
   "nbconvert_exporter": "python",
   "pygments_lexer": "ipython3",
   "version": "3.10.6"
  },
  "orig_nbformat": 4
 },
 "nbformat": 4,
 "nbformat_minor": 2
}
