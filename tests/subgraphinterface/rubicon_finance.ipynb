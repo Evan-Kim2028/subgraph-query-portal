{
 "cells": [
  {
   "cell_type": "code",
   "execution_count": 2,
   "metadata": {},
   "outputs": [
    {
     "data": {
      "text/plain": [
       "polars.config.Config"
      ]
     },
     "execution_count": 2,
     "metadata": {},
     "output_type": "execute_result"
    }
   ],
   "source": [
    "from queryportal.subgraphinterface import SubgraphInterface as sgi\n",
    "\n",
    "import polars as pl\n",
    "pl.Config.set_fmt_str_lengths(200)"
   ]
  },
  {
   "cell_type": "code",
   "execution_count": 3,
   "metadata": {},
   "outputs": [],
   "source": [
    "sgi = sgi(endpoints='https://api.thegraph.com/subgraphs/name/denverbaumgartner/optimismmarketaid')"
   ]
  },
  {
   "cell_type": "code",
   "execution_count": 6,
   "metadata": {},
   "outputs": [
    {
     "name": "stdout",
     "output_type": "stream",
     "text": [
      "Subgraph endpoint: optimismmarketaid with type <class 'subgrounds.subgraph.subgraph.Subgraph'>\n",
      "filter_dict is empty. Returning empty dictionary\n",
      "Shape: (5, 7)\n",
      "Schema: {'timestamp': Int64, 'amount': Float64, 'profit': Int64, 'transaction_id': Utf8, 'aid_id': Utf8, 'asset_id': Utf8, 'quote_id': Utf8}\n",
      "Function 'query_entity' executed in 0.8592s\n"
     ]
    }
   ],
   "source": [
    "df1 = sgi.query_entity(\n",
    "    entity='arbs',\n",
    ")"
   ]
  },
  {
   "cell_type": "code",
   "execution_count": 7,
   "metadata": {},
   "outputs": [
    {
     "data": {
      "text/html": [
       "<div><style>\n",
       ".dataframe > thead > tr > th,\n",
       ".dataframe > tbody > tr > td {\n",
       "  text-align: right;\n",
       "}\n",
       "</style>\n",
       "<small>shape: (5, 7)</small><table border=\"1\" class=\"dataframe\"><thead><tr><th>timestamp</th><th>amount</th><th>profit</th><th>transaction_id</th><th>aid_id</th><th>asset_id</th><th>quote_id</th></tr><tr><td>i64</td><td>f64</td><td>i64</td><td>str</td><td>str</td><td>str</td><td>str</td></tr></thead><tbody><tr><td>1677685417</td><td>2.4791305e7</td><td>1666</td><td>&quot;0x0033b3d14c37de2c5674ce28f626655dfbf676d1202ef47fb92976bd8eb119b0&quot;</td><td>&quot;0x32ada6fbaffdf9e8b85a489fadad6ad74d7b4e5d&quot;</td><td>&quot;0x7f5c764cbc14f9669b88837ca1490cca17c31607&quot;</td><td>&quot;0x4200000000000000000000000000000000000006&quot;</td></tr><tr><td>1677685417</td><td>4.0574e16</td><td>2656877162571</td><td>&quot;0x0033b3d14c37de2c5674ce28f626655dfbf676d1202ef47fb92976bd8eb119b0&quot;</td><td>&quot;0x32ada6fbaffdf9e8b85a489fadad6ad74d7b4e5d&quot;</td><td>&quot;0x4200000000000000000000000000000000000006&quot;</td><td>&quot;0x7f5c764cbc14f9669b88837ca1490cca17c31607&quot;</td></tr><tr><td>1677961775</td><td>1.0997e19</td><td>5975144560200552</td><td>&quot;0x003d704f2ce974c73cfb5e543420e462ea904b9e6900310f9d2594f839d4f26a&quot;</td><td>&quot;0x32ada6fbaffdf9e8b85a489fadad6ad74d7b4e5d&quot;</td><td>&quot;0xda10009cbd5d07dd0cecc66161fc93d7c9000da1&quot;</td><td>&quot;0x4200000000000000000000000000000000000006&quot;</td></tr><tr><td>1679009935</td><td>2.1389e13</td><td>32185700851</td><td>&quot;0x004371474756c4c0f61537ceb957156068d97b8fc1eda0bd7edc6cf3e1a9f7d4&quot;</td><td>&quot;0x32ada6fbaffdf9e8b85a489fadad6ad74d7b4e5d&quot;</td><td>&quot;0x4200000000000000000000000000000000000006&quot;</td><td>&quot;0x94b008aa00579c1307b0ef2c499ad98a8ce58e58&quot;</td></tr><tr><td>1677490229</td><td>4.9989e13</td><td>1082151024</td><td>&quot;0x004923d2a01df32fffcbe1dadc296ac07f9484eaac8e2b9589bf149cf65951d0&quot;</td><td>&quot;0x32ada6fbaffdf9e8b85a489fadad6ad74d7b4e5d&quot;</td><td>&quot;0x4200000000000000000000000000000000000006&quot;</td><td>&quot;0x7f5c764cbc14f9669b88837ca1490cca17c31607&quot;</td></tr></tbody></table></div>"
      ],
      "text/plain": [
       "shape: (5, 7)\n",
       "┌────────────┬─────────────┬──────────────┬────────────┬──────────────┬──────────────┬─────────────┐\n",
       "│ timestamp  ┆ amount      ┆ profit       ┆ transactio ┆ aid_id       ┆ asset_id     ┆ quote_id    │\n",
       "│ ---        ┆ ---         ┆ ---          ┆ n_id       ┆ ---          ┆ ---          ┆ ---         │\n",
       "│ i64        ┆ f64         ┆ i64          ┆ ---        ┆ str          ┆ str          ┆ str         │\n",
       "│            ┆             ┆              ┆ str        ┆              ┆              ┆             │\n",
       "╞════════════╪═════════════╪══════════════╪════════════╪══════════════╪══════════════╪═════════════╡\n",
       "│ 1677685417 ┆ 2.4791305e7 ┆ 1666         ┆ 0x0033b3d1 ┆ 0x32ada6fbaf ┆ 0x7f5c764cbc ┆ 0x420000000 │\n",
       "│            ┆             ┆              ┆ 4c37de2c56 ┆ fdf9e8b85a48 ┆ 14f9669b8883 ┆ 00000000000 │\n",
       "│            ┆             ┆              ┆ 74ce28f626 ┆ 9fadad6ad74d ┆ 7ca1490cca17 ┆ 00000000000 │\n",
       "│            ┆             ┆              ┆ 655dfbf676 ┆ 7b4e5d       ┆ c31607       ┆ 000000006   │\n",
       "│            ┆             ┆              ┆ d1202ef47f ┆              ┆              ┆             │\n",
       "│            ┆             ┆              ┆ b92976bd8e ┆              ┆              ┆             │\n",
       "│            ┆             ┆              ┆ b119b0     ┆              ┆              ┆             │\n",
       "│ 1677685417 ┆ 4.0574e16   ┆ 265687716257 ┆ 0x0033b3d1 ┆ 0x32ada6fbaf ┆ 0x4200000000 ┆ 0x7f5c764cb │\n",
       "│            ┆             ┆ 1            ┆ 4c37de2c56 ┆ fdf9e8b85a48 ┆ 000000000000 ┆ c14f9669b88 │\n",
       "│            ┆             ┆              ┆ 74ce28f626 ┆ 9fadad6ad74d ┆ 000000000000 ┆ 837ca1490cc │\n",
       "│            ┆             ┆              ┆ 655dfbf676 ┆ 7b4e5d       ┆ 000006       ┆ a17c31607   │\n",
       "│            ┆             ┆              ┆ d1202ef47f ┆              ┆              ┆             │\n",
       "│            ┆             ┆              ┆ b92976bd8e ┆              ┆              ┆             │\n",
       "│            ┆             ┆              ┆ b119b0     ┆              ┆              ┆             │\n",
       "│ 1677961775 ┆ 1.0997e19   ┆ 597514456020 ┆ 0x003d704f ┆ 0x32ada6fbaf ┆ 0xda10009cbd ┆ 0x420000000 │\n",
       "│            ┆             ┆ 0552         ┆ 2ce974c73c ┆ fdf9e8b85a48 ┆ 5d07dd0cecc6 ┆ 00000000000 │\n",
       "│            ┆             ┆              ┆ fb5e543420 ┆ 9fadad6ad74d ┆ 6161fc93d7c9 ┆ 00000000000 │\n",
       "│            ┆             ┆              ┆ e462ea904b ┆ 7b4e5d       ┆ 000da1       ┆ 000000006   │\n",
       "│            ┆             ┆              ┆ 9e6900310f ┆              ┆              ┆             │\n",
       "│            ┆             ┆              ┆ 9d2594f839 ┆              ┆              ┆             │\n",
       "│            ┆             ┆              ┆ d4f26a     ┆              ┆              ┆             │\n",
       "│ 1679009935 ┆ 2.1389e13   ┆ 32185700851  ┆ 0x00437147 ┆ 0x32ada6fbaf ┆ 0x4200000000 ┆ 0x94b008aa0 │\n",
       "│            ┆             ┆              ┆ 4756c4c0f6 ┆ fdf9e8b85a48 ┆ 000000000000 ┆ 0579c1307b0 │\n",
       "│            ┆             ┆              ┆ 1537ceb957 ┆ 9fadad6ad74d ┆ 000000000000 ┆ ef2c499ad98 │\n",
       "│            ┆             ┆              ┆ 156068d97b ┆ 7b4e5d       ┆ 000006       ┆ a8ce58e58   │\n",
       "│            ┆             ┆              ┆ 8fc1eda0bd ┆              ┆              ┆             │\n",
       "│            ┆             ┆              ┆ 7edc6cf3e1 ┆              ┆              ┆             │\n",
       "│            ┆             ┆              ┆ a9f7d4     ┆              ┆              ┆             │\n",
       "│ 1677490229 ┆ 4.9989e13   ┆ 1082151024   ┆ 0x004923d2 ┆ 0x32ada6fbaf ┆ 0x4200000000 ┆ 0x7f5c764cb │\n",
       "│            ┆             ┆              ┆ a01df32fff ┆ fdf9e8b85a48 ┆ 000000000000 ┆ c14f9669b88 │\n",
       "│            ┆             ┆              ┆ cbe1dadc29 ┆ 9fadad6ad74d ┆ 000000000000 ┆ 837ca1490cc │\n",
       "│            ┆             ┆              ┆ 6ac07f9484 ┆ 7b4e5d       ┆ 000006       ┆ a17c31607   │\n",
       "│            ┆             ┆              ┆ eaac8e2b95 ┆              ┆              ┆             │\n",
       "│            ┆             ┆              ┆ 89bf149cf6 ┆              ┆              ┆             │\n",
       "│            ┆             ┆              ┆ 5951d0     ┆              ┆              ┆             │\n",
       "└────────────┴─────────────┴──────────────┴────────────┴──────────────┴──────────────┴─────────────┘"
      ]
     },
     "execution_count": 7,
     "metadata": {},
     "output_type": "execute_result"
    }
   ],
   "source": [
    "df1"
   ]
  },
  {
   "cell_type": "code",
   "execution_count": 8,
   "metadata": {},
   "outputs": [
    {
     "name": "stdout",
     "output_type": "stream",
     "text": [
      "Subgraph endpoint: optimismmarketaid with type <class 'subgrounds.subgraph.subgraph.Subgraph'>\n",
      "filter_dict is empty. Returning empty dictionary\n",
      "Shape: (5, 7)\n",
      "Schema: {'timestamp': Int64, 'index': Int64, 'amount': Float64, 'user': Utf8, 'aid_id': Utf8, 'aid_token_id': Utf8, 'transaction_id': Utf8}\n",
      "Function 'query_entity' executed in 0.2973s\n"
     ]
    }
   ],
   "source": [
    "df2 = sgi.query_entity(\n",
    "    entity='bookUpdates',\n",
    ")"
   ]
  },
  {
   "cell_type": "code",
   "execution_count": 9,
   "metadata": {},
   "outputs": [
    {
     "data": {
      "text/html": [
       "<div><style>\n",
       ".dataframe > thead > tr > th,\n",
       ".dataframe > tbody > tr > td {\n",
       "  text-align: right;\n",
       "}\n",
       "</style>\n",
       "<small>shape: (5, 7)</small><table border=\"1\" class=\"dataframe\"><thead><tr><th>timestamp</th><th>index</th><th>amount</th><th>user</th><th>aid_id</th><th>aid_token_id</th><th>transaction_id</th></tr><tr><td>i64</td><td>i64</td><td>f64</td><td>str</td><td>str</td><td>str</td><td>str</td></tr></thead><tbody><tr><td>1677194444</td><td>1</td><td>1.0000e18</td><td>&quot;0x3204ac6f848e05557c6c7876e09059882e07962f&quot;</td><td>&quot;0x32ada6fbaffdf9e8b85a489fadad6ad74d7b4e5d&quot;</td><td>&quot;0x32ada6fbaffdf9e8b85a489fadad6ad74d7b4e5d4200000000000000000000000000000000000006&quot;</td><td>&quot;0x060d763030a1c9e186883a45dcdcaedded9450110bc696cb3e254a6726b6d606&quot;</td></tr><tr><td>1677727035</td><td>1</td><td>2.4200e17</td><td>&quot;0x3204ac6f848e05557c6c7876e09059882e07962f&quot;</td><td>&quot;0x32ada6fbaffdf9e8b85a489fadad6ad74d7b4e5d&quot;</td><td>&quot;0x32ada6fbaffdf9e8b85a489fadad6ad74d7b4e5d4200000000000000000000000000000000000006&quot;</td><td>&quot;0xc175fba3687597e106834d09d5f56502e99bf890078523d4b3b0c7ea2d861d89&quot;</td></tr><tr><td>1677194614</td><td>1</td><td>7.2000e17</td><td>&quot;0x3204ac6f848e05557c6c7876e09059882e07962f&quot;</td><td>&quot;0x32ada6fbaffdf9e8b85a489fadad6ad74d7b4e5d&quot;</td><td>&quot;0x32ada6fbaffdf9e8b85a489fadad6ad74d7b4e5d4200000000000000000000000000000000000006&quot;</td><td>&quot;0xf39933df67ce8729308ced85ca665fba4a3cfa58ccfd1c1eb89021ad6225c76d&quot;</td></tr><tr><td>1677712398</td><td>2</td><td>7.9000e20</td><td>&quot;0x3204ac6f848e05557c6c7876e09059882e07962f&quot;</td><td>&quot;0x32ada6fbaffdf9e8b85a489fadad6ad74d7b4e5d&quot;</td><td>&quot;0x32ada6fbaffdf9e8b85a489fadad6ad74d7b4e5d4200000000000000000000000000000000000042&quot;</td><td>&quot;0x9ff009900bb28363e6f13e25c3f65ad64abfdf53612d2d29e6c6d4df2935edde&quot;</td></tr><tr><td>1677194444</td><td>4</td><td>1.3240e9</td><td>&quot;0x3204ac6f848e05557c6c7876e09059882e07962f&quot;</td><td>&quot;0x32ada6fbaffdf9e8b85a489fadad6ad74d7b4e5d&quot;</td><td>&quot;0x32ada6fbaffdf9e8b85a489fadad6ad74d7b4e5d7f5c764cbc14f9669b88837ca1490cca17c31607&quot;</td><td>&quot;0x060d763030a1c9e186883a45dcdcaedded9450110bc696cb3e254a6726b6d606&quot;</td></tr></tbody></table></div>"
      ],
      "text/plain": [
       "shape: (5, 7)\n",
       "┌────────────┬───────┬───────────┬────────────────┬────────────────┬───────────────┬───────────────┐\n",
       "│ timestamp  ┆ index ┆ amount    ┆ user           ┆ aid_id         ┆ aid_token_id  ┆ transaction_i │\n",
       "│ ---        ┆ ---   ┆ ---       ┆ ---            ┆ ---            ┆ ---           ┆ d             │\n",
       "│ i64        ┆ i64   ┆ f64       ┆ str            ┆ str            ┆ str           ┆ ---           │\n",
       "│            ┆       ┆           ┆                ┆                ┆               ┆ str           │\n",
       "╞════════════╪═══════╪═══════════╪════════════════╪════════════════╪═══════════════╪═══════════════╡\n",
       "│ 1677194444 ┆ 1     ┆ 1.0000e18 ┆ 0x3204ac6f848e ┆ 0x32ada6fbaffd ┆ 0x32ada6fbaff ┆ 0x060d763030a │\n",
       "│            ┆       ┆           ┆ 05557c6c7876e0 ┆ f9e8b85a489fad ┆ df9e8b85a489f ┆ 1c9e186883a45 │\n",
       "│            ┆       ┆           ┆ 9059882e07962f ┆ ad6ad74d7b4e5d ┆ adad6ad74d7b4 ┆ dcdcaedded945 │\n",
       "│            ┆       ┆           ┆                ┆                ┆ e5d4200000000 ┆ 0110bc696cb3e │\n",
       "│            ┆       ┆           ┆                ┆                ┆ 0000000000000 ┆ 254a6726b6d60 │\n",
       "│            ┆       ┆           ┆                ┆                ┆ 0000000000000 ┆ 6             │\n",
       "│            ┆       ┆           ┆                ┆                ┆ 0006          ┆               │\n",
       "│ 1677727035 ┆ 1     ┆ 2.4200e17 ┆ 0x3204ac6f848e ┆ 0x32ada6fbaffd ┆ 0x32ada6fbaff ┆ 0xc175fba3687 │\n",
       "│            ┆       ┆           ┆ 05557c6c7876e0 ┆ f9e8b85a489fad ┆ df9e8b85a489f ┆ 597e106834d09 │\n",
       "│            ┆       ┆           ┆ 9059882e07962f ┆ ad6ad74d7b4e5d ┆ adad6ad74d7b4 ┆ d5f56502e99bf │\n",
       "│            ┆       ┆           ┆                ┆                ┆ e5d4200000000 ┆ 890078523d4b3 │\n",
       "│            ┆       ┆           ┆                ┆                ┆ 0000000000000 ┆ b0c7ea2d861d8 │\n",
       "│            ┆       ┆           ┆                ┆                ┆ 0000000000000 ┆ 9             │\n",
       "│            ┆       ┆           ┆                ┆                ┆ 0006          ┆               │\n",
       "│ 1677194614 ┆ 1     ┆ 7.2000e17 ┆ 0x3204ac6f848e ┆ 0x32ada6fbaffd ┆ 0x32ada6fbaff ┆ 0xf39933df67c │\n",
       "│            ┆       ┆           ┆ 05557c6c7876e0 ┆ f9e8b85a489fad ┆ df9e8b85a489f ┆ e8729308ced85 │\n",
       "│            ┆       ┆           ┆ 9059882e07962f ┆ ad6ad74d7b4e5d ┆ adad6ad74d7b4 ┆ ca665fba4a3cf │\n",
       "│            ┆       ┆           ┆                ┆                ┆ e5d4200000000 ┆ a58ccfd1c1eb8 │\n",
       "│            ┆       ┆           ┆                ┆                ┆ 0000000000000 ┆ 9021ad6225c76 │\n",
       "│            ┆       ┆           ┆                ┆                ┆ 0000000000000 ┆ d             │\n",
       "│            ┆       ┆           ┆                ┆                ┆ 0006          ┆               │\n",
       "│ 1677712398 ┆ 2     ┆ 7.9000e20 ┆ 0x3204ac6f848e ┆ 0x32ada6fbaffd ┆ 0x32ada6fbaff ┆ 0x9ff009900bb │\n",
       "│            ┆       ┆           ┆ 05557c6c7876e0 ┆ f9e8b85a489fad ┆ df9e8b85a489f ┆ 28363e6f13e25 │\n",
       "│            ┆       ┆           ┆ 9059882e07962f ┆ ad6ad74d7b4e5d ┆ adad6ad74d7b4 ┆ c3f65ad64abfd │\n",
       "│            ┆       ┆           ┆                ┆                ┆ e5d4200000000 ┆ f53612d2d29e6 │\n",
       "│            ┆       ┆           ┆                ┆                ┆ 0000000000000 ┆ c6d4df2935edd │\n",
       "│            ┆       ┆           ┆                ┆                ┆ 0000000000000 ┆ e             │\n",
       "│            ┆       ┆           ┆                ┆                ┆ 0042          ┆               │\n",
       "│ 1677194444 ┆ 4     ┆ 1.3240e9  ┆ 0x3204ac6f848e ┆ 0x32ada6fbaffd ┆ 0x32ada6fbaff ┆ 0x060d763030a │\n",
       "│            ┆       ┆           ┆ 05557c6c7876e0 ┆ f9e8b85a489fad ┆ df9e8b85a489f ┆ 1c9e186883a45 │\n",
       "│            ┆       ┆           ┆ 9059882e07962f ┆ ad6ad74d7b4e5d ┆ adad6ad74d7b4 ┆ dcdcaedded945 │\n",
       "│            ┆       ┆           ┆                ┆                ┆ e5d7f5c764cbc ┆ 0110bc696cb3e │\n",
       "│            ┆       ┆           ┆                ┆                ┆ 14f9669b88837 ┆ 254a6726b6d60 │\n",
       "│            ┆       ┆           ┆                ┆                ┆ ca1490cca17c3 ┆ 6             │\n",
       "│            ┆       ┆           ┆                ┆                ┆ 1607          ┆               │\n",
       "└────────────┴───────┴───────────┴────────────────┴────────────────┴───────────────┴───────────────┘"
      ]
     },
     "execution_count": 9,
     "metadata": {},
     "output_type": "execute_result"
    }
   ],
   "source": [
    "df2"
   ]
  },
  {
   "cell_type": "code",
   "execution_count": null,
   "metadata": {},
   "outputs": [],
   "source": []
  }
 ],
 "metadata": {
  "kernelspec": {
   "display_name": ".venv",
   "language": "python",
   "name": "python3"
  },
  "language_info": {
   "codemirror_mode": {
    "name": "ipython",
    "version": 3
   },
   "file_extension": ".py",
   "mimetype": "text/x-python",
   "name": "python",
   "nbconvert_exporter": "python",
   "pygments_lexer": "ipython3",
   "version": "3.10.6"
  },
  "orig_nbformat": 4
 },
 "nbformat": 4,
 "nbformat_minor": 2
}
