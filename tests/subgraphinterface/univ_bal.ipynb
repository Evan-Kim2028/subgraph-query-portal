{
 "cells": [
  {
   "cell_type": "code",
   "execution_count": 6,
   "metadata": {},
   "outputs": [
    {
     "data": {
      "text/plain": [
       "polars.config.Config"
      ]
     },
     "execution_count": 6,
     "metadata": {},
     "output_type": "execute_result"
    }
   ],
   "source": [
    "from queryportal.subgraphinterface import SubgraphInterface as sgi\n",
    "\n",
    "import polars as pl\n",
    "pl.Config.set_fmt_str_lengths(200)"
   ]
  },
  {
   "cell_type": "code",
   "execution_count": 7,
   "metadata": {},
   "outputs": [],
   "source": [
    "endpoints = ['https://api.thegraph.com/subgraphs/name/messari/uniswap-v3-ethereum', 'https://api.thegraph.com/subgraphs/name/messari/balancer-v2-ethereum']"
   ]
  },
  {
   "cell_type": "code",
   "execution_count": 8,
   "metadata": {},
   "outputs": [],
   "source": [
    "sgi = sgi(endpoints=endpoints)"
   ]
  },
  {
   "cell_type": "code",
   "execution_count": 15,
   "metadata": {},
   "outputs": [],
   "source": [
    "query_paths = [\n",
    "    'timestamp',\n",
    "    'hash',\n",
    "    'pool_name', \n",
    "    'tokenIn_symbol', \n",
    "    'tokenOut_symbol', \n",
    "    'amountOutUSD', \n",
    "    'amountInUSD',\n",
    "    'amountOut',\n",
    "    'amountIn'\n",
    "    ]\n",
    "\n",
    "filter_dict = {'tokenIn_symbol_in': [\"OHM\", \"GOHM\"]}"
   ]
  },
  {
   "cell_type": "code",
   "execution_count": 12,
   "metadata": {},
   "outputs": [
    {
     "name": "stdout",
     "output_type": "stream",
     "text": [
      "Subgraph endpoint: uniswap-v3-ethereum with type <class 'subgrounds.subgraph.subgraph.Subgraph'>\n",
      "Shape: (25, 9)\n",
      "Schema: {'timestamp': Int64, 'hash': Utf8, 'amountOutUSD': Float64, 'amountInUSD': Float64, 'amountOut': Float64, 'amountIn': Int64, 'pool_name': Utf8, 'tokenIn_symbol': Utf8, 'tokenOut_symbol': Utf8}\n",
      "Function 'query_entity' executed in 2.9970s\n",
      "Subgraph endpoint: balancer-v2-ethereum with type <class 'subgrounds.subgraph.subgraph.Subgraph'>\n",
      "Shape: (25, 9)\n",
      "Schema: {'timestamp': Int64, 'hash': Utf8, 'amountOutUSD': Float64, 'amountInUSD': Float64, 'amountOut': Float64, 'amountIn': Int64, 'pool_name': Utf8, 'tokenIn_symbol': Utf8, 'tokenOut_symbol': Utf8}\n",
      "Function 'query_entity' executed in 1.8183s\n"
     ]
    }
   ],
   "source": [
    "df1 = sgi.query_entity(\n",
    "    query_size=25,\n",
    "    entity='swaps',\n",
    "    name='uniswap-v3-ethereum', \n",
    "    query_paths=query_paths,\n",
    "    filter_dict=filter_dict\n",
    "    )\n",
    "\n",
    "df2 = sgi.query_entity(\n",
    "    query_size=25,\n",
    "    entity='swaps',\n",
    "    name='balancer-v2-ethereum',\n",
    "    query_paths=query_paths,\n",
    "    filter_dict=filter_dict\n",
    "    )"
   ]
  },
  {
   "cell_type": "code",
   "execution_count": 13,
   "metadata": {},
   "outputs": [],
   "source": [
    "# concat df1 and df2\n",
    "df3 = pl.concat([df1, df2])"
   ]
  },
  {
   "cell_type": "code",
   "execution_count": 14,
   "metadata": {},
   "outputs": [
    {
     "data": {
      "text/html": [
       "<div><style>\n",
       ".dataframe > thead > tr > th,\n",
       ".dataframe > tbody > tr > td {\n",
       "  text-align: right;\n",
       "}\n",
       "</style>\n",
       "<small>shape: (50, 9)</small><table border=\"1\" class=\"dataframe\"><thead><tr><th>timestamp</th><th>hash</th><th>amountOutUSD</th><th>amountInUSD</th><th>amountOut</th><th>amountIn</th><th>pool_name</th><th>tokenIn_symbol</th><th>tokenOut_symbol</th></tr><tr><td>i64</td><td>str</td><td>f64</td><td>f64</td><td>f64</td><td>i64</td><td>str</td><td>str</td><td>str</td></tr></thead><tbody><tr><td>1634756067</td><td>&quot;0x0000910cf5737a720185d4996f2756e3beb0b92d3b057cde31d8cf47337d101c&quot;</td><td>12335.028741</td><td>12471.350063</td><td>3.0029e18</td><td>13399766310</td><td>&quot;Uniswap V3 Olympus/Wrapped Ether 1%&quot;</td><td>&quot;OHM&quot;</td><td>&quot;WETH&quot;</td></tr><tr><td>1639795965</td><td>&quot;0x000310d6309fb7745ce965fb9cd611d2ec466b28e71e6a4501988b4c22e31b26&quot;</td><td>0.0</td><td>0.0</td><td>1.8258e11</td><td>193936123787</td><td>&quot;Uniswap V3 Olympus/Olympus 1%&quot;</td><td>&quot;OHM&quot;</td><td>&quot;OHM&quot;</td></tr><tr><td>1639795965</td><td>&quot;0x000310d6309fb7745ce965fb9cd611d2ec466b28e71e6a4501988b4c22e31b26&quot;</td><td>53806.330715</td><td>0.0</td><td>1.4129e19</td><td>182584604683</td><td>&quot;Uniswap V3 Olympus/Wrapped Ether 1%&quot;</td><td>&quot;OHM&quot;</td><td>&quot;WETH&quot;</td></tr><tr><td>1627683092</td><td>&quot;0x0004433a1f7aea61cbec3c9ccafe3864505c9bcc1696f1165b5e70e7cb410d29&quot;</td><td>500.383386</td><td>0.0</td><td>5.00383386e8</td><td>1010000000</td><td>&quot;Uniswap V3 Olympus/USD Coin 1%&quot;</td><td>&quot;OHM&quot;</td><td>&quot;USDC&quot;</td></tr><tr><td>1636639391</td><td>&quot;0x0006cd61bfde387714c2d555b345059c9ba06d3a4db4a19a3744c3f3f1a436e0&quot;</td><td>2411.474942</td><td>2378.778813</td><td>2.4115e9</td><td>2650066654</td><td>&quot;Uniswap V3 Olympus/USD Coin 0.3%&quot;</td><td>&quot;OHM&quot;</td><td>&quot;USDC&quot;</td></tr><tr><td>1634133471</td><td>&quot;0x00071a0ead844e332f8c94a7aceac46e390e1b456ef2c1754d41ecb9b1eb2aed&quot;</td><td>100476.841399</td><td>102430.490601</td><td>2.9159e19</td><td>84255500000</td><td>&quot;Uniswap V3 Olympus/Wrapped Ether 1%&quot;</td><td>&quot;OHM&quot;</td><td>&quot;WETH&quot;</td></tr><tr><td>1634133471</td><td>&quot;0x00071a0ead844e332f8c94a7aceac46e390e1b456ef2c1754d41ecb9b1eb2aed&quot;</td><td>5323.027398</td><td>5391.078453</td><td>5.3230e9</td><td>4434500000</td><td>&quot;Uniswap V3 Olympus/USD Coin 0.3%&quot;</td><td>&quot;OHM&quot;</td><td>&quot;USDC&quot;</td></tr><tr><td>1635491341</td><td>&quot;0x000d6efe310e83b9bbddf132a6449581b16f6cee4ba3e92e5d269b2c2cc0be17&quot;</td><td>64758.099445</td><td>65630.879666</td><td>1.4931e19</td><td>54676792500</td><td>&quot;Uniswap V3 Olympus/Wrapped Ether 1%&quot;</td><td>&quot;OHM&quot;</td><td>&quot;WETH&quot;</td></tr><tr><td>1631643588</td><td>&quot;0x000dd3aa27a4614d827ddae036fd1dd8dc4b1047002c0b97f2015abf619a8d9b&quot;</td><td>1346.98134</td><td>1361.101143</td><td>3.9966e17</td><td>3158509181</td><td>&quot;Uniswap V3 Olympus/Wrapped Ether 1%&quot;</td><td>&quot;OHM&quot;</td><td>&quot;WETH&quot;</td></tr><tr><td>1634122057</td><td>&quot;0x001130a40b8b5f96b6ec3225eabf5dbaf82dbbc11c25196d491ee3959101cf6d&quot;</td><td>42039.85276</td><td>42629.704114</td><td>1.2162e19</td><td>34500000000</td><td>&quot;Uniswap V3 Olympus/Wrapped Ether 1%&quot;</td><td>&quot;OHM&quot;</td><td>&quot;WETH&quot;</td></tr><tr><td>1633644544</td><td>&quot;0x00123a348fb6754fea78d5660ab237669615613cebf621f7b6ae59378093463a&quot;</td><td>7204.118047</td><td>7284.80223</td><td>1.9811e18</td><td>8753492028</td><td>&quot;Uniswap V3 Olympus/Wrapped Ether 1%&quot;</td><td>&quot;OHM&quot;</td><td>&quot;WETH&quot;</td></tr><tr><td>1646089083</td><td>&quot;0x0017af229cfa70220a113904efec88639385f540d28368ea7c3bf27249d2345d&quot;</td><td>0.0</td><td>0.0</td><td>6.2433e22</td><td>195324091647</td><td>&quot;Uniswap V3 Olympus/FIAT DAO Token 1%&quot;</td><td>&quot;OHM&quot;</td><td>&quot;FDT&quot;</td></tr><tr><td>&hellip;</td><td>&hellip;</td><td>&hellip;</td><td>&hellip;</td><td>&hellip;</td><td>&hellip;</td><td>&hellip;</td><td>&hellip;</td><td>&hellip;</td></tr><tr><td>1664598479</td><td>&quot;0x00659f0276c189b3beb337966b1077febb3e1b6c904ef1ebfd389cef464097fd&quot;</td><td>1023.553049</td><td>1038.966401</td><td>1.0238e21</td><td>99657489490</td><td>&quot;50OHM-25DAI-25WETH&quot;</td><td>&quot;OHM&quot;</td><td>&quot;DAI&quot;</td></tr><tr><td>1669562735</td><td>&quot;0x00678d6f42c1a0bb2ba300839f6c4fa7227b2b4a66fc81f18dcbba4274921526&quot;</td><td>14075.501966</td><td>14034.219264</td><td>1.1565e19</td><td>1727720188989</td><td>&quot;50OHM-25DAI-25WETH&quot;</td><td>&quot;OHM&quot;</td><td>&quot;WETH&quot;</td></tr><tr><td>1663208485</td><td>&quot;0x00713320dc606ef37fac317aa0793054ee7fbcb30ac8b023ed708b93b911828f&quot;</td><td>14731.411725</td><td>14890.799094</td><td>1.4735e22</td><td>1417491891216</td><td>&quot;50OHM-25DAI-25WETH&quot;</td><td>&quot;OHM&quot;</td><td>&quot;DAI&quot;</td></tr><tr><td>1673020187</td><td>&quot;0x007e2a6df1526b96615d2048c89dcb1d677c269962b255c1f2f27d0f7f166675&quot;</td><td>9986.744534</td><td>10070.30174</td><td>8.0076e18</td><td>1045508439299</td><td>&quot;50OHM-50WETH&quot;</td><td>&quot;OHM&quot;</td><td>&quot;WETH&quot;</td></tr><tr><td>1667849651</td><td>&quot;0x00827b1f35ff02945b605a4865c4f7ceb91a95812268fa462f67937e11a93f88&quot;</td><td>952.816445</td><td>950.332068</td><td>6.0253e17</td><td>95118737594</td><td>&quot;50OHM-25DAI-25WETH&quot;</td><td>&quot;OHM&quot;</td><td>&quot;WETH&quot;</td></tr><tr><td>1652465971</td><td>&quot;0x0084c9dc060419f3ec187e3ea722694fc78f169e3dda8d7c9bec4124480b1714&quot;</td><td>1995.765481</td><td>0.04607</td><td>1.0270e18</td><td>143521468439</td><td>&quot;50OHM-25DAI-25WETH&quot;</td><td>&quot;OHM&quot;</td><td>&quot;WETH&quot;</td></tr><tr><td>1670649083</td><td>&quot;0x008cbd3ca435203902db0c10783e573d391107a60f863a7e7dbb19ea022e799e&quot;</td><td>23788.846677</td><td>23240.826653</td><td>2.3788e22</td><td>2582143077307</td><td>&quot;50OHM-25DAI-25WETH&quot;</td><td>&quot;OHM&quot;</td><td>&quot;DAI&quot;</td></tr><tr><td>1674356147</td><td>&quot;0x00918e2667c39374146e99602ebc95adccddd48cb481af312c718d6cf214200f&quot;</td><td>7355.32465</td><td>2318.992837</td><td>4.4555e20</td><td>233855249047</td><td>&quot;50BOND-50OHM&quot;</td><td>&quot;OHM&quot;</td><td>&quot;BOND&quot;</td></tr><tr><td>1660745161</td><td>&quot;0x00a9987607b73ed1be95e723c69f99fce1388dd7d49ab34ee5ecd967f821d79c&quot;</td><td>12938.928526</td><td>12767.608096</td><td>6.9130e18</td><td>1014949347608</td><td>&quot;50OHM-25DAI-25WETH&quot;</td><td>&quot;OHM&quot;</td><td>&quot;WETH&quot;</td></tr><tr><td>1680722987</td><td>&quot;0x00a9e9c69720f2ec117adc874a9f40de431c78bf57e9c164301253c5872a02b1&quot;</td><td>449.899183</td><td>453.49953</td><td>2.4076e17</td><td>44840391265</td><td>&quot;50OHM-50WETH&quot;</td><td>&quot;OHM&quot;</td><td>&quot;WETH&quot;</td></tr><tr><td>1664803751</td><td>&quot;0x00ada8ade2094d5e2e1738790fa98707b7237ecb01588de40f787499eb10cd95&quot;</td><td>4040.399167</td><td>4124.776075</td><td>3.1325e18</td><td>416142407249</td><td>&quot;50OHM-25DAI-25WETH&quot;</td><td>&quot;OHM&quot;</td><td>&quot;WETH&quot;</td></tr><tr><td>1665713207</td><td>&quot;0x00af9103ba18c4ef67ec93b82e2fbad8264d88635bfaa68a1acddbc513e444a4&quot;</td><td>0.0</td><td>140.124897</td><td>3.0616e22</td><td>13843048016</td><td>&quot;20OHM-80FDT&quot;</td><td>&quot;OHM&quot;</td><td>&quot;FDT&quot;</td></tr></tbody></table></div>"
      ],
      "text/plain": [
       "shape: (50, 9)\n",
       "┌─────────┬───────────┬────────────┬───────────┬───┬──────────┬──────────┬────────────┬────────────┐\n",
       "│ timesta ┆ hash      ┆ amountOutU ┆ amountInU ┆ … ┆ amountIn ┆ pool_nam ┆ tokenIn_sy ┆ tokenOut_s │\n",
       "│ mp      ┆ ---       ┆ SD         ┆ SD        ┆   ┆ ---      ┆ e        ┆ mbol       ┆ ymbol      │\n",
       "│ ---     ┆ str       ┆ ---        ┆ ---       ┆   ┆ i64      ┆ ---      ┆ ---        ┆ ---        │\n",
       "│ i64     ┆           ┆ f64        ┆ f64       ┆   ┆          ┆ str      ┆ str        ┆ str        │\n",
       "╞═════════╪═══════════╪════════════╪═══════════╪═══╪══════════╪══════════╪════════════╪════════════╡\n",
       "│ 1634756 ┆ 0x0000910 ┆ 12335.0287 ┆ 12471.350 ┆ … ┆ 13399766 ┆ Uniswap  ┆ OHM        ┆ WETH       │\n",
       "│ 067     ┆ cf5737a72 ┆ 41         ┆ 063       ┆   ┆ 310      ┆ V3 Olymp ┆            ┆            │\n",
       "│         ┆ 0185d4996 ┆            ┆           ┆   ┆          ┆ us/Wrapp ┆            ┆            │\n",
       "│         ┆ f2756e3be ┆            ┆           ┆   ┆          ┆ ed Ether ┆            ┆            │\n",
       "│         ┆ b0b92d3b0 ┆            ┆           ┆   ┆          ┆ 1%       ┆            ┆            │\n",
       "│         ┆ 57cde31d8 ┆            ┆           ┆   ┆          ┆          ┆            ┆            │\n",
       "│         ┆ cf47337d1 ┆            ┆           ┆   ┆          ┆          ┆            ┆            │\n",
       "│         ┆ 01c       ┆            ┆           ┆   ┆          ┆          ┆            ┆            │\n",
       "│ 1639795 ┆ 0x000310d ┆ 0.0        ┆ 0.0       ┆ … ┆ 19393612 ┆ Uniswap  ┆ OHM        ┆ OHM        │\n",
       "│ 965     ┆ 6309fb774 ┆            ┆           ┆   ┆ 3787     ┆ V3 Olymp ┆            ┆            │\n",
       "│         ┆ 5ce965fb9 ┆            ┆           ┆   ┆          ┆ us/Olymp ┆            ┆            │\n",
       "│         ┆ cd611d2ec ┆            ┆           ┆   ┆          ┆ us 1%    ┆            ┆            │\n",
       "│         ┆ 466b28e71 ┆            ┆           ┆   ┆          ┆          ┆            ┆            │\n",
       "│         ┆ e6a450198 ┆            ┆           ┆   ┆          ┆          ┆            ┆            │\n",
       "│         ┆ 8b4c22e31 ┆            ┆           ┆   ┆          ┆          ┆            ┆            │\n",
       "│         ┆ b26       ┆            ┆           ┆   ┆          ┆          ┆            ┆            │\n",
       "│ 1639795 ┆ 0x000310d ┆ 53806.3307 ┆ 0.0       ┆ … ┆ 18258460 ┆ Uniswap  ┆ OHM        ┆ WETH       │\n",
       "│ 965     ┆ 6309fb774 ┆ 15         ┆           ┆   ┆ 4683     ┆ V3 Olymp ┆            ┆            │\n",
       "│         ┆ 5ce965fb9 ┆            ┆           ┆   ┆          ┆ us/Wrapp ┆            ┆            │\n",
       "│         ┆ cd611d2ec ┆            ┆           ┆   ┆          ┆ ed Ether ┆            ┆            │\n",
       "│         ┆ 466b28e71 ┆            ┆           ┆   ┆          ┆ 1%       ┆            ┆            │\n",
       "│         ┆ e6a450198 ┆            ┆           ┆   ┆          ┆          ┆            ┆            │\n",
       "│         ┆ 8b4c22e31 ┆            ┆           ┆   ┆          ┆          ┆            ┆            │\n",
       "│         ┆ b26       ┆            ┆           ┆   ┆          ┆          ┆            ┆            │\n",
       "│ 1627683 ┆ 0x0004433 ┆ 500.383386 ┆ 0.0       ┆ … ┆ 10100000 ┆ Uniswap  ┆ OHM        ┆ USDC       │\n",
       "│ 092     ┆ a1f7aea61 ┆            ┆           ┆   ┆ 00       ┆ V3 Olymp ┆            ┆            │\n",
       "│         ┆ cbec3c9cc ┆            ┆           ┆   ┆          ┆ us/USD   ┆            ┆            │\n",
       "│         ┆ afe386450 ┆            ┆           ┆   ┆          ┆ Coin 1%  ┆            ┆            │\n",
       "│         ┆ 5c9bcc169 ┆            ┆           ┆   ┆          ┆          ┆            ┆            │\n",
       "│         ┆ 6f1165b5e ┆            ┆           ┆   ┆          ┆          ┆            ┆            │\n",
       "│         ┆ 70e7cb410 ┆            ┆           ┆   ┆          ┆          ┆            ┆            │\n",
       "│         ┆ d29       ┆            ┆           ┆   ┆          ┆          ┆            ┆            │\n",
       "│ …       ┆ …         ┆ …          ┆ …         ┆ … ┆ …        ┆ …        ┆ …          ┆ …          │\n",
       "│ 1660745 ┆ 0x00a9987 ┆ 12938.9285 ┆ 12767.608 ┆ … ┆ 10149493 ┆ 50OHM-25 ┆ OHM        ┆ WETH       │\n",
       "│ 161     ┆ 607b73ed1 ┆ 26         ┆ 096       ┆   ┆ 47608    ┆ DAI-25WE ┆            ┆            │\n",
       "│         ┆ be95e723c ┆            ┆           ┆   ┆          ┆ TH       ┆            ┆            │\n",
       "│         ┆ 69f99fce1 ┆            ┆           ┆   ┆          ┆          ┆            ┆            │\n",
       "│         ┆ 388dd7d49 ┆            ┆           ┆   ┆          ┆          ┆            ┆            │\n",
       "│         ┆ ab34ee5ec ┆            ┆           ┆   ┆          ┆          ┆            ┆            │\n",
       "│         ┆ d967f821d ┆            ┆           ┆   ┆          ┆          ┆            ┆            │\n",
       "│         ┆ 79c       ┆            ┆           ┆   ┆          ┆          ┆            ┆            │\n",
       "│ 1680722 ┆ 0x00a9e9c ┆ 449.899183 ┆ 453.49953 ┆ … ┆ 44840391 ┆ 50OHM-50 ┆ OHM        ┆ WETH       │\n",
       "│ 987     ┆ 69720f2ec ┆            ┆           ┆   ┆ 265      ┆ WETH     ┆            ┆            │\n",
       "│         ┆ 117adc874 ┆            ┆           ┆   ┆          ┆          ┆            ┆            │\n",
       "│         ┆ a9f40de43 ┆            ┆           ┆   ┆          ┆          ┆            ┆            │\n",
       "│         ┆ 1c78bf57e ┆            ┆           ┆   ┆          ┆          ┆            ┆            │\n",
       "│         ┆ 9c1643012 ┆            ┆           ┆   ┆          ┆          ┆            ┆            │\n",
       "│         ┆ 53c5872a0 ┆            ┆           ┆   ┆          ┆          ┆            ┆            │\n",
       "│         ┆ 2b1       ┆            ┆           ┆   ┆          ┆          ┆            ┆            │\n",
       "│ 1664803 ┆ 0x00ada8a ┆ 4040.39916 ┆ 4124.7760 ┆ … ┆ 41614240 ┆ 50OHM-25 ┆ OHM        ┆ WETH       │\n",
       "│ 751     ┆ de2094d5e ┆ 7          ┆ 75        ┆   ┆ 7249     ┆ DAI-25WE ┆            ┆            │\n",
       "│         ┆ 2e1738790 ┆            ┆           ┆   ┆          ┆ TH       ┆            ┆            │\n",
       "│         ┆ fa98707b7 ┆            ┆           ┆   ┆          ┆          ┆            ┆            │\n",
       "│         ┆ 237ecb015 ┆            ┆           ┆   ┆          ┆          ┆            ┆            │\n",
       "│         ┆ 88de40f78 ┆            ┆           ┆   ┆          ┆          ┆            ┆            │\n",
       "│         ┆ 7499eb10c ┆            ┆           ┆   ┆          ┆          ┆            ┆            │\n",
       "│         ┆ d95       ┆            ┆           ┆   ┆          ┆          ┆            ┆            │\n",
       "│ 1665713 ┆ 0x00af910 ┆ 0.0        ┆ 140.12489 ┆ … ┆ 13843048 ┆ 20OHM-80 ┆ OHM        ┆ FDT        │\n",
       "│ 207     ┆ 3ba18c4ef ┆            ┆ 7         ┆   ┆ 016      ┆ FDT      ┆            ┆            │\n",
       "│         ┆ 67ec93b82 ┆            ┆           ┆   ┆          ┆          ┆            ┆            │\n",
       "│         ┆ e2fbad826 ┆            ┆           ┆   ┆          ┆          ┆            ┆            │\n",
       "│         ┆ 4d88635bf ┆            ┆           ┆   ┆          ┆          ┆            ┆            │\n",
       "│         ┆ aa68a1acd ┆            ┆           ┆   ┆          ┆          ┆            ┆            │\n",
       "│         ┆ dbc513e44 ┆            ┆           ┆   ┆          ┆          ┆            ┆            │\n",
       "│         ┆ 4a4       ┆            ┆           ┆   ┆          ┆          ┆            ┆            │\n",
       "└─────────┴───────────┴────────────┴───────────┴───┴──────────┴──────────┴────────────┴────────────┘"
      ]
     },
     "execution_count": 14,
     "metadata": {},
     "output_type": "execute_result"
    }
   ],
   "source": [
    "df3"
   ]
  },
  {
   "cell_type": "code",
   "execution_count": null,
   "metadata": {},
   "outputs": [],
   "source": []
  }
 ],
 "metadata": {
  "kernelspec": {
   "display_name": ".venv",
   "language": "python",
   "name": "python3"
  },
  "language_info": {
   "codemirror_mode": {
    "name": "ipython",
    "version": 3
   },
   "file_extension": ".py",
   "mimetype": "text/x-python",
   "name": "python",
   "nbconvert_exporter": "python",
   "pygments_lexer": "ipython3",
   "version": "3.10.6"
  },
  "orig_nbformat": 4
 },
 "nbformat": 4,
 "nbformat_minor": 2
}
