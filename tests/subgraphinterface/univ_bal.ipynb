{
 "cells": [
  {
   "cell_type": "code",
   "execution_count": 10,
   "metadata": {},
   "outputs": [
    {
     "data": {
      "text/plain": [
       "polars.config.Config"
      ]
     },
     "execution_count": 10,
     "metadata": {},
     "output_type": "execute_result"
    }
   ],
   "source": [
    "from queryportal.subgraphinterface import SubgraphInterface as sgi\n",
    "\n",
    "import polars as pl\n",
    "pl.Config.set_fmt_str_lengths(200)"
   ]
  },
  {
   "cell_type": "code",
   "execution_count": 11,
   "metadata": {},
   "outputs": [],
   "source": [
    "endpoints = ['https://api.thegraph.com/subgraphs/name/messari/uniswap-v3-ethereum', 'https://api.thegraph.com/subgraphs/name/messari/balancer-v2-ethereum']"
   ]
  },
  {
   "cell_type": "code",
   "execution_count": 12,
   "metadata": {},
   "outputs": [],
   "source": [
    "sgi = sgi(endpoints=endpoints)"
   ]
  },
  {
   "cell_type": "code",
   "execution_count": 13,
   "metadata": {},
   "outputs": [],
   "source": [
    "query_paths = [\n",
    "    'timestamp',\n",
    "    'hash',\n",
    "    'pool_name', \n",
    "    'tokenIn_symbol', \n",
    "    'tokenOut_symbol', \n",
    "    'amountOutUSD', \n",
    "    'amountInUSD',\n",
    "    'amountOut',\n",
    "    'amountIn'\n",
    "    ]"
   ]
  },
  {
   "cell_type": "code",
   "execution_count": 14,
   "metadata": {},
   "outputs": [
    {
     "name": "stdout",
     "output_type": "stream",
     "text": [
      "Subgraph endpoint: uniswap-v3-ethereum with type <class 'subgrounds.subgraph.subgraph.Subgraph'>\n",
      "filter_dict is empty. Returning empty dictionary\n",
      "Shape: (777, 9)\n",
      "Schema: {'timestamp': Int64, 'hash': Utf8, 'amountOutUSD': Float64, 'amountInUSD': Float64, 'amountOut': Float64, 'amountIn': Float64, 'pool_name': Utf8, 'tokenIn_symbol': Utf8, 'tokenOut_symbol': Utf8}\n",
      "Function 'query_entity' executed in 1.6797s\n",
      "Subgraph endpoint: balancer-v2-ethereum with type <class 'subgrounds.subgraph.subgraph.Subgraph'>\n",
      "filter_dict is empty. Returning empty dictionary\n",
      "Shape: (777, 9)\n",
      "Schema: {'timestamp': Int64, 'hash': Utf8, 'amountOutUSD': Float64, 'amountInUSD': Float64, 'amountOut': Float64, 'amountIn': Float64, 'pool_name': Utf8, 'tokenIn_symbol': Utf8, 'tokenOut_symbol': Utf8}\n",
      "Function 'query_entity' executed in 1.0819s\n"
     ]
    }
   ],
   "source": [
    "df1 = sgi.query_entity(\n",
    "    query_size=777,\n",
    "    entity='swaps',\n",
    "    name='uniswap-v3-ethereum', \n",
    "    query_paths=query_paths\n",
    "    )\n",
    "\n",
    "df2 = sgi.query_entity(\n",
    "    query_size=777,\n",
    "    entity='swaps',\n",
    "    name='balancer-v2-ethereum',\n",
    "    query_paths=query_paths\n",
    "    )"
   ]
  },
  {
   "cell_type": "code",
   "execution_count": 15,
   "metadata": {},
   "outputs": [],
   "source": [
    "# concat df1 and df2\n",
    "df3 = pl.concat([df1, df2])"
   ]
  },
  {
   "cell_type": "code",
   "execution_count": 16,
   "metadata": {},
   "outputs": [
    {
     "data": {
      "text/html": [
       "<div><style>\n",
       ".dataframe > thead > tr > th,\n",
       ".dataframe > tbody > tr > td {\n",
       "  text-align: right;\n",
       "}\n",
       "</style>\n",
       "<small>shape: (1554, 9)</small><table border=\"1\" class=\"dataframe\"><thead><tr><th>timestamp</th><th>hash</th><th>amountOutUSD</th><th>amountInUSD</th><th>amountOut</th><th>amountIn</th><th>pool_name</th><th>tokenIn_symbol</th><th>tokenOut_symbol</th></tr><tr><td>i64</td><td>str</td><td>f64</td><td>f64</td><td>f64</td><td>f64</td><td>str</td><td>str</td><td>str</td></tr></thead><tbody><tr><td>1657552276</td><td>&quot;0x0000006cfab44a8db8060b58bb9f7c261ce2c2554cd954bbec2bc5024d191720&quot;</td><td>3807.05461</td><td>3800.0</td><td>3.3423e18</td><td>3.8000e9</td><td>&quot;Uniswap V3 USD Coin/Wrapped Ether 0.05%&quot;</td><td>&quot;USDC&quot;</td><td>&quot;WETH&quot;</td></tr><tr><td>1681560971</td><td>&quot;0x00000101018767cd08b5909373a88eaba5b673915ab1562f47ab3d75ca9bc638&quot;</td><td>18033.158586</td><td>17940.463522</td><td>8.5616e18</td><td>1.7940e22</td><td>&quot;Uniswap V3 Dai Stablecoin/Wrapped Ether 0.05%&quot;</td><td>&quot;DAI&quot;</td><td>&quot;WETH&quot;</td></tr><tr><td>1680303551</td><td>&quot;0x0000017229c4e5d849d31c303e59efe3e600d1082cea5ba0d9a8222002472503&quot;</td><td>1148.461272</td><td>0.0</td><td>6.2948e17</td><td>1.4428e24</td><td>&quot;Uniswap V3 Spell Token/Wrapped Ether 0.3%&quot;</td><td>&quot;SPELL&quot;</td><td>&quot;WETH&quot;</td></tr><tr><td>1677023015</td><td>&quot;0x000001ac8cbe4303d766b166e6122f413aa6c1ce65ad05e1cd478d996de695f3&quot;</td><td>9999.338793</td><td>10000.0</td><td>9.9993e21</td><td>1.0000e10</td><td>&quot;Uniswap V3 Dai Stablecoin/USD Coin 0.01%&quot;</td><td>&quot;USDC&quot;</td><td>&quot;DAI&quot;</td></tr><tr><td>1625105710</td><td>&quot;0x000003aa75264a7b433ea891068bf709557531ebda36e5b6419d952c10a2adce&quot;</td><td>24618.0983</td><td>24687.611198</td><td>2.4618e22</td><td>1.1025e19</td><td>&quot;Uniswap V3 Dai Stablecoin/Wrapped Ether 0.3%&quot;</td><td>&quot;WETH&quot;</td><td>&quot;DAI&quot;</td></tr><tr><td>1629253724</td><td>&quot;0x000003c0c87ba6f523ccc237af830365dc946c8a94dba8704b1f0aefdac87ebf&quot;</td><td>66738.794298</td><td>66785.525383</td><td>6.6739e10</td><td>2.2000e19</td><td>&quot;Uniswap V3 USD Coin/Wrapped Ether 0.05%&quot;</td><td>&quot;WETH&quot;</td><td>&quot;USDC&quot;</td></tr><tr><td>1663189237</td><td>&quot;0x000003d5b6ebf765e46f69afe24fe727e451291e3b46d2bcc673b7bafaffb4fd&quot;</td><td>3430.889436</td><td>3441.839555</td><td>4.6251e20</td><td>2.1533e18</td><td>&quot;Uniswap V3 ChainLink Token/Wrapped Ether 0.3%&quot;</td><td>&quot;WETH&quot;</td><td>&quot;LINK&quot;</td></tr><tr><td>1647333277</td><td>&quot;0x000003e218e043df9805ad518c9b5d6705e858926f7332f73dc144f5c54265bb&quot;</td><td>87.916099</td><td>0.0</td><td>3.4843e16</td><td>1.0040e21</td><td>&quot;Uniswap V3 LCX/Wrapped Ether 1%&quot;</td><td>&quot;LCX&quot;</td><td>&quot;WETH&quot;</td></tr><tr><td>1679144303</td><td>&quot;0x0000050b3f8f099805e4346300e8eee35b66555d3311f3805fbbfbbe11af0dac&quot;</td><td>34669.734159</td><td>34832.207687</td><td>3.4670e10</td><td>1.8987e19</td><td>&quot;Uniswap V3 Wrapped Ether/Tether USD 0.05%&quot;</td><td>&quot;WETH&quot;</td><td>&quot;USDT&quot;</td></tr><tr><td>1630801974</td><td>&quot;0x000005d18271ff2d5404dc9d9b70dbc6eb9711bd7a1687e8b9751a20ce2ff9e5&quot;</td><td>967.150787</td><td>970.162426</td><td>2.4836e17</td><td>1.3000e26</td><td>&quot;Uniswap V3 SHIBA INU/Wrapped Ether 0.3%&quot;</td><td>&quot;SHIB&quot;</td><td>&quot;WETH&quot;</td></tr><tr><td>1653240241</td><td>&quot;0x00000734c2b47ce2905cf2b3de4b7c7dfb71bda8bbe5d074cebb7cee663c6ff1&quot;</td><td>3973.894218</td><td>3987.288425</td><td>1.3507e20</td><td>1.9823e18</td><td>&quot;Uniswap V3 ETH 2x Flexible Leverage Index/Wrapped Ether 0.3%&quot;</td><td>&quot;WETH&quot;</td><td>&quot;ETH2x-FLI&quot;</td></tr><tr><td>1623434577</td><td>&quot;0x000007762b32364a5e1f49e2f304f340b732414c186b87925178d5f064bcb0db&quot;</td><td>59908.376166</td><td>60001.951648</td><td>5.9908e10</td><td>2.5000e19</td><td>&quot;Uniswap V3 USD Coin/Wrapped Ether 0.05%&quot;</td><td>&quot;WETH&quot;</td><td>&quot;USDC&quot;</td></tr><tr><td>&hellip;</td><td>&hellip;</td><td>&hellip;</td><td>&hellip;</td><td>&hellip;</td><td>&hellip;</td><td>&hellip;</td><td>&hellip;</td><td>&hellip;</td></tr><tr><td>1652826062</td><td>&quot;0x002de61d78dd124f118cb7ba300d529ce7107799428fb59ba89d8b8201b3f882&quot;</td><td>5152.088225</td><td>5339.026003</td><td>6.9383e20</td><td>2.5721e18</td><td>&quot;Balancer 50 LINK 50 WETH&quot;</td><td>&quot;WETH&quot;</td><td>&quot;LINK&quot;</td></tr><tr><td>1670890619</td><td>&quot;0x002dfa6efa8b8c1ee174cea09c556f48cd1c36f90b7b2a6e73a5084765e2cb31&quot;</td><td>7510.124606</td><td>7684.4504</td><td>5.5421e18</td><td>6.0400e18</td><td>&quot;Balancer stETH Stable Pool&quot;</td><td>&quot;WETH&quot;</td><td>&quot;wstETH&quot;</td></tr><tr><td>1663220473</td><td>&quot;0x002dff4d4d43f9ba5d06e0d30353ecc28d058dbee2f1286d0a1894e1f199b9dc&quot;</td><td>2276.564373</td><td>2295.204563</td><td>4.4169e20</td><td>2.5752e21</td><td>&quot;20MANA-20SAND-20APE-20AXS-20ENJ&quot;</td><td>&quot;SAND&quot;</td><td>&quot;APE&quot;</td></tr><tr><td>1654284357</td><td>&quot;0x002e0e04f0be9fa9fd7a85d0f2b8e3b1cdfce4f646e1ebdafe5a7ec32dd9d698&quot;</td><td>11996.139915</td><td>12386.532139</td><td>1.1996e22</td><td>6.8809e18</td><td>&quot;Balancer 60 WETH 40 DAI&quot;</td><td>&quot;WETH&quot;</td><td>&quot;DAI&quot;</td></tr><tr><td>1650443398</td><td>&quot;0x002e1f8fed861298cf20c3a0a6fd12c3ca3a4d52224efc1e9c2a28f6cda518b6&quot;</td><td>9580.43756</td><td>9497.131</td><td>3.0685e18</td><td>9.5000e21</td><td>&quot;Balancer 60 WETH 40 DAI&quot;</td><td>&quot;DAI&quot;</td><td>&quot;WETH&quot;</td></tr><tr><td>1666848695</td><td>&quot;0x002e2e7c9119932e5a7666df14e740ede0bf045f845a9ca9b6617afeae0732da&quot;</td><td>1.9497e6</td><td>1.9595e6</td><td>1.9488e12</td><td>1.9613e12</td><td>&quot;Balancer USD Stable Pool&quot;</td><td>&quot;USDC&quot;</td><td>&quot;USDT&quot;</td></tr><tr><td>1656407584</td><td>&quot;0x002e335c0032cd926157ad007b6bf5ea47c6b7c31547f85a32d6a59cd4f7a358&quot;</td><td>7323.600121</td><td>7216.10851</td><td>6.0382e18</td><td>7.3961e9</td><td>&quot;Balancer 50 SRM 50 WETH&quot;</td><td>&quot;SRM&quot;</td><td>&quot;WETH&quot;</td></tr><tr><td>1648508664</td><td>&quot;0x002e5875ca420c291195feed2bd8de8131e003ed9da955545d0753b51f05f4fa&quot;</td><td>0.0</td><td>10109.46</td><td>6.2428e21</td><td>3.0000e18</td><td>&quot;50COW-50WETH BPT&quot;</td><td>&quot;WETH&quot;</td><td>&quot;COW&quot;</td></tr><tr><td>1659011336</td><td>&quot;0x002e9c3bbda0594e1efa94b4aa503e0abd6ad6ff514a19885248edae378a76b0&quot;</td><td>3815.988477</td><td>3912.035757</td><td>2.5687e18</td><td>4.3311e9</td><td>&quot;Balancer 50 SRM 50 WETH&quot;</td><td>&quot;SRM&quot;</td><td>&quot;WETH&quot;</td></tr><tr><td>1630475452</td><td>&quot;0x002ea0835998d3a98fe92f32e8ff3ebb0263011b90145e7ad3e280922eb6066b&quot;</td><td>38701.208596</td><td>39661.19238</td><td>1.1367e19</td><td>8.4126161e7</td><td>&quot;Balancer 50 WBTC 50 WETH&quot;</td><td>&quot;WBTC&quot;</td><td>&quot;WETH&quot;</td></tr><tr><td>1642092122</td><td>&quot;0x002ea84a7e94a1e07f2c794dd6a6e71e3916d52301fbd38993e5bb79857be658&quot;</td><td>30446.413297</td><td>29965.900524</td><td>9.0324e18</td><td>1.4000e19</td><td>&quot;Balancer 60 MKR 40 WETH&quot;</td><td>&quot;&quot;</td><td>&quot;WETH&quot;</td></tr><tr><td>1658751829</td><td>&quot;0x002ea9a46bfe3ed2d95ea9459a2b0b2f689c8e2e82d4a8cb4ed97b8ab2843d0b&quot;</td><td>2126.424435</td><td>2234.192188</td><td>2.1288e9</td><td>1.3951e18</td><td>&quot;Balancer 50 USDC 50 WETH&quot;</td><td>&quot;WETH&quot;</td><td>&quot;USDC&quot;</td></tr></tbody></table></div>"
      ],
      "text/plain": [
       "shape: (1554, 9)\n",
       "┌─────────┬───────────┬────────────┬───────────┬───┬──────────┬──────────┬────────────┬────────────┐\n",
       "│ timesta ┆ hash      ┆ amountOutU ┆ amountInU ┆ … ┆ amountIn ┆ pool_nam ┆ tokenIn_sy ┆ tokenOut_s │\n",
       "│ mp      ┆ ---       ┆ SD         ┆ SD        ┆   ┆ ---      ┆ e        ┆ mbol       ┆ ymbol      │\n",
       "│ ---     ┆ str       ┆ ---        ┆ ---       ┆   ┆ f64      ┆ ---      ┆ ---        ┆ ---        │\n",
       "│ i64     ┆           ┆ f64        ┆ f64       ┆   ┆          ┆ str      ┆ str        ┆ str        │\n",
       "╞═════════╪═══════════╪════════════╪═══════════╪═══╪══════════╪══════════╪════════════╪════════════╡\n",
       "│ 1657552 ┆ 0x0000006 ┆ 3807.05461 ┆ 3800.0    ┆ … ┆ 3.8000e9 ┆ Uniswap  ┆ USDC       ┆ WETH       │\n",
       "│ 276     ┆ cfab44a8d ┆            ┆           ┆   ┆          ┆ V3 USD   ┆            ┆            │\n",
       "│         ┆ b8060b58b ┆            ┆           ┆   ┆          ┆ Coin/Wra ┆            ┆            │\n",
       "│         ┆ b9f7c261c ┆            ┆           ┆   ┆          ┆ pped     ┆            ┆            │\n",
       "│         ┆ e2c2554cd ┆            ┆           ┆   ┆          ┆ Ether    ┆            ┆            │\n",
       "│         ┆ 954bbec2b ┆            ┆           ┆   ┆          ┆ 0.05%    ┆            ┆            │\n",
       "│         ┆ c5024d191 ┆            ┆           ┆   ┆          ┆          ┆            ┆            │\n",
       "│         ┆ 720       ┆            ┆           ┆   ┆          ┆          ┆            ┆            │\n",
       "│ 1681560 ┆ 0x0000010 ┆ 18033.1585 ┆ 17940.463 ┆ … ┆ 1.7940e2 ┆ Uniswap  ┆ DAI        ┆ WETH       │\n",
       "│ 971     ┆ 1018767cd ┆ 86         ┆ 522       ┆   ┆ 2        ┆ V3 Dai   ┆            ┆            │\n",
       "│         ┆ 08b590937 ┆            ┆           ┆   ┆          ┆ Stableco ┆            ┆            │\n",
       "│         ┆ 3a88eaba5 ┆            ┆           ┆   ┆          ┆ in/Wrapp ┆            ┆            │\n",
       "│         ┆ b673915ab ┆            ┆           ┆   ┆          ┆ ed Ether ┆            ┆            │\n",
       "│         ┆ 1562f47ab ┆            ┆           ┆   ┆          ┆ 0.05%    ┆            ┆            │\n",
       "│         ┆ 3d75ca9bc ┆            ┆           ┆   ┆          ┆          ┆            ┆            │\n",
       "│         ┆ 638       ┆            ┆           ┆   ┆          ┆          ┆            ┆            │\n",
       "│ 1680303 ┆ 0x0000017 ┆ 1148.46127 ┆ 0.0       ┆ … ┆ 1.4428e2 ┆ Uniswap  ┆ SPELL      ┆ WETH       │\n",
       "│ 551     ┆ 229c4e5d8 ┆ 2          ┆           ┆   ┆ 4        ┆ V3 Spell ┆            ┆            │\n",
       "│         ┆ 49d31c303 ┆            ┆           ┆   ┆          ┆ Token/Wr ┆            ┆            │\n",
       "│         ┆ e59efe3e6 ┆            ┆           ┆   ┆          ┆ apped    ┆            ┆            │\n",
       "│         ┆ 00d1082ce ┆            ┆           ┆   ┆          ┆ Ether    ┆            ┆            │\n",
       "│         ┆ a5ba0d9a8 ┆            ┆           ┆   ┆          ┆ 0.3%     ┆            ┆            │\n",
       "│         ┆ 222002472 ┆            ┆           ┆   ┆          ┆          ┆            ┆            │\n",
       "│         ┆ 503       ┆            ┆           ┆   ┆          ┆          ┆            ┆            │\n",
       "│ 1677023 ┆ 0x000001a ┆ 9999.33879 ┆ 10000.0   ┆ … ┆ 1.0000e1 ┆ Uniswap  ┆ USDC       ┆ DAI        │\n",
       "│ 015     ┆ c8cbe4303 ┆ 3          ┆           ┆   ┆ 0        ┆ V3 Dai   ┆            ┆            │\n",
       "│         ┆ d766b166e ┆            ┆           ┆   ┆          ┆ Stableco ┆            ┆            │\n",
       "│         ┆ 6122f413a ┆            ┆           ┆   ┆          ┆ in/USD   ┆            ┆            │\n",
       "│         ┆ a6c1ce65a ┆            ┆           ┆   ┆          ┆ Coin     ┆            ┆            │\n",
       "│         ┆ d05e1cd47 ┆            ┆           ┆   ┆          ┆ 0.01%    ┆            ┆            │\n",
       "│         ┆ 8d996de69 ┆            ┆           ┆   ┆          ┆          ┆            ┆            │\n",
       "│         ┆ 5f3       ┆            ┆           ┆   ┆          ┆          ┆            ┆            │\n",
       "│ …       ┆ …         ┆ …          ┆ …         ┆ … ┆ …        ┆ …        ┆ …          ┆ …          │\n",
       "│ 1659011 ┆ 0x002e9c3 ┆ 3815.98847 ┆ 3912.0357 ┆ … ┆ 4.3311e9 ┆ Balancer ┆ SRM        ┆ WETH       │\n",
       "│ 336     ┆ bbda0594e ┆ 7          ┆ 57        ┆   ┆          ┆ 50 SRM   ┆            ┆            │\n",
       "│         ┆ 1efa94b4a ┆            ┆           ┆   ┆          ┆ 50 WETH  ┆            ┆            │\n",
       "│         ┆ a503e0abd ┆            ┆           ┆   ┆          ┆          ┆            ┆            │\n",
       "│         ┆ 6ad6ff514 ┆            ┆           ┆   ┆          ┆          ┆            ┆            │\n",
       "│         ┆ a19885248 ┆            ┆           ┆   ┆          ┆          ┆            ┆            │\n",
       "│         ┆ edae378a7 ┆            ┆           ┆   ┆          ┆          ┆            ┆            │\n",
       "│         ┆ 6b0       ┆            ┆           ┆   ┆          ┆          ┆            ┆            │\n",
       "│ 1630475 ┆ 0x002ea08 ┆ 38701.2085 ┆ 39661.192 ┆ … ┆ 8.412616 ┆ Balancer ┆ WBTC       ┆ WETH       │\n",
       "│ 452     ┆ 35998d3a9 ┆ 96         ┆ 38        ┆   ┆ 1e7      ┆ 50 WBTC  ┆            ┆            │\n",
       "│         ┆ 8fe92f32e ┆            ┆           ┆   ┆          ┆ 50 WETH  ┆            ┆            │\n",
       "│         ┆ 8ff3ebb02 ┆            ┆           ┆   ┆          ┆          ┆            ┆            │\n",
       "│         ┆ 63011b901 ┆            ┆           ┆   ┆          ┆          ┆            ┆            │\n",
       "│         ┆ 45e7ad3e2 ┆            ┆           ┆   ┆          ┆          ┆            ┆            │\n",
       "│         ┆ 80922eb60 ┆            ┆           ┆   ┆          ┆          ┆            ┆            │\n",
       "│         ┆ 66b       ┆            ┆           ┆   ┆          ┆          ┆            ┆            │\n",
       "│ 1642092 ┆ 0x002ea84 ┆ 30446.4132 ┆ 29965.900 ┆ … ┆ 1.4000e1 ┆ Balancer ┆            ┆ WETH       │\n",
       "│ 122     ┆ a7e94a1e0 ┆ 97         ┆ 524       ┆   ┆ 9        ┆ 60 MKR   ┆            ┆            │\n",
       "│         ┆ 7f2c794dd ┆            ┆           ┆   ┆          ┆ 40 WETH  ┆            ┆            │\n",
       "│         ┆ 6a6e71e39 ┆            ┆           ┆   ┆          ┆          ┆            ┆            │\n",
       "│         ┆ 16d52301f ┆            ┆           ┆   ┆          ┆          ┆            ┆            │\n",
       "│         ┆ bd38993e5 ┆            ┆           ┆   ┆          ┆          ┆            ┆            │\n",
       "│         ┆ bb79857be ┆            ┆           ┆   ┆          ┆          ┆            ┆            │\n",
       "│         ┆ 658       ┆            ┆           ┆   ┆          ┆          ┆            ┆            │\n",
       "│ 1658751 ┆ 0x002ea9a ┆ 2126.42443 ┆ 2234.1921 ┆ … ┆ 1.3951e1 ┆ Balancer ┆ WETH       ┆ USDC       │\n",
       "│ 829     ┆ 46bfe3ed2 ┆ 5          ┆ 88        ┆   ┆ 8        ┆ 50 USDC  ┆            ┆            │\n",
       "│         ┆ d95ea9459 ┆            ┆           ┆   ┆          ┆ 50 WETH  ┆            ┆            │\n",
       "│         ┆ a2b0b2f68 ┆            ┆           ┆   ┆          ┆          ┆            ┆            │\n",
       "│         ┆ 9c8e2e82d ┆            ┆           ┆   ┆          ┆          ┆            ┆            │\n",
       "│         ┆ 4a8cb4ed9 ┆            ┆           ┆   ┆          ┆          ┆            ┆            │\n",
       "│         ┆ 7b8ab2843 ┆            ┆           ┆   ┆          ┆          ┆            ┆            │\n",
       "│         ┆ d0b       ┆            ┆           ┆   ┆          ┆          ┆            ┆            │\n",
       "└─────────┴───────────┴────────────┴───────────┴───┴──────────┴──────────┴────────────┴────────────┘"
      ]
     },
     "execution_count": 16,
     "metadata": {},
     "output_type": "execute_result"
    }
   ],
   "source": [
    "df3"
   ]
  },
  {
   "cell_type": "code",
   "execution_count": null,
   "metadata": {},
   "outputs": [],
   "source": []
  }
 ],
 "metadata": {
  "kernelspec": {
   "display_name": ".venv",
   "language": "python",
   "name": "python3"
  },
  "language_info": {
   "codemirror_mode": {
    "name": "ipython",
    "version": 3
   },
   "file_extension": ".py",
   "mimetype": "text/x-python",
   "name": "python",
   "nbconvert_exporter": "python",
   "pygments_lexer": "ipython3",
   "version": "3.10.6"
  },
  "orig_nbformat": 4
 },
 "nbformat": 4,
 "nbformat_minor": 2
}
