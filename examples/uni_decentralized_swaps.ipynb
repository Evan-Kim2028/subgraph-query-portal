{
 "cells": [
  {
   "cell_type": "code",
   "execution_count": 1,
   "metadata": {},
   "outputs": [
    {
     "data": {
      "text/plain": [
       "polars.config.Config"
      ]
     },
     "execution_count": 1,
     "metadata": {},
     "output_type": "execute_result"
    }
   ],
   "source": [
    "from queryportal.subgraphinterface import SubgraphInterface\n",
    "\n",
    "from datetime import datetime, timedelta\n",
    "\n",
    "import polars as pl\n",
    "pl.Config.set_fmt_str_lengths(200)"
   ]
  },
  {
   "attachments": {},
   "cell_type": "markdown",
   "metadata": {},
   "source": [
    "To query from a decentralized subgraph, sign up for a playgrounds API key [here](https://app.playgrounds.network/login). \n",
    "Then make an `.env` file in the root directory with the following contents:\n",
    "\n",
    "```\n",
    "PLAYGROUNDS_API_KEY=<your api key>\n",
    "```\n",
    "\n",
    "For more information on querying from a decentralized subgraph, see the [documentation](https://docs.playgrounds.network/gateway/querying/)\n"
   ]
  },
  {
   "cell_type": "code",
   "execution_count": 2,
   "metadata": {},
   "outputs": [
    {
     "name": "stdout",
     "output_type": "stream",
     "text": [
      "subject endpoints: dict_keys(['univ2', 'univ3'])\n"
     ]
    }
   ],
   "source": [
    "# instantiate Dex class with subgraph key\n",
    "univ2 = '2szAn45skWZFLPUbxFEtjiEzT1FMW8Ff5ReUPbZbQxtt'\n",
    "univ3 = 'G3JZhmKKHC4mydRzD6kSz5fCWve5WDYYCyTFSJyv3SD5' \n",
    "\n",
    "# NOTE - Decentralized endpoints do not have a nice naming convention. Thus a dictionary is required to explicitly name the endpoints when they are instantiated.\n",
    "sgi = SubgraphInterface(\n",
    "    endpoints={'univ2': f'https://api.playgrounds.network/v1/proxy/subgraphs/id/{univ2}',       # https://thegraph.com/explorer/subgraphs/2szAn45skWZFLPUbxFEtjiEzT1FMW8Ff5ReUPbZbQxtt?view=Overview?chain=mainnet\n",
    "                'univ3': f'https://api.playgrounds.network/v1/proxy/subgraphs/id/{univ3}'       # https://thegraph.com/explorer/subgraphs/G3JZhmKKHC4mydRzD6kSz5fCWve5WDYYCyTFSJyv3SD5?view=Overview?chain=mainnet\n",
    "               }\n",
    "    )\n",
    "\n",
    "print(f'subject endpoints: {sgi.subject.subgraphs.keys()}')"
   ]
  },
  {
   "cell_type": "code",
   "execution_count": 3,
   "metadata": {},
   "outputs": [],
   "source": [
    "start_time = int((datetime(2023, 4, 12).timestamp()))\n",
    "end_time = int(datetime(2023, 4, 19).timestamp())\n",
    "query_size = 2500"
   ]
  },
  {
   "cell_type": "code",
   "execution_count": 4,
   "metadata": {},
   "outputs": [
    {
     "name": "stdout",
     "output_type": "stream",
     "text": [
      "Querying endpoint: univ3\n",
      " Queryable schema entities: dict_keys(['tokens', 'rewardTokens', 'liquidityPoolFees', 'dexAmmProtocols', 'usageMetricsDailySnapshots', 'usageMetricsHourlySnapshots', 'financialsDailySnapshots', 'liquidityPools', 'liquidityPoolDailySnapshots', 'liquidityPoolHourlySnapshots', 'ticks', 'tickDailySnapshots', 'tickHourlySnapshots', 'accounts', 'positions', 'positionSnapshots', 'deposits', 'withdraws', 'swaps', 'activeAccounts', 'liquidityPoolAmounts', 'helperStores', 'tokenWhitelists', 'tokenWhitelistSymbols', 'protocols'])\n",
      "Shape: (2500, 8)\n",
      "Schema: {'timestamp': Int64, 'hash': Utf8, 'pool_name': Utf8, 'pool_id': Utf8, 'tokenIn_symbol': Utf8, 'tokenIn_id': Utf8, 'tokenOut_symbol': Utf8, 'tokenOut_id': Utf8}\n",
      "Function 'query_entity' executed in 7.0928s\n"
     ]
    }
   ],
   "source": [
    "univ3_filter = {\n",
    "    'pool_name_contains': 'Pepe',\n",
    "    'timestamp_gte': start_time,\n",
    "    'timestamp_lte': end_time\n",
    "}\n",
    "\n",
    "univ3_cols = [\n",
    "    'timestamp',\n",
    "    'hash',\n",
    "    # comes from Pool! entity\n",
    "    'pool_name', \n",
    "    'pool_id',\n",
    "    # comes from Token entity\n",
    "    'tokenIn_symbol', \n",
    "    'tokenOut_symbol', \n",
    "    'tokenIn_id',\n",
    "    'tokenOut_id',\n",
    "    ]\n",
    "\n",
    "univ3_df = sgi.query_entity(\n",
    "    entity='swaps',\n",
    "    name='univ3',\n",
    "    query_paths=univ3_cols,\n",
    "    filter_dict = univ3_filter,\n",
    "    query_size=query_size\n",
    "    )"
   ]
  },
  {
   "cell_type": "code",
   "execution_count": 5,
   "metadata": {},
   "outputs": [
    {
     "name": "stdout",
     "output_type": "stream",
     "text": [
      "Querying endpoint: univ2\n",
      " Queryable schema entities: dict_keys(['uniswapFactories', 'tokens', 'pairs', 'users', 'liquidityPositions', 'liquidityPositionSnapshots', 'transactions', 'mints', 'burns', 'swaps', 'bundles', 'uniswapDayDatas', 'pairHourDatas', 'pairDayDatas', 'tokenDayDatas'])\n",
      "Shape: (2500, 13)\n",
      "Schema: {'timestamp': Int64, 'amountUSD': Float64, 'sender': Utf8, 'to': Utf8, 'from': Utf8, 'amount0In': Float64, 'amount0Out': Float64, 'amount1In': Float64, 'amount1Out': Float64, 'transaction_id': Utf8, 'pair_id': Utf8, 'pair_token0': Struct([Field('id', Utf8)]), 'pair_token1': Struct([Field('id', Utf8)])}\n",
      "Function 'query_entity' executed in 8.2968s\n"
     ]
    }
   ],
   "source": [
    "# We know that the PEPE address is `0x6982508145454ce325ddbe47a25d4ec3d2311933`...\n",
    "univ2_filter = {\n",
    "    'pair_id': '0xa43fe16908251ee70ef74718545e4fe6c5ccec9f',\n",
    "    'timestamp_gte': start_time,\n",
    "    'timestamp_lte': end_time\n",
    "}\n",
    "\n",
    "univ2_cols = [\n",
    "    'timestamp',\n",
    "    'sender',\n",
    "    'amountUSD',\n",
    "    'transaction_id',\n",
    "    'pair_id',\n",
    "    'sender',\n",
    "    'to',\n",
    "    'from',\n",
    "    'pair_token0_id',\n",
    "    'pair_token1_id',\n",
    "    'amount0In',\n",
    "    'amount0Out',\n",
    "    'amount1In',\n",
    "    'amount1Out'\n",
    "    ]\n",
    "\n",
    "univ2_df = sgi.query_entity(\n",
    "    entity='swaps',\n",
    "    name='univ2',\n",
    "    query_paths=univ2_cols,\n",
    "    filter_dict = univ2_filter,\n",
    "    query_size=query_size\n",
    "    )"
   ]
  },
  {
   "cell_type": "code",
   "execution_count": 6,
   "metadata": {},
   "outputs": [
    {
     "data": {
      "text/html": [
       "<div><style>\n",
       ".dataframe > thead > tr > th,\n",
       ".dataframe > tbody > tr > td {\n",
       "  text-align: right;\n",
       "}\n",
       "</style>\n",
       "<small>shape: (5, 13)</small><table border=\"1\" class=\"dataframe\"><thead><tr><th>timestamp</th><th>amountUSD</th><th>sender</th><th>to</th><th>from</th><th>amount0In</th><th>amount0Out</th><th>amount1In</th><th>amount1Out</th><th>transaction_id</th><th>pair_id</th><th>pair_token0</th><th>pair_token1</th></tr><tr><td>i64</td><td>f64</td><td>str</td><td>str</td><td>str</td><td>f64</td><td>f64</td><td>f64</td><td>f64</td><td>str</td><td>str</td><td>struct[1]</td><td>struct[1]</td></tr></thead><tbody><tr><td>1681518551</td><td>2155.606202</td><td>&quot;0x555b6ee8fab3dfdbcca9121721c435fd4c7a1fd1&quot;</td><td>&quot;0x555b6ee8fab3dfdbcca9121721c435fd4c7a1fd1&quot;</td><td>&quot;0x0e63bbdc6984101349fde52ee99bb06a160442ed&quot;</td><td>0.0</td><td>2.6374e12</td><td>0.997</td><td>0.0</td><td>&quot;0x00032d7e3a9ecf6135d46b5f158534e652bda2113b76a611f49ad877406538ca&quot;</td><td>&quot;0xa43fe16908251ee70ef74718545e4fe6c5ccec9f&quot;</td><td>{&quot;0x6982508145454ce325ddbe47a25d4ec3d2311933&quot;}</td><td>{&quot;0xc02aaa39b223fe8d0a0e5c4f27ead9083c756cc2&quot;}</td></tr><tr><td>1681834451</td><td>15204.44035</td><td>&quot;0x6b75d8af000000e20b7a7ddf000ba900b4009a80&quot;</td><td>&quot;0x6b75d8af000000e20b7a7ddf000ba900b4009a80&quot;</td><td>&quot;0xae2fc483527b8ef99eb5d9b44875f005ba1fae13&quot;</td><td>0.0</td><td>1.2256e11</td><td>7.25511</td><td>0.0</td><td>&quot;0x0004bcb4d7950add5bb14aff891985287b21c099b53e3e294496ef2cedbd7492&quot;</td><td>&quot;0xa43fe16908251ee70ef74718545e4fe6c5ccec9f&quot;</td><td>{&quot;0x6982508145454ce325ddbe47a25d4ec3d2311933&quot;}</td><td>{&quot;0xc02aaa39b223fe8d0a0e5c4f27ead9083c756cc2&quot;}</td></tr><tr><td>1681715519</td><td>1556.849838</td><td>&quot;0x6b75d8af000000e20b7a7ddf000ba900b4009a80&quot;</td><td>&quot;0x6b75d8af000000e20b7a7ddf000ba900b4009a80&quot;</td><td>&quot;0xae2fc483527b8ef99eb5d9b44875f005ba1fae13&quot;</td><td>0.0</td><td>2.2888e10</td><td>0.741382</td><td>0.0</td><td>&quot;0x0005755e29bdcf849353a3dc9b7fc8727b19dfe625b7285d6c24451131e0ac08&quot;</td><td>&quot;0xa43fe16908251ee70ef74718545e4fe6c5ccec9f&quot;</td><td>{&quot;0x6982508145454ce325ddbe47a25d4ec3d2311933&quot;}</td><td>{&quot;0xc02aaa39b223fe8d0a0e5c4f27ead9083c756cc2&quot;}</td></tr><tr><td>1681749647</td><td>3311.609379</td><td>&quot;0xef1c6e67703c7bd7107eed8303fbe6ec2554bf6b&quot;</td><td>&quot;0xef1c6e67703c7bd7107eed8303fbe6ec2554bf6b&quot;</td><td>&quot;0x5eb104b3aa1a43843f1be4e4205e2720834ed938&quot;</td><td>1.1469e11</td><td>0.0</td><td>0.0</td><td>1.591434</td><td>&quot;0x00069db917db562f0625f4650e9f6791758a5864ab336f52b2a483dac84380e9&quot;</td><td>&quot;0xa43fe16908251ee70ef74718545e4fe6c5ccec9f&quot;</td><td>{&quot;0x6982508145454ce325ddbe47a25d4ec3d2311933&quot;}</td><td>{&quot;0xc02aaa39b223fe8d0a0e5c4f27ead9083c756cc2&quot;}</td></tr><tr><td>1681710539</td><td>50.274263</td><td>&quot;0x1111111254eeb25477b68fb85ed929f73a960582&quot;</td><td>&quot;0x1111111254eeb25477b68fb85ed929f73a960582&quot;</td><td>&quot;0x27be222515fcbeff40781573a1ea2d630d0956de&quot;</td><td>1.0000e9</td><td>0.0</td><td>0.0</td><td>0.023952</td><td>&quot;0x0009e67a6a0c3dd5bb5004488e6ec80a5e88c67854bf120049184c05a4c18c2a&quot;</td><td>&quot;0xa43fe16908251ee70ef74718545e4fe6c5ccec9f&quot;</td><td>{&quot;0x6982508145454ce325ddbe47a25d4ec3d2311933&quot;}</td><td>{&quot;0xc02aaa39b223fe8d0a0e5c4f27ead9083c756cc2&quot;}</td></tr></tbody></table></div>"
      ],
      "text/plain": [
       "shape: (5, 13)\n",
       "┌─────────┬───────────┬───────────┬───────────┬───┬────────────┬───────────┬───────────┬───────────┐\n",
       "│ timesta ┆ amountUSD ┆ sender    ┆ to        ┆ … ┆ transactio ┆ pair_id   ┆ pair_toke ┆ pair_toke │\n",
       "│ mp      ┆ ---       ┆ ---       ┆ ---       ┆   ┆ n_id       ┆ ---       ┆ n0        ┆ n1        │\n",
       "│ ---     ┆ f64       ┆ str       ┆ str       ┆   ┆ ---        ┆ str       ┆ ---       ┆ ---       │\n",
       "│ i64     ┆           ┆           ┆           ┆   ┆ str        ┆           ┆ struct[1] ┆ struct[1] │\n",
       "╞═════════╪═══════════╪═══════════╪═══════════╪═══╪════════════╪═══════════╪═══════════╪═══════════╡\n",
       "│ 1681518 ┆ 2155.6062 ┆ 0x555b6ee ┆ 0x555b6ee ┆ … ┆ 0x00032d7e ┆ 0xa43fe16 ┆ {\"0x69825 ┆ {\"0xc02aa │\n",
       "│ 551     ┆ 02        ┆ 8fab3dfdb ┆ 8fab3dfdb ┆   ┆ 3a9ecf6135 ┆ 908251ee7 ┆ 08145454c ┆ a39b223fe │\n",
       "│         ┆           ┆ cca912172 ┆ cca912172 ┆   ┆ d46b5f1585 ┆ 0ef747185 ┆ e325ddbe4 ┆ 8d0a0e5c4 │\n",
       "│         ┆           ┆ 1c435fd4c ┆ 1c435fd4c ┆   ┆ 34e652bda2 ┆ 45e4fe6c5 ┆ 7a25d4ec3 ┆ f27ead908 │\n",
       "│         ┆           ┆ 7a1fd1    ┆ 7a1fd1    ┆   ┆ 113b76a611 ┆ ccec9f    ┆ d2311933\" ┆ 3c756cc2\" │\n",
       "│         ┆           ┆           ┆           ┆   ┆ f49ad87740 ┆           ┆ }         ┆ }         │\n",
       "│         ┆           ┆           ┆           ┆   ┆ 6538ca     ┆           ┆           ┆           │\n",
       "│ 1681834 ┆ 15204.440 ┆ 0x6b75d8a ┆ 0x6b75d8a ┆ … ┆ 0x0004bcb4 ┆ 0xa43fe16 ┆ {\"0x69825 ┆ {\"0xc02aa │\n",
       "│ 451     ┆ 35        ┆ f000000e2 ┆ f000000e2 ┆   ┆ d7950add5b ┆ 908251ee7 ┆ 08145454c ┆ a39b223fe │\n",
       "│         ┆           ┆ 0b7a7ddf0 ┆ 0b7a7ddf0 ┆   ┆ b14aff8919 ┆ 0ef747185 ┆ e325ddbe4 ┆ 8d0a0e5c4 │\n",
       "│         ┆           ┆ 00ba900b4 ┆ 00ba900b4 ┆   ┆ 85287b21c0 ┆ 45e4fe6c5 ┆ 7a25d4ec3 ┆ f27ead908 │\n",
       "│         ┆           ┆ 009a80    ┆ 009a80    ┆   ┆ 99b53e3e29 ┆ ccec9f    ┆ d2311933\" ┆ 3c756cc2\" │\n",
       "│         ┆           ┆           ┆           ┆   ┆ 4496ef2ced ┆           ┆ }         ┆ }         │\n",
       "│         ┆           ┆           ┆           ┆   ┆ bd7492     ┆           ┆           ┆           │\n",
       "│ 1681715 ┆ 1556.8498 ┆ 0x6b75d8a ┆ 0x6b75d8a ┆ … ┆ 0x0005755e ┆ 0xa43fe16 ┆ {\"0x69825 ┆ {\"0xc02aa │\n",
       "│ 519     ┆ 38        ┆ f000000e2 ┆ f000000e2 ┆   ┆ 29bdcf8493 ┆ 908251ee7 ┆ 08145454c ┆ a39b223fe │\n",
       "│         ┆           ┆ 0b7a7ddf0 ┆ 0b7a7ddf0 ┆   ┆ 53a3dc9b7f ┆ 0ef747185 ┆ e325ddbe4 ┆ 8d0a0e5c4 │\n",
       "│         ┆           ┆ 00ba900b4 ┆ 00ba900b4 ┆   ┆ c8727b19df ┆ 45e4fe6c5 ┆ 7a25d4ec3 ┆ f27ead908 │\n",
       "│         ┆           ┆ 009a80    ┆ 009a80    ┆   ┆ e625b7285d ┆ ccec9f    ┆ d2311933\" ┆ 3c756cc2\" │\n",
       "│         ┆           ┆           ┆           ┆   ┆ 6c24451131 ┆           ┆ }         ┆ }         │\n",
       "│         ┆           ┆           ┆           ┆   ┆ e0ac08     ┆           ┆           ┆           │\n",
       "│ 1681749 ┆ 3311.6093 ┆ 0xef1c6e6 ┆ 0xef1c6e6 ┆ … ┆ 0x00069db9 ┆ 0xa43fe16 ┆ {\"0x69825 ┆ {\"0xc02aa │\n",
       "│ 647     ┆ 79        ┆ 7703c7bd7 ┆ 7703c7bd7 ┆   ┆ 17db562f06 ┆ 908251ee7 ┆ 08145454c ┆ a39b223fe │\n",
       "│         ┆           ┆ 107eed830 ┆ 107eed830 ┆   ┆ 25f4650e9f ┆ 0ef747185 ┆ e325ddbe4 ┆ 8d0a0e5c4 │\n",
       "│         ┆           ┆ 3fbe6ec25 ┆ 3fbe6ec25 ┆   ┆ 6791758a58 ┆ 45e4fe6c5 ┆ 7a25d4ec3 ┆ f27ead908 │\n",
       "│         ┆           ┆ 54bf6b    ┆ 54bf6b    ┆   ┆ 64ab336f52 ┆ ccec9f    ┆ d2311933\" ┆ 3c756cc2\" │\n",
       "│         ┆           ┆           ┆           ┆   ┆ b2a483dac8 ┆           ┆ }         ┆ }         │\n",
       "│         ┆           ┆           ┆           ┆   ┆ 4380e9     ┆           ┆           ┆           │\n",
       "│ 1681710 ┆ 50.274263 ┆ 0x1111111 ┆ 0x1111111 ┆ … ┆ 0x0009e67a ┆ 0xa43fe16 ┆ {\"0x69825 ┆ {\"0xc02aa │\n",
       "│ 539     ┆           ┆ 254eeb254 ┆ 254eeb254 ┆   ┆ 6a0c3dd5bb ┆ 908251ee7 ┆ 08145454c ┆ a39b223fe │\n",
       "│         ┆           ┆ 77b68fb85 ┆ 77b68fb85 ┆   ┆ 5004488e6e ┆ 0ef747185 ┆ e325ddbe4 ┆ 8d0a0e5c4 │\n",
       "│         ┆           ┆ ed929f73a ┆ ed929f73a ┆   ┆ c80a5e88c6 ┆ 45e4fe6c5 ┆ 7a25d4ec3 ┆ f27ead908 │\n",
       "│         ┆           ┆ 960582    ┆ 960582    ┆   ┆ 7854bf1200 ┆ ccec9f    ┆ d2311933\" ┆ 3c756cc2\" │\n",
       "│         ┆           ┆           ┆           ┆   ┆ 49184c05a4 ┆           ┆ }         ┆ }         │\n",
       "│         ┆           ┆           ┆           ┆   ┆ c18c2a     ┆           ┆           ┆           │\n",
       "└─────────┴───────────┴───────────┴───────────┴───┴────────────┴───────────┴───────────┴───────────┘"
      ]
     },
     "execution_count": 6,
     "metadata": {},
     "output_type": "execute_result"
    }
   ],
   "source": [
    "univ2_df.head(5)"
   ]
  },
  {
   "cell_type": "code",
   "execution_count": 7,
   "metadata": {},
   "outputs": [
    {
     "data": {
      "text/html": [
       "<div><style>\n",
       ".dataframe > thead > tr > th,\n",
       ".dataframe > tbody > tr > td {\n",
       "  text-align: right;\n",
       "}\n",
       "</style>\n",
       "<small>shape: (5, 8)</small><table border=\"1\" class=\"dataframe\"><thead><tr><th>timestamp</th><th>hash</th><th>pool_name</th><th>pool_id</th><th>tokenIn_symbol</th><th>tokenIn_id</th><th>tokenOut_symbol</th><th>tokenOut_id</th></tr><tr><td>i64</td><td>str</td><td>str</td><td>str</td><td>str</td><td>str</td><td>str</td><td>str</td></tr></thead><tbody><tr><td>1681853891</td><td>&quot;0x00088858686149d26d6a1ed13c994bac7ece080e90925495213a8349523a469c&quot;</td><td>&quot;Uniswap V3 Pepe/Wrapped Ether 1%&quot;</td><td>&quot;0xf239009a101b6b930a527deaab6961b6e7dec8a6&quot;</td><td>&quot;WETH&quot;</td><td>&quot;0xc02aaa39b223fe8d0a0e5c4f27ead9083c756cc2&quot;</td><td>&quot;PEPE&quot;</td><td>&quot;0x6982508145454ce325ddbe47a25d4ec3d2311933&quot;</td></tr><tr><td>1681748555</td><td>&quot;0x000cd2f5d66d13d43a934ee4a5b7d9911c680eb0404a689c44e0b2583e55ee28&quot;</td><td>&quot;Uniswap V3 Pepe/Wrapped Ether 1%&quot;</td><td>&quot;0xf239009a101b6b930a527deaab6961b6e7dec8a6&quot;</td><td>&quot;WETH&quot;</td><td>&quot;0xc02aaa39b223fe8d0a0e5c4f27ead9083c756cc2&quot;</td><td>&quot;PEPE&quot;</td><td>&quot;0x6982508145454ce325ddbe47a25d4ec3d2311933&quot;</td></tr><tr><td>1681730903</td><td>&quot;0x000dd4330a3fb6af76221d43e21571b93e409c5c40e11f8e3f3624fa4a2672e5&quot;</td><td>&quot;Uniswap V3 Pepe/Wrapped Ether 1%&quot;</td><td>&quot;0xf239009a101b6b930a527deaab6961b6e7dec8a6&quot;</td><td>&quot;WETH&quot;</td><td>&quot;0xc02aaa39b223fe8d0a0e5c4f27ead9083c756cc2&quot;</td><td>&quot;PEPE&quot;</td><td>&quot;0x6982508145454ce325ddbe47a25d4ec3d2311933&quot;</td></tr><tr><td>1681866467</td><td>&quot;0x001138a7ea7c2a5e855400297a52abf22b8b9b5cd71327e861352996018ba3aa&quot;</td><td>&quot;Uniswap V3 Pepe/Wrapped Ether 1%&quot;</td><td>&quot;0xf239009a101b6b930a527deaab6961b6e7dec8a6&quot;</td><td>&quot;WETH&quot;</td><td>&quot;0xc02aaa39b223fe8d0a0e5c4f27ead9083c756cc2&quot;</td><td>&quot;PEPE&quot;</td><td>&quot;0x6982508145454ce325ddbe47a25d4ec3d2311933&quot;</td></tr><tr><td>1681725263</td><td>&quot;0x0015388d53616b70bdbe609621979ea9344bf1de7b716e1fd76eb73bf755cd48&quot;</td><td>&quot;Uniswap V3 Pepe/Wrapped Ether 1%&quot;</td><td>&quot;0xf239009a101b6b930a527deaab6961b6e7dec8a6&quot;</td><td>&quot;WETH&quot;</td><td>&quot;0xc02aaa39b223fe8d0a0e5c4f27ead9083c756cc2&quot;</td><td>&quot;PEPE&quot;</td><td>&quot;0x6982508145454ce325ddbe47a25d4ec3d2311933&quot;</td></tr></tbody></table></div>"
      ],
      "text/plain": [
       "shape: (5, 8)\n",
       "┌────────────┬────────────┬───────────┬───────────┬────────────┬──────────┬────────────┬───────────┐\n",
       "│ timestamp  ┆ hash       ┆ pool_name ┆ pool_id   ┆ tokenIn_sy ┆ tokenIn_ ┆ tokenOut_s ┆ tokenOut_ │\n",
       "│ ---        ┆ ---        ┆ ---       ┆ ---       ┆ mbol       ┆ id       ┆ ymbol      ┆ id        │\n",
       "│ i64        ┆ str        ┆ str       ┆ str       ┆ ---        ┆ ---      ┆ ---        ┆ ---       │\n",
       "│            ┆            ┆           ┆           ┆ str        ┆ str      ┆ str        ┆ str       │\n",
       "╞════════════╪════════════╪═══════════╪═══════════╪════════════╪══════════╪════════════╪═══════════╡\n",
       "│ 1681853891 ┆ 0x00088858 ┆ Uniswap   ┆ 0xf239009 ┆ WETH       ┆ 0xc02aaa ┆ PEPE       ┆ 0x6982508 │\n",
       "│            ┆ 686149d26d ┆ V3 Pepe/W ┆ a101b6b93 ┆            ┆ 39b223fe ┆            ┆ 145454ce3 │\n",
       "│            ┆ 6a1ed13c99 ┆ rapped    ┆ 0a527deaa ┆            ┆ 8d0a0e5c ┆            ┆ 25ddbe47a │\n",
       "│            ┆ 4bac7ece08 ┆ Ether 1%  ┆ b6961b6e7 ┆            ┆ 4f27ead9 ┆            ┆ 25d4ec3d2 │\n",
       "│            ┆ 0e90925495 ┆           ┆ dec8a6    ┆            ┆ 083c756c ┆            ┆ 311933    │\n",
       "│            ┆ 213a834952 ┆           ┆           ┆            ┆ c2       ┆            ┆           │\n",
       "│            ┆ 3a469c     ┆           ┆           ┆            ┆          ┆            ┆           │\n",
       "│ 1681748555 ┆ 0x000cd2f5 ┆ Uniswap   ┆ 0xf239009 ┆ WETH       ┆ 0xc02aaa ┆ PEPE       ┆ 0x6982508 │\n",
       "│            ┆ d66d13d43a ┆ V3 Pepe/W ┆ a101b6b93 ┆            ┆ 39b223fe ┆            ┆ 145454ce3 │\n",
       "│            ┆ 934ee4a5b7 ┆ rapped    ┆ 0a527deaa ┆            ┆ 8d0a0e5c ┆            ┆ 25ddbe47a │\n",
       "│            ┆ d9911c680e ┆ Ether 1%  ┆ b6961b6e7 ┆            ┆ 4f27ead9 ┆            ┆ 25d4ec3d2 │\n",
       "│            ┆ b0404a689c ┆           ┆ dec8a6    ┆            ┆ 083c756c ┆            ┆ 311933    │\n",
       "│            ┆ 44e0b2583e ┆           ┆           ┆            ┆ c2       ┆            ┆           │\n",
       "│            ┆ 55ee28     ┆           ┆           ┆            ┆          ┆            ┆           │\n",
       "│ 1681730903 ┆ 0x000dd433 ┆ Uniswap   ┆ 0xf239009 ┆ WETH       ┆ 0xc02aaa ┆ PEPE       ┆ 0x6982508 │\n",
       "│            ┆ 0a3fb6af76 ┆ V3 Pepe/W ┆ a101b6b93 ┆            ┆ 39b223fe ┆            ┆ 145454ce3 │\n",
       "│            ┆ 221d43e215 ┆ rapped    ┆ 0a527deaa ┆            ┆ 8d0a0e5c ┆            ┆ 25ddbe47a │\n",
       "│            ┆ 71b93e409c ┆ Ether 1%  ┆ b6961b6e7 ┆            ┆ 4f27ead9 ┆            ┆ 25d4ec3d2 │\n",
       "│            ┆ 5c40e11f8e ┆           ┆ dec8a6    ┆            ┆ 083c756c ┆            ┆ 311933    │\n",
       "│            ┆ 3f3624fa4a ┆           ┆           ┆            ┆ c2       ┆            ┆           │\n",
       "│            ┆ 2672e5     ┆           ┆           ┆            ┆          ┆            ┆           │\n",
       "│ 1681866467 ┆ 0x001138a7 ┆ Uniswap   ┆ 0xf239009 ┆ WETH       ┆ 0xc02aaa ┆ PEPE       ┆ 0x6982508 │\n",
       "│            ┆ ea7c2a5e85 ┆ V3 Pepe/W ┆ a101b6b93 ┆            ┆ 39b223fe ┆            ┆ 145454ce3 │\n",
       "│            ┆ 5400297a52 ┆ rapped    ┆ 0a527deaa ┆            ┆ 8d0a0e5c ┆            ┆ 25ddbe47a │\n",
       "│            ┆ abf22b8b9b ┆ Ether 1%  ┆ b6961b6e7 ┆            ┆ 4f27ead9 ┆            ┆ 25d4ec3d2 │\n",
       "│            ┆ 5cd71327e8 ┆           ┆ dec8a6    ┆            ┆ 083c756c ┆            ┆ 311933    │\n",
       "│            ┆ 6135299601 ┆           ┆           ┆            ┆ c2       ┆            ┆           │\n",
       "│            ┆ 8ba3aa     ┆           ┆           ┆            ┆          ┆            ┆           │\n",
       "│ 1681725263 ┆ 0x0015388d ┆ Uniswap   ┆ 0xf239009 ┆ WETH       ┆ 0xc02aaa ┆ PEPE       ┆ 0x6982508 │\n",
       "│            ┆ 53616b70bd ┆ V3 Pepe/W ┆ a101b6b93 ┆            ┆ 39b223fe ┆            ┆ 145454ce3 │\n",
       "│            ┆ be60962197 ┆ rapped    ┆ 0a527deaa ┆            ┆ 8d0a0e5c ┆            ┆ 25ddbe47a │\n",
       "│            ┆ 9ea9344bf1 ┆ Ether 1%  ┆ b6961b6e7 ┆            ┆ 4f27ead9 ┆            ┆ 25d4ec3d2 │\n",
       "│            ┆ de7b716e1f ┆           ┆ dec8a6    ┆            ┆ 083c756c ┆            ┆ 311933    │\n",
       "│            ┆ d76eb73bf7 ┆           ┆           ┆            ┆ c2       ┆            ┆           │\n",
       "│            ┆ 55cd48     ┆           ┆           ┆            ┆          ┆            ┆           │\n",
       "└────────────┴────────────┴───────────┴───────────┴────────────┴──────────┴────────────┴───────────┘"
      ]
     },
     "execution_count": 7,
     "metadata": {},
     "output_type": "execute_result"
    }
   ],
   "source": [
    "univ3_df.head(5)"
   ]
  },
  {
   "cell_type": "code",
   "execution_count": 8,
   "metadata": {},
   "outputs": [
    {
     "name": "stdout",
     "output_type": "stream",
     "text": [
      "univ3 Pepe pools: shape: (5,)\n",
      "Series: 'pool_name' [str]\n",
      "[\n",
      "\t\"Uniswap V3 Pepe/McPepes 1%\"\n",
      "\t\"Uniswap V3 Pepe/Wrapped Ether 1%\"\n",
      "\t\"Uniswap V3 Pepe/USD Coin 1%\"\n",
      "\t\"Uniswap V3 McPepes/Wrapped Ether 1%\"\n",
      "\t\"Uniswap V3 Wojak Coin/Pepe 1%\"\n",
      "]\n",
      "univ2 Pepe pools: shape: (1,)\n",
      "Series: 'pair_id' [str]\n",
      "[\n",
      "\t\"0xa43fe16908251ee70ef74718545e4fe6c5ccec9f\"\n",
      "]\n"
     ]
    }
   ],
   "source": [
    "univ3_pools = univ3_df['pool_name'].unique()\n",
    "univ2_pools = univ2_df['pair_id'].unique()\n",
    "\n",
    "print(f'univ3 Pepe pools: {univ3_pools}')\n",
    "print(f'univ2 Pepe pools: {univ2_pools}')"
   ]
  },
  {
   "cell_type": "code",
   "execution_count": null,
   "metadata": {},
   "outputs": [],
   "source": []
  }
 ],
 "metadata": {
  "kernelspec": {
   "display_name": ".venv",
   "language": "python",
   "name": "python3"
  },
  "language_info": {
   "codemirror_mode": {
    "name": "ipython",
    "version": 3
   },
   "file_extension": ".py",
   "mimetype": "text/x-python",
   "name": "python",
   "nbconvert_exporter": "python",
   "pygments_lexer": "ipython3",
   "version": "3.10.6"
  },
  "orig_nbformat": 4
 },
 "nbformat": 4,
 "nbformat_minor": 2
}
