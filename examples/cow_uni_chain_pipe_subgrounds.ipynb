{
 "cells": [
  {
   "cell_type": "code",
   "execution_count": 12,
   "metadata": {},
   "outputs": [],
   "source": [
    "from subgrounds import Subgrounds\n",
    "from subgrounds.schema import TypeRef\n",
    "\n",
    "from datetime import datetime\n",
    "from subgrounds.subgraph import SyntheticField\n",
    "\n",
    "import polars as pl"
   ]
  },
  {
   "cell_type": "code",
   "execution_count": 2,
   "metadata": {},
   "outputs": [],
   "source": [
    "# define a timestamp variable\n",
    "timestamp = 1677891498 # current block timestamp is around 1677891498 on March 3rd, 2023 8:06PM\n",
    "\n",
    "# we set a fixed query size number\n",
    "query_size = 275\n",
    "\n",
    "#Filter size - We filter trades out that are smaller than $1000 USD size\n",
    "filter_usd = 1000\n",
    "\n",
    "token_addr_list = [\n",
    "    \"0xc02aaa39b223fe8d0a0e5c4f27ead9083c756cc2\",   # weth\n",
    "    \"0xa0b86991c6218b36c1d19d4a2e9eb0ce3606eb48\"    # usdc\n",
    "    ]"
   ]
  },
  {
   "cell_type": "code",
   "execution_count": 3,
   "metadata": {},
   "outputs": [],
   "source": [
    "sg = Subgrounds()"
   ]
  },
  {
   "cell_type": "code",
   "execution_count": 4,
   "metadata": {},
   "outputs": [],
   "source": [
    "# Load\n",
    "cow_sg = sg.load_subgraph('https://api.thegraph.com/subgraphs/name/cowprotocol/cow')    # returns subgraph object"
   ]
  },
  {
   "cell_type": "code",
   "execution_count": 5,
   "metadata": {},
   "outputs": [
    {
     "name": "stdout",
     "output_type": "stream",
     "text": [
      "<class 'subgrounds.subgraph.subgraph.Subgraph'>\n"
     ]
    }
   ],
   "source": [
    "print(type(cow_sg))"
   ]
  },
  {
   "cell_type": "code",
   "execution_count": 6,
   "metadata": {},
   "outputs": [
    {
     "data": {
      "text/plain": [
       "['BigDecimal',\n",
       " 'BigInt',\n",
       " 'BlockChangedFilter',\n",
       " 'Block_height',\n",
       " 'Boolean',\n",
       " 'Bundle',\n",
       " 'Bundle_filter',\n",
       " 'Bundle_orderBy',\n",
       " 'Bytes',\n",
       " 'DailyTotal',\n",
       " 'DailyTotal_filter',\n",
       " 'DailyTotal_orderBy',\n",
       " 'Float',\n",
       " 'HourlyTotal',\n",
       " 'HourlyTotal_filter',\n",
       " 'HourlyTotal_orderBy',\n",
       " 'ID',\n",
       " 'Int',\n",
       " 'Order',\n",
       " 'OrderDirection',\n",
       " 'Order_filter',\n",
       " 'Order_orderBy',\n",
       " 'Pair',\n",
       " 'PairDaily',\n",
       " 'PairDaily_filter',\n",
       " 'PairDaily_orderBy',\n",
       " 'PairHourly',\n",
       " 'PairHourly_filter',\n",
       " 'PairHourly_orderBy',\n",
       " 'Pair_filter',\n",
       " 'Pair_orderBy',\n",
       " 'Query',\n",
       " 'Settlement',\n",
       " 'Settlement_filter',\n",
       " 'Settlement_orderBy',\n",
       " 'String',\n",
       " 'Subscription',\n",
       " 'Token',\n",
       " 'TokenDailyTotal',\n",
       " 'TokenDailyTotal_filter',\n",
       " 'TokenDailyTotal_orderBy',\n",
       " 'TokenHourlyTotal',\n",
       " 'TokenHourlyTotal_filter',\n",
       " 'TokenHourlyTotal_orderBy',\n",
       " 'TokenTradingEvent',\n",
       " 'TokenTradingEvent_filter',\n",
       " 'TokenTradingEvent_orderBy',\n",
       " 'Token_filter',\n",
       " 'Token_orderBy',\n",
       " 'Total',\n",
       " 'Total_filter',\n",
       " 'Total_orderBy',\n",
       " 'Trade',\n",
       " 'Trade_filter',\n",
       " 'Trade_orderBy',\n",
       " 'UniswapPool',\n",
       " 'UniswapPool_filter',\n",
       " 'UniswapPool_orderBy',\n",
       " 'UniswapToken',\n",
       " 'UniswapToken_filter',\n",
       " 'UniswapToken_orderBy',\n",
       " 'User',\n",
       " 'User_filter',\n",
       " 'User_orderBy',\n",
       " '_Block_',\n",
       " '_Meta_',\n",
       " '_SubgraphErrorPolicy_']"
      ]
     },
     "execution_count": 6,
     "metadata": {},
     "output_type": "execute_result"
    }
   ],
   "source": [
    "test = [name for name in cow_sg._schema.type_map.keys()]\n",
    "test"
   ]
  },
  {
   "cell_type": "code",
   "execution_count": 7,
   "metadata": {},
   "outputs": [
    {
     "data": {
      "text/plain": [
       "ObjectMeta(name='Trade', description=None, kind='OBJECT', fields=[FieldMeta(name='id', description='This Id is composed using orderId|txHashString|eventIndex', arguments=[], type_=NonNull(inner=Named(name_='ID', kind='SCALAR'), kind='NON_NULL')), FieldMeta(name='timestamp', description=\"Block's timestamp\", arguments=[], type_=NonNull(inner=Named(name_='Int', kind='SCALAR'), kind='NON_NULL')), FieldMeta(name='gasPrice', description=\"Transaction's gas price\", arguments=[], type_=NonNull(inner=Named(name_='BigInt', kind='SCALAR'), kind='NON_NULL')), FieldMeta(name='feeAmount', description=\"Trade's fee amount\", arguments=[], type_=NonNull(inner=Named(name_='BigInt', kind='SCALAR'), kind='NON_NULL')), FieldMeta(name='txHash', description='Trade event transaction hash', arguments=[], type_=NonNull(inner=Named(name_='Bytes', kind='SCALAR'), kind='NON_NULL')), FieldMeta(name='settlement', description='Settlement', arguments=[], type_=NonNull(inner=Named(name_='Settlement', kind='OBJECT'), kind='NON_NULL')), FieldMeta(name='buyAmount', description='Trade event buyAmount', arguments=[], type_=NonNull(inner=Named(name_='BigInt', kind='SCALAR'), kind='NON_NULL')), FieldMeta(name='sellAmount', description='Trade event sellAmount', arguments=[], type_=NonNull(inner=Named(name_='BigInt', kind='SCALAR'), kind='NON_NULL')), FieldMeta(name='sellToken', description='Trade event sellToken', arguments=[], type_=NonNull(inner=Named(name_='Token', kind='OBJECT'), kind='NON_NULL')), FieldMeta(name='buyToken', description='Trade event buyToken', arguments=[], type_=NonNull(inner=Named(name_='Token', kind='OBJECT'), kind='NON_NULL')), FieldMeta(name='order', description='Order', arguments=[], type_=NonNull(inner=Named(name_='Order', kind='OBJECT'), kind='NON_NULL')), FieldMeta(name='buyAmountEth', description='Buy amount in Eth', arguments=[], type_=Named(name_='BigDecimal', kind='SCALAR')), FieldMeta(name='sellAmountEth', description='Sell amount in Eth', arguments=[], type_=Named(name_='BigDecimal', kind='SCALAR')), FieldMeta(name='buyAmountUsd', description='Buy amount in Usd', arguments=[], type_=Named(name_='BigDecimal', kind='SCALAR')), FieldMeta(name='sellAmountUsd', description='Sell amount in Usd', arguments=[], type_=Named(name_='BigDecimal', kind='SCALAR'))], interfaces_=[])"
      ]
     },
     "execution_count": 7,
     "metadata": {},
     "output_type": "execute_result"
    }
   ],
   "source": [
    "cow_sg._schema.type_map['Trade']"
   ]
  },
  {
   "cell_type": "code",
   "execution_count": 8,
   "metadata": {},
   "outputs": [
    {
     "data": {
      "text/plain": [
       "['Bundle',\n",
       " 'DailyTotal',\n",
       " 'HourlyTotal',\n",
       " 'Order',\n",
       " 'Pair',\n",
       " 'PairDaily',\n",
       " 'PairHourly',\n",
       " 'Query',\n",
       " 'Settlement',\n",
       " 'Subscription',\n",
       " 'Token',\n",
       " 'TokenDailyTotal',\n",
       " 'TokenHourlyTotal',\n",
       " 'TokenTradingEvent',\n",
       " 'Total',\n",
       " 'Trade',\n",
       " 'UniswapPool',\n",
       " 'UniswapToken',\n",
       " 'User',\n",
       " '_Block_',\n",
       " '_Meta_']"
      ]
     },
     "execution_count": 8,
     "metadata": {},
     "output_type": "execute_result"
    }
   ],
   "source": [
    "schema_list = [name for name, type_ in cow_sg._schema.type_map.items() if type_.is_object]\n",
    "schema_list     # prints out the entitites of the schema"
   ]
  },
  {
   "cell_type": "code",
   "execution_count": 9,
   "metadata": {},
   "outputs": [
    {
     "data": {
      "text/plain": [
       "[('id', 'ID!'),\n",
       " ('timestamp', 'Int!'),\n",
       " ('gasPrice', 'BigInt!'),\n",
       " ('feeAmount', 'BigInt!'),\n",
       " ('txHash', 'Bytes!'),\n",
       " ('settlement', 'Settlement!'),\n",
       " ('buyAmount', 'BigInt!'),\n",
       " ('sellAmount', 'BigInt!'),\n",
       " ('sellToken', 'Token!'),\n",
       " ('buyToken', 'Token!'),\n",
       " ('order', 'Order!'),\n",
       " ('buyAmountEth', 'BigDecimal'),\n",
       " ('sellAmountEth', 'BigDecimal'),\n",
       " ('buyAmountUsd', 'BigDecimal'),\n",
       " ('sellAmountUsd', 'BigDecimal')]"
      ]
     },
     "execution_count": 9,
     "metadata": {},
     "output_type": "execute_result"
    }
   ],
   "source": [
    "# return a list of all of fields of an object\n",
    "list((field.name, TypeRef.graphql(field.type_)) for field in cow_sg.Trade._object.fields)"
   ]
  },
  {
   "cell_type": "code",
   "execution_count": 10,
   "metadata": {},
   "outputs": [],
   "source": [
    "cow_trades_qp = cow_sg.Trade"
   ]
  },
  {
   "cell_type": "code",
   "execution_count": 11,
   "metadata": {},
   "outputs": [
    {
     "name": "stdout",
     "output_type": "stream",
     "text": [
      "<class 'subgrounds.subgraph.object.Object'>\n"
     ]
    }
   ],
   "source": [
    "print(type(cow_trades_qp))"
   ]
  },
  {
   "cell_type": "code",
   "execution_count": 14,
   "metadata": {},
   "outputs": [],
   "source": [
    "def f():\n",
    "    pass"
   ]
  },
  {
   "cell_type": "code",
   "execution_count": 15,
   "metadata": {},
   "outputs": [],
   "source": [
    "# Create a SyntheticField on the Swap entity called `datetime`, which will format \n",
    "# the timestamp field into something more human readable\n",
    "cow_trades_qp.sellAmountUsd = SyntheticField(\n",
    "    f=None,\n",
    "    type_=SyntheticField.STRING,\n",
    "    deps=cow_trades_qp.sellAmountUsd,                                   # depends on the timestamp field from the original Subgraph.\n",
    ")"
   ]
  },
  {
   "cell_type": "code",
   "execution_count": 16,
   "metadata": {},
   "outputs": [],
   "source": [
    "# Create a SyntheticField on the Swap entity called `datetime`, which will format \n",
    "# the timestamp field into something more human readable\n",
    "cow_trades_qp.datetime = SyntheticField(\n",
    "    f=lambda timestamp: str(datetime.fromtimestamp(timestamp)),     # function to apply to the field\n",
    "    type_=SyntheticField.STRING,\n",
    "    deps=cow_trades_qp.timestamp,                                   # depends on the timestamp field from the original Subgraph.\n",
    ")\n",
    "\n",
    "cow_trades_qp.datetime = SyntheticField.datetime_of_timestamp(cow_trades_qp.timestamp)\n",
    "\n",
    "# FUNCTION specs:\n",
    "\n",
    "# Need to define the synthetic field path where the root column originates from. 'timestamp' comes from Trade entity from the Subgraph, that's why we query on Subgraph.Trade.timestamp instead of Subgraph.Query.trades.timestamp\n",
    "# TODO - Create a connector between the entity and the entity query interface"
   ]
  },
  {
   "cell_type": "code",
   "execution_count": 17,
   "metadata": {},
   "outputs": [
    {
     "data": {
      "text/plain": [
       "[('id', 'ID!'),\n",
       " ('timestamp', 'Int!'),\n",
       " ('gasPrice', 'BigInt!'),\n",
       " ('feeAmount', 'BigInt!'),\n",
       " ('txHash', 'Bytes!'),\n",
       " ('settlement', 'Settlement!'),\n",
       " ('buyAmount', 'BigInt!'),\n",
       " ('sellAmount', 'BigInt!'),\n",
       " ('sellToken', 'Token!'),\n",
       " ('buyToken', 'Token!'),\n",
       " ('order', 'Order!'),\n",
       " ('buyAmountEth', 'BigDecimal'),\n",
       " ('sellAmountEth', 'BigDecimal'),\n",
       " ('buyAmountUsd', 'BigDecimal'),\n",
       " ('sellAmountUsd', 'BigDecimal'),\n",
       " ('sellAmountUsd', 'String'),\n",
       " ('datetime', 'String'),\n",
       " ('datetime', 'String')]"
      ]
     },
     "execution_count": 17,
     "metadata": {},
     "output_type": "execute_result"
    }
   ],
   "source": [
    "list((field.name, TypeRef.graphql(field.type_)) for field in cow_trades_qp._object.fields)"
   ]
  },
  {
   "cell_type": "code",
   "execution_count": 15,
   "metadata": {},
   "outputs": [],
   "source": [
    "trades_qp = cow_sg.Query.trades(\n",
    "    orderBy=cow_sg.Query.trades.timestamp,\n",
    "    orderDirection='desc',\n",
    "    first=query_size,\n",
    "    where = {\n",
    "    'timestamp_lt': timestamp, \n",
    "    'buyAmountUsd_gt': filter_usd, \n",
    "    'sellAmountUsd_gt': filter_usd, \n",
    "    \"sellToken_in\": token_addr_list, \n",
    "    \"buyToken_in\": token_addr_list\n",
    "    }\n",
    ")"
   ]
  },
  {
   "cell_type": "code",
   "execution_count": 16,
   "metadata": {},
   "outputs": [],
   "source": [
    "trades_df = sg.query_df(trades_qp)"
   ]
  },
  {
   "cell_type": "code",
   "execution_count": 17,
   "metadata": {},
   "outputs": [
    {
     "data": {
      "text/html": [
       "<div>\n",
       "<style scoped>\n",
       "    .dataframe tbody tr th:only-of-type {\n",
       "        vertical-align: middle;\n",
       "    }\n",
       "\n",
       "    .dataframe tbody tr th {\n",
       "        vertical-align: top;\n",
       "    }\n",
       "\n",
       "    .dataframe thead th {\n",
       "        text-align: right;\n",
       "    }\n",
       "</style>\n",
       "<table border=\"1\" class=\"dataframe\">\n",
       "  <thead>\n",
       "    <tr style=\"text-align: right;\">\n",
       "      <th></th>\n",
       "      <th>trades_id</th>\n",
       "      <th>trades_timestamp</th>\n",
       "      <th>trades_gasPrice</th>\n",
       "      <th>trades_feeAmount</th>\n",
       "      <th>trades_txHash</th>\n",
       "      <th>trades_settlement_id</th>\n",
       "      <th>trades_buyAmount</th>\n",
       "      <th>trades_sellAmount</th>\n",
       "      <th>trades_sellToken_id</th>\n",
       "      <th>trades_buyToken_id</th>\n",
       "      <th>trades_order_id</th>\n",
       "      <th>trades_buyAmountEth</th>\n",
       "      <th>trades_sellAmountEth</th>\n",
       "      <th>trades_buyAmountUsd</th>\n",
       "      <th>trades_sellAmountUsd</th>\n",
       "      <th>trades_datetime</th>\n",
       "    </tr>\n",
       "  </thead>\n",
       "  <tbody>\n",
       "    <tr>\n",
       "      <th>0</th>\n",
       "      <td>0x2d177cbcc3e266aa322fff7f412305610b0e5fef9a0e...</td>\n",
       "      <td>1677890687</td>\n",
       "      <td>34031938581</td>\n",
       "      <td>11504283</td>\n",
       "      <td>0xdbeb3db4bf019dac721970e0eed1756bb4417b499331...</td>\n",
       "      <td>0xdbeb3db4bf019dac721970e0eed1756bb4417b499331...</td>\n",
       "      <td>63506413460458856293</td>\n",
       "      <td>100000000000</td>\n",
       "      <td>0xa0b86991c6218b36c1d19d4a2e9eb0ce3606eb48</td>\n",
       "      <td>0xc02aaa39b223fe8d0a0e5c4f27ead9083c756cc2</td>\n",
       "      <td>0x2d177cbcc3e266aa322fff7f412305610b0e5fef9a0e...</td>\n",
       "      <td>63.506413</td>\n",
       "      <td>63.678801</td>\n",
       "      <td>99729.286519</td>\n",
       "      <td>100000.000000</td>\n",
       "      <td>2023-03-03 19:44:47</td>\n",
       "    </tr>\n",
       "    <tr>\n",
       "      <th>1</th>\n",
       "      <td>0x47ece80491bf75fd7025549f9e88c7b9707061b10e10...</td>\n",
       "      <td>1677887663</td>\n",
       "      <td>30096110884</td>\n",
       "      <td>39337855</td>\n",
       "      <td>0x8810dcd2471391d3c6cc430a8080a1646d92c40554b1...</td>\n",
       "      <td>0x8810dcd2471391d3c6cc430a8080a1646d92c40554b1...</td>\n",
       "      <td>95578018322466041165</td>\n",
       "      <td>150000000000</td>\n",
       "      <td>0xa0b86991c6218b36c1d19d4a2e9eb0ce3606eb48</td>\n",
       "      <td>0xc02aaa39b223fe8d0a0e5c4f27ead9083c756cc2</td>\n",
       "      <td>0x47ece80491bf75fd7025549f9e88c7b9707061b10e10...</td>\n",
       "      <td>95.578018</td>\n",
       "      <td>95.778401</td>\n",
       "      <td>149686.177736</td>\n",
       "      <td>150000.000000</td>\n",
       "      <td>2023-03-03 18:54:23</td>\n",
       "    </tr>\n",
       "    <tr>\n",
       "      <th>2</th>\n",
       "      <td>0x8c129381cf3ea5e26a1ccdec20b07031ff477ca347ce...</td>\n",
       "      <td>1677885323</td>\n",
       "      <td>19689355198</td>\n",
       "      <td>27018672</td>\n",
       "      <td>0xf8e2a0e1ae139b4b4af587b9705895779e29c2ce1cdf...</td>\n",
       "      <td>0xf8e2a0e1ae139b4b4af587b9705895779e29c2ce1cdf...</td>\n",
       "      <td>95518272234144190879</td>\n",
       "      <td>150000000000</td>\n",
       "      <td>0xa0b86991c6218b36c1d19d4a2e9eb0ce3606eb48</td>\n",
       "      <td>0xc02aaa39b223fe8d0a0e5c4f27ead9083c756cc2</td>\n",
       "      <td>0x8c129381cf3ea5e26a1ccdec20b07031ff477ca347ce...</td>\n",
       "      <td>95.518272</td>\n",
       "      <td>95.806942</td>\n",
       "      <td>149548.044201</td>\n",
       "      <td>150000.000000</td>\n",
       "      <td>2023-03-03 18:15:23</td>\n",
       "    </tr>\n",
       "    <tr>\n",
       "      <th>3</th>\n",
       "      <td>0xc07f45a19d95d27214a7be024cf2e4c98270320c6b04...</td>\n",
       "      <td>1677882191</td>\n",
       "      <td>21220765432</td>\n",
       "      <td>4843587156540876</td>\n",
       "      <td>0x4eadf53841770fb1ba903817d7e37d348eeaf9fc2d1b...</td>\n",
       "      <td>0x4eadf53841770fb1ba903817d7e37d348eeaf9fc2d1b...</td>\n",
       "      <td>2803044267</td>\n",
       "      <td>1800000000000000000</td>\n",
       "      <td>0xc02aaa39b223fe8d0a0e5c4f27ead9083c756cc2</td>\n",
       "      <td>0xa0b86991c6218b36c1d19d4a2e9eb0ce3606eb48</td>\n",
       "      <td>0xc07f45a19d95d27214a7be024cf2e4c98270320c6b04...</td>\n",
       "      <td>1.798916</td>\n",
       "      <td>1.800000</td>\n",
       "      <td>2803.044267</td>\n",
       "      <td>2804.733026</td>\n",
       "      <td>2023-03-03 17:23:11</td>\n",
       "    </tr>\n",
       "    <tr>\n",
       "      <th>4</th>\n",
       "      <td>0x7159b0217959de588578921983bd06ab4f86513fab1c...</td>\n",
       "      <td>1677882011</td>\n",
       "      <td>21515734906</td>\n",
       "      <td>3250564090489318</td>\n",
       "      <td>0xfb4569f85710f1ba093f1001277bdb6623c508845316...</td>\n",
       "      <td>0xfb4569f85710f1ba093f1001277bdb6623c508845316...</td>\n",
       "      <td>20248988319</td>\n",
       "      <td>12965727007986554023</td>\n",
       "      <td>0xc02aaa39b223fe8d0a0e5c4f27ead9083c756cc2</td>\n",
       "      <td>0xa0b86991c6218b36c1d19d4a2e9eb0ce3606eb48</td>\n",
       "      <td>0x7159b0217959de588578921983bd06ab4f86513fab1c...</td>\n",
       "      <td>12.995247</td>\n",
       "      <td>12.965727</td>\n",
       "      <td>20248.988319</td>\n",
       "      <td>20202.990692</td>\n",
       "      <td>2023-03-03 17:20:11</td>\n",
       "    </tr>\n",
       "    <tr>\n",
       "      <th>...</th>\n",
       "      <td>...</td>\n",
       "      <td>...</td>\n",
       "      <td>...</td>\n",
       "      <td>...</td>\n",
       "      <td>...</td>\n",
       "      <td>...</td>\n",
       "      <td>...</td>\n",
       "      <td>...</td>\n",
       "      <td>...</td>\n",
       "      <td>...</td>\n",
       "      <td>...</td>\n",
       "      <td>...</td>\n",
       "      <td>...</td>\n",
       "      <td>...</td>\n",
       "      <td>...</td>\n",
       "      <td>...</td>\n",
       "    </tr>\n",
       "    <tr>\n",
       "      <th>270</th>\n",
       "      <td>0xee473d061a670ac291eace8c7d82651f12aa51c84e7c...</td>\n",
       "      <td>1677500615</td>\n",
       "      <td>20520392725</td>\n",
       "      <td>2787765993790126</td>\n",
       "      <td>0x3f2e53a85f993dd51742b1aa1ddf52b712fa04675a10...</td>\n",
       "      <td>0x3f2e53a85f993dd51742b1aa1ddf52b712fa04675a10...</td>\n",
       "      <td>122224299908</td>\n",
       "      <td>74569236417645652678</td>\n",
       "      <td>0xc02aaa39b223fe8d0a0e5c4f27ead9083c756cc2</td>\n",
       "      <td>0xa0b86991c6218b36c1d19d4a2e9eb0ce3606eb48</td>\n",
       "      <td>0xee473d061a670ac291eace8c7d82651f12aa51c84e7c...</td>\n",
       "      <td>74.604247</td>\n",
       "      <td>74.569236</td>\n",
       "      <td>122224.299908</td>\n",
       "      <td>122166.942015</td>\n",
       "      <td>2023-02-27 07:23:35</td>\n",
       "    </tr>\n",
       "    <tr>\n",
       "      <th>271</th>\n",
       "      <td>0xf1356cee8f424ecea9d6387870333cf4dafc244b7dbe...</td>\n",
       "      <td>1677482663</td>\n",
       "      <td>16673563590</td>\n",
       "      <td>0</td>\n",
       "      <td>0x3f03fb68fe311cfe4d9d956115b27a84a54e592899fa...</td>\n",
       "      <td>0x3f03fb68fe311cfe4d9d956115b27a84a54e592899fa...</td>\n",
       "      <td>4639646061444369255</td>\n",
       "      <td>7600000000</td>\n",
       "      <td>0xa0b86991c6218b36c1d19d4a2e9eb0ce3606eb48</td>\n",
       "      <td>0xc02aaa39b223fe8d0a0e5c4f27ead9083c756cc2</td>\n",
       "      <td>0xf1356cee8f424ecea9d6387870333cf4dafc244b7dbe...</td>\n",
       "      <td>4.639646</td>\n",
       "      <td>4.644845</td>\n",
       "      <td>7591.493189</td>\n",
       "      <td>7600.000000</td>\n",
       "      <td>2023-02-27 02:24:23</td>\n",
       "    </tr>\n",
       "    <tr>\n",
       "      <th>272</th>\n",
       "      <td>0x3d6c2bef8f74e0fad7879b0ee51dcc71ac0f51a29050...</td>\n",
       "      <td>1677477503</td>\n",
       "      <td>16569202889</td>\n",
       "      <td>2778102214643296</td>\n",
       "      <td>0x281232a3565e09c3418235824e3b8df795cf63f74bce...</td>\n",
       "      <td>0x281232a3565e09c3418235824e3b8df795cf63f74bce...</td>\n",
       "      <td>2447570936</td>\n",
       "      <td>1500000000000000000</td>\n",
       "      <td>0xc02aaa39b223fe8d0a0e5c4f27ead9083c756cc2</td>\n",
       "      <td>0xa0b86991c6218b36c1d19d4a2e9eb0ce3606eb48</td>\n",
       "      <td>0x3d6c2bef8f74e0fad7879b0ee51dcc71ac0f51a29050...</td>\n",
       "      <td>1.495762</td>\n",
       "      <td>1.500000</td>\n",
       "      <td>2447.570936</td>\n",
       "      <td>2454.506546</td>\n",
       "      <td>2023-02-27 00:58:23</td>\n",
       "    </tr>\n",
       "    <tr>\n",
       "      <th>273</th>\n",
       "      <td>0xd0355500cd5adf1b04729f7de871959b5247c1b361fc...</td>\n",
       "      <td>1677475655</td>\n",
       "      <td>16595490195</td>\n",
       "      <td>3631251340061698</td>\n",
       "      <td>0x797284b08d09f63ad916948b5e7862f2c798c11588b0...</td>\n",
       "      <td>0x797284b08d09f63ad916948b5e7862f2c798c11588b0...</td>\n",
       "      <td>9805281530</td>\n",
       "      <td>6000000000000000000</td>\n",
       "      <td>0xc02aaa39b223fe8d0a0e5c4f27ead9083c756cc2</td>\n",
       "      <td>0xa0b86991c6218b36c1d19d4a2e9eb0ce3606eb48</td>\n",
       "      <td>0xd0355500cd5adf1b04729f7de871959b5247c1b361fc...</td>\n",
       "      <td>5.979719</td>\n",
       "      <td>6.000000</td>\n",
       "      <td>9805.281530</td>\n",
       "      <td>9838.537824</td>\n",
       "      <td>2023-02-27 00:27:35</td>\n",
       "    </tr>\n",
       "    <tr>\n",
       "      <th>274</th>\n",
       "      <td>0x9a52649dff882b303955b86157be6e4518cc8f15d8c7...</td>\n",
       "      <td>1677474791</td>\n",
       "      <td>16634732257</td>\n",
       "      <td>1971740850454151</td>\n",
       "      <td>0x0b779efb949fe7cfbf1c3e7b2332a2bff71ce589759d...</td>\n",
       "      <td>0x0b779efb949fe7cfbf1c3e7b2332a2bff71ce589759d...</td>\n",
       "      <td>12919146021</td>\n",
       "      <td>7900000000000000000</td>\n",
       "      <td>0xc02aaa39b223fe8d0a0e5c4f27ead9083c756cc2</td>\n",
       "      <td>0xa0b86991c6218b36c1d19d4a2e9eb0ce3606eb48</td>\n",
       "      <td>0x9a52649dff882b303955b86157be6e4518cc8f15d8c7...</td>\n",
       "      <td>7.875705</td>\n",
       "      <td>7.900000</td>\n",
       "      <td>12919.146021</td>\n",
       "      <td>12958.999848</td>\n",
       "      <td>2023-02-27 00:13:11</td>\n",
       "    </tr>\n",
       "  </tbody>\n",
       "</table>\n",
       "<p>275 rows × 16 columns</p>\n",
       "</div>"
      ],
      "text/plain": [
       "                                             trades_id  trades_timestamp  \\\n",
       "0    0x2d177cbcc3e266aa322fff7f412305610b0e5fef9a0e...        1677890687   \n",
       "1    0x47ece80491bf75fd7025549f9e88c7b9707061b10e10...        1677887663   \n",
       "2    0x8c129381cf3ea5e26a1ccdec20b07031ff477ca347ce...        1677885323   \n",
       "3    0xc07f45a19d95d27214a7be024cf2e4c98270320c6b04...        1677882191   \n",
       "4    0x7159b0217959de588578921983bd06ab4f86513fab1c...        1677882011   \n",
       "..                                                 ...               ...   \n",
       "270  0xee473d061a670ac291eace8c7d82651f12aa51c84e7c...        1677500615   \n",
       "271  0xf1356cee8f424ecea9d6387870333cf4dafc244b7dbe...        1677482663   \n",
       "272  0x3d6c2bef8f74e0fad7879b0ee51dcc71ac0f51a29050...        1677477503   \n",
       "273  0xd0355500cd5adf1b04729f7de871959b5247c1b361fc...        1677475655   \n",
       "274  0x9a52649dff882b303955b86157be6e4518cc8f15d8c7...        1677474791   \n",
       "\n",
       "     trades_gasPrice  trades_feeAmount  \\\n",
       "0        34031938581          11504283   \n",
       "1        30096110884          39337855   \n",
       "2        19689355198          27018672   \n",
       "3        21220765432  4843587156540876   \n",
       "4        21515734906  3250564090489318   \n",
       "..               ...               ...   \n",
       "270      20520392725  2787765993790126   \n",
       "271      16673563590                 0   \n",
       "272      16569202889  2778102214643296   \n",
       "273      16595490195  3631251340061698   \n",
       "274      16634732257  1971740850454151   \n",
       "\n",
       "                                         trades_txHash  \\\n",
       "0    0xdbeb3db4bf019dac721970e0eed1756bb4417b499331...   \n",
       "1    0x8810dcd2471391d3c6cc430a8080a1646d92c40554b1...   \n",
       "2    0xf8e2a0e1ae139b4b4af587b9705895779e29c2ce1cdf...   \n",
       "3    0x4eadf53841770fb1ba903817d7e37d348eeaf9fc2d1b...   \n",
       "4    0xfb4569f85710f1ba093f1001277bdb6623c508845316...   \n",
       "..                                                 ...   \n",
       "270  0x3f2e53a85f993dd51742b1aa1ddf52b712fa04675a10...   \n",
       "271  0x3f03fb68fe311cfe4d9d956115b27a84a54e592899fa...   \n",
       "272  0x281232a3565e09c3418235824e3b8df795cf63f74bce...   \n",
       "273  0x797284b08d09f63ad916948b5e7862f2c798c11588b0...   \n",
       "274  0x0b779efb949fe7cfbf1c3e7b2332a2bff71ce589759d...   \n",
       "\n",
       "                                  trades_settlement_id      trades_buyAmount  \\\n",
       "0    0xdbeb3db4bf019dac721970e0eed1756bb4417b499331...  63506413460458856293   \n",
       "1    0x8810dcd2471391d3c6cc430a8080a1646d92c40554b1...  95578018322466041165   \n",
       "2    0xf8e2a0e1ae139b4b4af587b9705895779e29c2ce1cdf...  95518272234144190879   \n",
       "3    0x4eadf53841770fb1ba903817d7e37d348eeaf9fc2d1b...            2803044267   \n",
       "4    0xfb4569f85710f1ba093f1001277bdb6623c508845316...           20248988319   \n",
       "..                                                 ...                   ...   \n",
       "270  0x3f2e53a85f993dd51742b1aa1ddf52b712fa04675a10...          122224299908   \n",
       "271  0x3f03fb68fe311cfe4d9d956115b27a84a54e592899fa...   4639646061444369255   \n",
       "272  0x281232a3565e09c3418235824e3b8df795cf63f74bce...            2447570936   \n",
       "273  0x797284b08d09f63ad916948b5e7862f2c798c11588b0...            9805281530   \n",
       "274  0x0b779efb949fe7cfbf1c3e7b2332a2bff71ce589759d...           12919146021   \n",
       "\n",
       "        trades_sellAmount                         trades_sellToken_id  \\\n",
       "0            100000000000  0xa0b86991c6218b36c1d19d4a2e9eb0ce3606eb48   \n",
       "1            150000000000  0xa0b86991c6218b36c1d19d4a2e9eb0ce3606eb48   \n",
       "2            150000000000  0xa0b86991c6218b36c1d19d4a2e9eb0ce3606eb48   \n",
       "3     1800000000000000000  0xc02aaa39b223fe8d0a0e5c4f27ead9083c756cc2   \n",
       "4    12965727007986554023  0xc02aaa39b223fe8d0a0e5c4f27ead9083c756cc2   \n",
       "..                    ...                                         ...   \n",
       "270  74569236417645652678  0xc02aaa39b223fe8d0a0e5c4f27ead9083c756cc2   \n",
       "271            7600000000  0xa0b86991c6218b36c1d19d4a2e9eb0ce3606eb48   \n",
       "272   1500000000000000000  0xc02aaa39b223fe8d0a0e5c4f27ead9083c756cc2   \n",
       "273   6000000000000000000  0xc02aaa39b223fe8d0a0e5c4f27ead9083c756cc2   \n",
       "274   7900000000000000000  0xc02aaa39b223fe8d0a0e5c4f27ead9083c756cc2   \n",
       "\n",
       "                             trades_buyToken_id  \\\n",
       "0    0xc02aaa39b223fe8d0a0e5c4f27ead9083c756cc2   \n",
       "1    0xc02aaa39b223fe8d0a0e5c4f27ead9083c756cc2   \n",
       "2    0xc02aaa39b223fe8d0a0e5c4f27ead9083c756cc2   \n",
       "3    0xa0b86991c6218b36c1d19d4a2e9eb0ce3606eb48   \n",
       "4    0xa0b86991c6218b36c1d19d4a2e9eb0ce3606eb48   \n",
       "..                                          ...   \n",
       "270  0xa0b86991c6218b36c1d19d4a2e9eb0ce3606eb48   \n",
       "271  0xc02aaa39b223fe8d0a0e5c4f27ead9083c756cc2   \n",
       "272  0xa0b86991c6218b36c1d19d4a2e9eb0ce3606eb48   \n",
       "273  0xa0b86991c6218b36c1d19d4a2e9eb0ce3606eb48   \n",
       "274  0xa0b86991c6218b36c1d19d4a2e9eb0ce3606eb48   \n",
       "\n",
       "                                       trades_order_id  trades_buyAmountEth  \\\n",
       "0    0x2d177cbcc3e266aa322fff7f412305610b0e5fef9a0e...            63.506413   \n",
       "1    0x47ece80491bf75fd7025549f9e88c7b9707061b10e10...            95.578018   \n",
       "2    0x8c129381cf3ea5e26a1ccdec20b07031ff477ca347ce...            95.518272   \n",
       "3    0xc07f45a19d95d27214a7be024cf2e4c98270320c6b04...             1.798916   \n",
       "4    0x7159b0217959de588578921983bd06ab4f86513fab1c...            12.995247   \n",
       "..                                                 ...                  ...   \n",
       "270  0xee473d061a670ac291eace8c7d82651f12aa51c84e7c...            74.604247   \n",
       "271  0xf1356cee8f424ecea9d6387870333cf4dafc244b7dbe...             4.639646   \n",
       "272  0x3d6c2bef8f74e0fad7879b0ee51dcc71ac0f51a29050...             1.495762   \n",
       "273  0xd0355500cd5adf1b04729f7de871959b5247c1b361fc...             5.979719   \n",
       "274  0x9a52649dff882b303955b86157be6e4518cc8f15d8c7...             7.875705   \n",
       "\n",
       "     trades_sellAmountEth  trades_buyAmountUsd  trades_sellAmountUsd  \\\n",
       "0               63.678801         99729.286519         100000.000000   \n",
       "1               95.778401        149686.177736         150000.000000   \n",
       "2               95.806942        149548.044201         150000.000000   \n",
       "3                1.800000          2803.044267           2804.733026   \n",
       "4               12.965727         20248.988319          20202.990692   \n",
       "..                    ...                  ...                   ...   \n",
       "270             74.569236        122224.299908         122166.942015   \n",
       "271              4.644845          7591.493189           7600.000000   \n",
       "272              1.500000          2447.570936           2454.506546   \n",
       "273              6.000000          9805.281530           9838.537824   \n",
       "274              7.900000         12919.146021          12958.999848   \n",
       "\n",
       "         trades_datetime  \n",
       "0    2023-03-03 19:44:47  \n",
       "1    2023-03-03 18:54:23  \n",
       "2    2023-03-03 18:15:23  \n",
       "3    2023-03-03 17:23:11  \n",
       "4    2023-03-03 17:20:11  \n",
       "..                   ...  \n",
       "270  2023-02-27 07:23:35  \n",
       "271  2023-02-27 02:24:23  \n",
       "272  2023-02-27 00:58:23  \n",
       "273  2023-02-27 00:27:35  \n",
       "274  2023-02-27 00:13:11  \n",
       "\n",
       "[275 rows x 16 columns]"
      ]
     },
     "execution_count": 17,
     "metadata": {},
     "output_type": "execute_result"
    }
   ],
   "source": [
    "trades_df"
   ]
  },
  {
   "cell_type": "code",
   "execution_count": 18,
   "metadata": {},
   "outputs": [
    {
     "data": {
      "text/plain": [
       "0      2023-03-03 19:44:47\n",
       "1      2023-03-03 18:54:23\n",
       "2      2023-03-03 18:15:23\n",
       "3      2023-03-03 17:23:11\n",
       "4      2023-03-03 17:20:11\n",
       "              ...         \n",
       "270    2023-02-27 07:23:35\n",
       "271    2023-02-27 02:24:23\n",
       "272    2023-02-27 00:58:23\n",
       "273    2023-02-27 00:27:35\n",
       "274    2023-02-27 00:13:11\n",
       "Name: trades_datetime, Length: 275, dtype: object"
      ]
     },
     "execution_count": 18,
     "metadata": {},
     "output_type": "execute_result"
    }
   ],
   "source": [
    "trades_df['trades_datetime']"
   ]
  },
  {
   "cell_type": "code",
   "execution_count": 19,
   "metadata": {},
   "outputs": [
    {
     "data": {
      "text/plain": [
       "trades_id                object\n",
       "trades_timestamp          int64\n",
       "trades_gasPrice           int64\n",
       "trades_feeAmount          int64\n",
       "trades_txHash            object\n",
       "trades_settlement_id     object\n",
       "trades_buyAmount         object\n",
       "trades_sellAmount        object\n",
       "trades_sellToken_id      object\n",
       "trades_buyToken_id       object\n",
       "trades_order_id          object\n",
       "trades_buyAmountEth     float64\n",
       "trades_sellAmountEth    float64\n",
       "trades_buyAmountUsd     float64\n",
       "trades_sellAmountUsd    float64\n",
       "trades_datetime          object\n",
       "dtype: object"
      ]
     },
     "execution_count": 19,
     "metadata": {},
     "output_type": "execute_result"
    }
   ],
   "source": [
    "trades_df.dtypes"
   ]
  },
  {
   "cell_type": "code",
   "execution_count": 20,
   "metadata": {},
   "outputs": [],
   "source": [
    "# convert buy and sell amounts to float64\n",
    "trades_df['trades_gasPrice'] = trades_df['trades_gasPrice'].astype('float64')\n",
    "trades_df['trades_feeAmount'] = trades_df['trades_feeAmount'].astype('float64')\n",
    "trades_df['trades_buyAmount'] = trades_df['trades_buyAmount'].astype('float64')\n",
    "trades_df['trades_sellAmount'] = trades_df['trades_sellAmount'].astype('float64')"
   ]
  },
  {
   "cell_type": "code",
   "execution_count": 21,
   "metadata": {},
   "outputs": [],
   "source": [
    "# convert trades_df to polars dataframe\n",
    "trades_pl = pl.from_pandas(trades_df)"
   ]
  },
  {
   "cell_type": "code",
   "execution_count": 22,
   "metadata": {},
   "outputs": [
    {
     "name": "stdout",
     "output_type": "stream",
     "text": [
      "query returned 275 rows\n"
     ]
    }
   ],
   "source": [
    "print(f'query returned {len(trades_pl)} rows')"
   ]
  },
  {
   "attachments": {},
   "cell_type": "markdown",
   "metadata": {},
   "source": [
    "### Cowswap Trades-Settlement Merge"
   ]
  },
  {
   "cell_type": "code",
   "execution_count": 23,
   "metadata": {},
   "outputs": [],
   "source": [
    "# get unique trades_settlement_id list\n",
    "trades_settlement_id_list = trades_pl['trades_settlement_id'].unique().to_list()"
   ]
  },
  {
   "cell_type": "code",
   "execution_count": 24,
   "metadata": {},
   "outputs": [],
   "source": [
    "query_index = len(trades_settlement_id_list)"
   ]
  },
  {
   "cell_type": "code",
   "execution_count": 25,
   "metadata": {},
   "outputs": [],
   "source": [
    "# get index of every 999th value in query_index. Needs to be less than 999 otherwise we get a 413 Request Entity Too Large error. \n",
    "# Note that this doesn't happen with the Univ3 subgraph query below, it appears to be subgraph specific. I will leave this as an open conjecture.\n",
    "query_index_list = [i for i in range(0, query_index, 999)]"
   ]
  },
  {
   "cell_type": "code",
   "execution_count": 26,
   "metadata": {},
   "outputs": [],
   "source": [
    "# append the last value in the index list to the query_index_list\n",
    "query_index_list.append(query_index)"
   ]
  },
  {
   "cell_type": "code",
   "execution_count": 27,
   "metadata": {},
   "outputs": [],
   "source": [
    "data = []"
   ]
  },
  {
   "cell_type": "code",
   "execution_count": 28,
   "metadata": {},
   "outputs": [],
   "source": [
    "# get field path\n",
    "settlements_fp = cow_sg.Query.settlements"
   ]
  },
  {
   "cell_type": "code",
   "execution_count": 29,
   "metadata": {},
   "outputs": [
    {
     "name": "stdout",
     "output_type": "stream",
     "text": [
      "querying 0 to 271. Remaining: 0, 0.00%\n"
     ]
    }
   ],
   "source": [
    "for i in range(1, len(query_index_list)):\n",
    "    print(f'querying {query_index_list[i-1]} to {query_index_list[i]}. Remaining: {len(trades_settlement_id_list) - query_index_list[i]}, {((len(trades_settlement_id_list) - query_index_list[i]) / len(trades_settlement_id_list)) * 100:.2f}%')\n",
    "\n",
    "    # define a \"partition\", which is part of the larger trades_settlement_id_list\n",
    "    partition = trades_settlement_id_list[query_index_list[i-1]:query_index_list[i]]\n",
    "\n",
    "    # define query path with partition of unique settlement ids\n",
    "    qp = settlements_fp(\n",
    "        first = query_size,\n",
    "        where= {\"txHash_in\": partition},\n",
    "    )\n",
    "    \n",
    "    # run query\n",
    "    df = sg.query_df(qp)\n",
    "\n",
    "    # append df to data list\n",
    "    data.append(df)"
   ]
  },
  {
   "cell_type": "code",
   "execution_count": 30,
   "metadata": {},
   "outputs": [],
   "source": [
    "# convert dataframes from settlement_data_store to polars dataframes\n",
    "settlement_data_store_pl = [pl.from_pandas(df) for df in data]"
   ]
  },
  {
   "cell_type": "code",
   "execution_count": 31,
   "metadata": {},
   "outputs": [],
   "source": [
    "# convert list of pandas dataframes to polars dataframes\n",
    "settlements_pl = pl.concat(settlement_data_store_pl)"
   ]
  },
  {
   "cell_type": "code",
   "execution_count": 32,
   "metadata": {},
   "outputs": [],
   "source": [
    "# merge trades and settlement dataframes on the settlement transaction hash\n",
    "cow_complete_pl = trades_pl.join(other=settlements_pl, left_on='trades_settlement_id', right_on='settlements_txHash', how='inner')"
   ]
  },
  {
   "cell_type": "code",
   "execution_count": 33,
   "metadata": {},
   "outputs": [
    {
     "data": {
      "text/html": [
       "<div><style>\n",
       ".dataframe > thead > tr > th,\n",
       ".dataframe > tbody > tr > td {\n",
       "  text-align: right;\n",
       "}\n",
       "</style>\n",
       "<small>shape: (10, 16)</small><table border=\"1\" class=\"dataframe\"><thead><tr><th>trades_id</th><th>trades_timestamp</th><th>trades_gasPrice</th><th>trades_feeAmount</th><th>trades_txHash</th><th>trades_settlement_id</th><th>trades_buyAmount</th><th>trades_sellAmount</th><th>trades_sellToken_id</th><th>trades_buyToken_id</th><th>trades_order_id</th><th>trades_buyAmountEth</th><th>trades_sellAmountEth</th><th>trades_buyAmountUsd</th><th>trades_sellAmountUsd</th><th>trades_datetime</th></tr><tr><td>str</td><td>i64</td><td>f64</td><td>f64</td><td>str</td><td>str</td><td>f64</td><td>f64</td><td>str</td><td>str</td><td>str</td><td>f64</td><td>f64</td><td>f64</td><td>f64</td><td>str</td></tr></thead><tbody><tr><td>&quot;0x2158084ae52e...</td><td>1677509399</td><td>2.3575e10</td><td>3.0912e15</td><td>&quot;0x0009d818aa53...</td><td>&quot;0x0009d818aa53...</td><td>1.2154e11</td><td>7.3452e19</td><td>&quot;0xc02aaa39b223...</td><td>&quot;0xa0b86991c621...</td><td>&quot;0x2158084ae52e...</td><td>73.292774</td><td>73.45208</td><td>121536.232845</td><td>121800.398218</td><td>&quot;2023-02-27 09:...</td></tr><tr><td>&quot;0xef3113f5d843...</td><td>1677521735</td><td>2.2080e10</td><td>3.4601e15</td><td>&quot;0x001b1f0d864a...</td><td>&quot;0x001b1f0d864a...</td><td>6.2694e9</td><td>3.8486e18</td><td>&quot;0xc02aaa39b223...</td><td>&quot;0xa0b86991c621...</td><td>&quot;0xef3113f5d843...</td><td>3.842886</td><td>3.848636</td><td>6269.358968</td><td>6278.738705</td><td>&quot;2023-02-27 13:...</td></tr><tr><td>&quot;0xde2bae25011f...</td><td>1677782939</td><td>2.3052e10</td><td>1.0518602e7</td><td>&quot;0x005a477d5c66...</td><td>&quot;0x005a477d5c66...</td><td>2.9966e19</td><td>4.8931e10</td><td>&quot;0xa0b86991c621...</td><td>&quot;0xc02aaa39b223...</td><td>&quot;0xde2bae25011f...</td><td>29.966126</td><td>30.007133</td><td>48863.789034</td><td>48930.655882</td><td>&quot;2023-03-02 13:...</td></tr><tr><td>&quot;0x6d84366278c8...</td><td>1677537239</td><td>4.3903e10</td><td>8.7252e15</td><td>&quot;0x0087af59fc94...</td><td>&quot;0x0087af59fc94...</td><td>5.0000e10</td><td>3.0767e19</td><td>&quot;0xc02aaa39b223...</td><td>&quot;0xa0b86991c621...</td><td>&quot;0x6d84366278c8...</td><td>30.737623</td><td>30.767377</td><td>50000.0</td><td>50048.399623</td><td>&quot;2023-02-27 17:...</td></tr><tr><td>&quot;0xd78d356d89b6...</td><td>1677679631</td><td>2.9598e10</td><td>0.0</td><td>&quot;0x0190f20a1df9...</td><td>&quot;0x0190f20a1df9...</td><td>2.0131e19</td><td>3.3237e10</td><td>&quot;0xa0b86991c621...</td><td>&quot;0xc02aaa39b223...</td><td>&quot;0xd78d356d89b6...</td><td>20.131319</td><td>20.124677</td><td>33247.568705</td><td>33236.6</td><td>&quot;2023-03-01 09:...</td></tr><tr><td>&quot;0x0f95418557cc...</td><td>1677876719</td><td>3.7083e10</td><td>3.1461e16</td><td>&quot;0x02cff342f354...</td><td>&quot;0x02cff342f354...</td><td>2.5885e11</td><td>1.6600e20</td><td>&quot;0xc02aaa39b223...</td><td>&quot;0xa0b86991c621...</td><td>&quot;0x0f95418557cc...</td><td>165.589339</td><td>166.0</td><td>258847.922699</td><td>259489.864839</td><td>&quot;2023-03-03 15:...</td></tr><tr><td>&quot;0xa0c092ef3720...</td><td>1677774407</td><td>5.1698e10</td><td>1.5279e16</td><td>&quot;0x0319226dc145...</td><td>&quot;0x0319226dc145...</td><td>1.6044e9</td><td>1.0000e18</td><td>&quot;0xc02aaa39b223...</td><td>&quot;0xa0b86991c621...</td><td>&quot;0xa0c092ef3720...</td><td>0.986321</td><td>1.0</td><td>1604.392011</td><td>1626.643406</td><td>&quot;2023-03-02 11:...</td></tr><tr><td>&quot;0x0a98ee924d56...</td><td>1677772703</td><td>8.2712e10</td><td>2.8607532e7</td><td>&quot;0x0320236cb551...</td><td>&quot;0x0320236cb551...</td><td>4.0253e18</td><td>6.5816e9</td><td>&quot;0xa0b86991c621...</td><td>&quot;0xc02aaa39b223...</td><td>&quot;0x0a98ee924d56...</td><td>4.025333</td><td>4.0461</td><td>6547.781252</td><td>6581.562471</td><td>&quot;2023-03-02 10:...</td></tr><tr><td>&quot;0xc5ee59a851c0...</td><td>1677545699</td><td>1.9820e10</td><td>1.9972e15</td><td>&quot;0x032f3d01d208...</td><td>&quot;0x032f3d01d208...</td><td>1.0610e11</td><td>6.5141e19</td><td>&quot;0xc02aaa39b223...</td><td>&quot;0xa0b86991c621...</td><td>&quot;0xc5ee59a851c0...</td><td>65.056312</td><td>65.140829</td><td>106103.901104</td><td>106241.743949</td><td>&quot;2023-02-27 19:...</td></tr><tr><td>&quot;0x1ab322dfb90f...</td><td>1677869327</td><td>4.8063e10</td><td>0.0</td><td>&quot;0x03be2fea4545...</td><td>&quot;0x03be2fea4545...</td><td>3.0000e19</td><td>4.6784e10</td><td>&quot;0xa0b86991c621...</td><td>&quot;0xc02aaa39b223...</td><td>&quot;0x1ab322dfb90f...</td><td>30.0</td><td>30.020595</td><td>46752.312017</td><td>46784.408148</td><td>&quot;2023-03-03 13:...</td></tr></tbody></table></div>"
      ],
      "text/plain": [
       "shape: (10, 16)\n",
       "┌─────────┬────────────┬────────────┬────────────┬───┬────────────┬────────────┬────────────┬────────────┐\n",
       "│ trades_ ┆ trades_tim ┆ trades_gas ┆ trades_fee ┆ … ┆ trades_sel ┆ trades_buy ┆ trades_sel ┆ trades_dat │\n",
       "│ id      ┆ estamp     ┆ Price      ┆ Amount     ┆   ┆ lAmountEth ┆ AmountUsd  ┆ lAmountUsd ┆ etime      │\n",
       "│ ---     ┆ ---        ┆ ---        ┆ ---        ┆   ┆ ---        ┆ ---        ┆ ---        ┆ ---        │\n",
       "│ str     ┆ i64        ┆ f64        ┆ f64        ┆   ┆ f64        ┆ f64        ┆ f64        ┆ str        │\n",
       "╞═════════╪════════════╪════════════╪════════════╪═══╪════════════╪════════════╪════════════╪════════════╡\n",
       "│ 0x21580 ┆ 1677509399 ┆ 2.3575e10  ┆ 3.0912e15  ┆ … ┆ 73.45208   ┆ 121536.232 ┆ 121800.398 ┆ 2023-02-27 │\n",
       "│ 84ae52e ┆            ┆            ┆            ┆   ┆            ┆ 845        ┆ 218        ┆ 09:49:59   │\n",
       "│ a65d660 ┆            ┆            ┆            ┆   ┆            ┆            ┆            ┆            │\n",
       "│ 8b26c56 ┆            ┆            ┆            ┆   ┆            ┆            ┆            ┆            │\n",
       "│ dd5a…   ┆            ┆            ┆            ┆   ┆            ┆            ┆            ┆            │\n",
       "│ 0xef311 ┆ 1677521735 ┆ 2.2080e10  ┆ 3.4601e15  ┆ … ┆ 3.848636   ┆ 6269.35896 ┆ 6278.73870 ┆ 2023-02-27 │\n",
       "│ 3f5d843 ┆            ┆            ┆            ┆   ┆            ┆ 8          ┆ 5          ┆ 13:15:35   │\n",
       "│ 8948f97 ┆            ┆            ┆            ┆   ┆            ┆            ┆            ┆            │\n",
       "│ 08b8512 ┆            ┆            ┆            ┆   ┆            ┆            ┆            ┆            │\n",
       "│ 19c4…   ┆            ┆            ┆            ┆   ┆            ┆            ┆            ┆            │\n",
       "│ 0xde2ba ┆ 1677782939 ┆ 2.3052e10  ┆ 1.0518602e ┆ … ┆ 30.007133  ┆ 48863.7890 ┆ 48930.6558 ┆ 2023-03-02 │\n",
       "│ e25011f ┆            ┆            ┆ 7          ┆   ┆            ┆ 34         ┆ 82         ┆ 13:48:59   │\n",
       "│ bd6879e ┆            ┆            ┆            ┆   ┆            ┆            ┆            ┆            │\n",
       "│ 8fe74d3 ┆            ┆            ┆            ┆   ┆            ┆            ┆            ┆            │\n",
       "│ 13e6…   ┆            ┆            ┆            ┆   ┆            ┆            ┆            ┆            │\n",
       "│ 0x6d843 ┆ 1677537239 ┆ 4.3903e10  ┆ 8.7252e15  ┆ … ┆ 30.767377  ┆ 50000.0    ┆ 50048.3996 ┆ 2023-02-27 │\n",
       "│ 66278c8 ┆            ┆            ┆            ┆   ┆            ┆            ┆ 23         ┆ 17:33:59   │\n",
       "│ 6f89440 ┆            ┆            ┆            ┆   ┆            ┆            ┆            ┆            │\n",
       "│ 51cd693 ┆            ┆            ┆            ┆   ┆            ┆            ┆            ┆            │\n",
       "│ a430…   ┆            ┆            ┆            ┆   ┆            ┆            ┆            ┆            │\n",
       "│ …       ┆ …          ┆ …          ┆ …          ┆ … ┆ …          ┆ …          ┆ …          ┆ …          │\n",
       "│ 0xa0c09 ┆ 1677774407 ┆ 5.1698e10  ┆ 1.5279e16  ┆ … ┆ 1.0        ┆ 1604.39201 ┆ 1626.64340 ┆ 2023-03-02 │\n",
       "│ 2ef3720 ┆            ┆            ┆            ┆   ┆            ┆ 1          ┆ 6          ┆ 11:26:47   │\n",
       "│ 76eeba6 ┆            ┆            ┆            ┆   ┆            ┆            ┆            ┆            │\n",
       "│ d614c63 ┆            ┆            ┆            ┆   ┆            ┆            ┆            ┆            │\n",
       "│ fa04…   ┆            ┆            ┆            ┆   ┆            ┆            ┆            ┆            │\n",
       "│ 0x0a98e ┆ 1677772703 ┆ 8.2712e10  ┆ 2.8607532e ┆ … ┆ 4.0461     ┆ 6547.78125 ┆ 6581.56247 ┆ 2023-03-02 │\n",
       "│ e924d56 ┆            ┆            ┆ 7          ┆   ┆            ┆ 2          ┆ 1          ┆ 10:58:23   │\n",
       "│ c5740dd ┆            ┆            ┆            ┆   ┆            ┆            ┆            ┆            │\n",
       "│ 6752d8b ┆            ┆            ┆            ┆   ┆            ┆            ┆            ┆            │\n",
       "│ 471e…   ┆            ┆            ┆            ┆   ┆            ┆            ┆            ┆            │\n",
       "│ 0xc5ee5 ┆ 1677545699 ┆ 1.9820e10  ┆ 1.9972e15  ┆ … ┆ 65.140829  ┆ 106103.901 ┆ 106241.743 ┆ 2023-02-27 │\n",
       "│ 9a851c0 ┆            ┆            ┆            ┆   ┆            ┆ 104        ┆ 949        ┆ 19:54:59   │\n",
       "│ 06b8e17 ┆            ┆            ┆            ┆   ┆            ┆            ┆            ┆            │\n",
       "│ e7a536b ┆            ┆            ┆            ┆   ┆            ┆            ┆            ┆            │\n",
       "│ 2790…   ┆            ┆            ┆            ┆   ┆            ┆            ┆            ┆            │\n",
       "│ 0x1ab32 ┆ 1677869327 ┆ 4.8063e10  ┆ 0.0        ┆ … ┆ 30.020595  ┆ 46752.3120 ┆ 46784.4081 ┆ 2023-03-03 │\n",
       "│ 2dfb90f ┆            ┆            ┆            ┆   ┆            ┆ 17         ┆ 48         ┆ 13:48:47   │\n",
       "│ 7aa4564 ┆            ┆            ┆            ┆   ┆            ┆            ┆            ┆            │\n",
       "│ 3aab2fd ┆            ┆            ┆            ┆   ┆            ┆            ┆            ┆            │\n",
       "│ ea36…   ┆            ┆            ┆            ┆   ┆            ┆            ┆            ┆            │\n",
       "└─────────┴────────────┴────────────┴────────────┴───┴────────────┴────────────┴────────────┴────────────┘"
      ]
     },
     "execution_count": 33,
     "metadata": {},
     "output_type": "execute_result"
    }
   ],
   "source": [
    "# sort trades_pl by trades_settlement_id\n",
    "trades_pl.sort('trades_settlement_id').head(10)"
   ]
  },
  {
   "cell_type": "code",
   "execution_count": 34,
   "metadata": {},
   "outputs": [
    {
     "name": "stdout",
     "output_type": "stream",
     "text": [
      "trades_pl shape: (275, 16)\n",
      "settlements_pl shape: (271, 4)\n",
      "cow_complete_pl shape: (275, 19)\n"
     ]
    }
   ],
   "source": [
    "# print f the shapes of the dataframes\n",
    "print(f'trades_pl shape: {trades_pl.shape}')\n",
    "print(f'settlements_pl shape: {settlements_pl.shape}')\n",
    "print(f'cow_complete_pl shape: {cow_complete_pl.shape}')"
   ]
  },
  {
   "attachments": {},
   "cell_type": "markdown",
   "metadata": {},
   "source": [
    "### Univ3 Swaps"
   ]
  },
  {
   "cell_type": "code",
   "execution_count": 35,
   "metadata": {},
   "outputs": [],
   "source": [
    "# Load\n",
    "univ3_sg = sg.load_subgraph('https://api.thegraph.com/subgraphs/name/messari/uniswap-v3-ethereum')"
   ]
  },
  {
   "cell_type": "code",
   "execution_count": 36,
   "metadata": {},
   "outputs": [],
   "source": [
    "uni_swaps_qp = univ3_sg.Query.swaps"
   ]
  },
  {
   "cell_type": "code",
   "execution_count": 37,
   "metadata": {},
   "outputs": [],
   "source": [
    "weth_usdc_list = [\n",
    "    \"0x88e6a0c2ddd26feeb64f039a2c41296fcb3f5640\", # usdc/weth .05%\n",
    "    \"0x8ad599c3a0ff1de082011efddc58f1908eb6e6d8\" #usdc/weth .3%\n",
    "]\n",
    "\n",
    "# get timestamps list\n",
    "timestamps_list = cow_complete_pl['trades_timestamp'].to_list()\n",
    "\n",
    "# filter for unique values\n",
    "cow_timestamps = list(set(timestamps_list))"
   ]
  },
  {
   "cell_type": "code",
   "execution_count": 38,
   "metadata": {},
   "outputs": [],
   "source": [
    "swaps_query_index = len(cow_timestamps)"
   ]
  },
  {
   "cell_type": "code",
   "execution_count": 39,
   "metadata": {},
   "outputs": [],
   "source": [
    "cow_timestamp_query_list = [i for i in range(0, len(cow_timestamps), 999)]\n",
    "# append the last value in the index list to the query_index_list\n",
    "cow_timestamp_query_list.append(swaps_query_index)"
   ]
  },
  {
   "cell_type": "code",
   "execution_count": 40,
   "metadata": {},
   "outputs": [],
   "source": [
    "swaps_data = []"
   ]
  },
  {
   "cell_type": "code",
   "execution_count": 41,
   "metadata": {},
   "outputs": [
    {
     "name": "stdout",
     "output_type": "stream",
     "text": [
      "querying 0 to 271. Remaining: 0, 0.00%\n"
     ]
    }
   ],
   "source": [
    "for i in range(1, len(cow_timestamp_query_list)):\n",
    "    print(f'querying {cow_timestamp_query_list[i-1]} to {cow_timestamp_query_list[i]}. Remaining: {len(cow_timestamps) - cow_timestamp_query_list[i]}, {((len(cow_timestamps) - cow_timestamp_query_list[i]) / len(cow_timestamps)) * 100:.2f}%')\n",
    "\n",
    "    # define a \"partition\", which is part of the larger cow_timestamps\n",
    "    partition = cow_timestamps[cow_timestamp_query_list[i-1]:cow_timestamp_query_list[i]]\n",
    "\n",
    "    # define query path with partition of unique settlement ids\n",
    "    swaps_qp = uni_swaps_qp(\n",
    "        orderBy=uni_swaps_qp.timestamp,\n",
    "        orderDirection='desc',\n",
    "        first=query_size * 5,\n",
    "        where = {'timestamp_in': partition, 'amountInUSD_gt': filter_usd, 'amountOutUSD_gt': filter_usd, 'pool_in': weth_usdc_list} \n",
    "    )\n",
    "    \n",
    "    # run query\n",
    "    df = sg.query_df(swaps_qp)\n",
    "\n",
    "    # convert all int64 columns to float64 to avoid large int overflows\n",
    "    df['swaps_gasLimit'] = df['swaps_gasLimit'].astype('float64')\n",
    "    df['swaps_gasPrice'] = df['swaps_gasPrice'].astype('float64')\n",
    "    df['swaps_tick'] = df['swaps_tick'].astype('float64')\n",
    "    df['swaps_amountIn'] = df['swaps_amountIn'].astype('float64')\n",
    "    df['swaps_amountOut'] = df['swaps_amountOut'].astype('float64')\n",
    "\n",
    "    # append df to data list\n",
    "    swaps_data.append(df)"
   ]
  },
  {
   "cell_type": "code",
   "execution_count": 42,
   "metadata": {},
   "outputs": [],
   "source": [
    "# convert dataframes to polars in swaps_data\n",
    "swaps_df = [pl.from_pandas(df) for df in swaps_data]"
   ]
  },
  {
   "cell_type": "code",
   "execution_count": 43,
   "metadata": {},
   "outputs": [],
   "source": [
    "# concat polars dataframes in swaps_df\n",
    "swaps_pl = pl.concat(swaps_df)"
   ]
  },
  {
   "cell_type": "code",
   "execution_count": 44,
   "metadata": {},
   "outputs": [
    {
     "name": "stdout",
     "output_type": "stream",
     "text": [
      "swaps_pl shape: (308, 19)\n"
     ]
    }
   ],
   "source": [
    "# print swaps shape\n",
    "print(f'swaps_pl shape: {swaps_pl.shape}')"
   ]
  },
  {
   "cell_type": "code",
   "execution_count": 45,
   "metadata": {},
   "outputs": [
    {
     "name": "stdout",
     "output_type": "stream",
     "text": [
      "transaction gas median is 311338.5\n"
     ]
    }
   ],
   "source": [
    "# get median transactions_gasUsed amount. Typical V3 swap is 127k gas for One-hop. However with multiple hops, gas will be higher. 352 reflects an avg of 3 hops worth of gas\n",
    "tx_gas_median = swaps_pl['swaps_gasLimit'].median()\n",
    "print(f'transaction gas median is {tx_gas_median}')"
   ]
  },
  {
   "cell_type": "code",
   "execution_count": 46,
   "metadata": {},
   "outputs": [],
   "source": [
    "# to get transaction gas used, we do gasUsed * gasPrice\n",
    "swaps_pl = swaps_pl.with_columns([\n",
    "    (127000 * pl.col(\"swaps_gasPrice\")).alias('transaction_gas_fee_one_hop'),\n",
    "    (tx_gas_median * pl.col(\"swaps_gasPrice\")).alias('transaction_gas_fee_median')\n",
    "    ])"
   ]
  },
  {
   "cell_type": "code",
   "execution_count": 47,
   "metadata": {},
   "outputs": [],
   "source": [
    "swaps_pl = swaps_pl.with_columns([\n",
    "    (pl.col(\"transaction_gas_fee_one_hop\") / 10**18).alias('transaction_gas_fee_one_hop'), # wei is 10^9, but eth is 10^18\n",
    "        (pl.col(\"transaction_gas_fee_median\") / 10**18).alias('transaction_gas_fee_median') # wei is 10^9, but eth is 10^18\n",
    "])"
   ]
  },
  {
   "cell_type": "code",
   "execution_count": 48,
   "metadata": {},
   "outputs": [
    {
     "name": "stdout",
     "output_type": "stream",
     "text": [
      "swaps_pl shape: (308, 21)\n"
     ]
    }
   ],
   "source": [
    "# print swaps shape\n",
    "print(f'swaps_pl shape: {swaps_pl.shape}')"
   ]
  },
  {
   "attachments": {},
   "cell_type": "markdown",
   "metadata": {},
   "source": [
    "### Merge Univ3 and CoW"
   ]
  },
  {
   "cell_type": "code",
   "execution_count": 49,
   "metadata": {},
   "outputs": [],
   "source": [
    "# merge trades and swaps on timestamp value. We use outer join because we want to preserve all the datapoints.\n",
    "cow_uni_outer_pl = cow_complete_pl.join(other=swaps_pl, left_on='trades_timestamp', right_on='swaps_timestamp', how='outer')"
   ]
  },
  {
   "cell_type": "code",
   "execution_count": 50,
   "metadata": {},
   "outputs": [
    {
     "data": {
      "text/plain": [
       "(419, 39)"
      ]
     },
     "execution_count": 50,
     "metadata": {},
     "output_type": "execute_result"
    }
   ],
   "source": [
    "cow_uni_outer_pl.shape"
   ]
  },
  {
   "cell_type": "code",
   "execution_count": 51,
   "metadata": {},
   "outputs": [],
   "source": [
    "# Truncate the dataframe\n",
    "cow_uni_trunc_pl = cow_uni_outer_pl[[\n",
    "    'trades_timestamp', \n",
    "    'trades_txHash',\n",
    "    'trades_feeAmount',\n",
    "    'trades_sellToken_id', \n",
    "    'trades_buyToken_id', \n",
    "    'trades_buyAmount',\n",
    "    'trades_sellAmount',\n",
    "    'swaps_pool_id', \n",
    "    'swaps_hash',\n",
    "    'swaps_tokenIn_id', \n",
    "    'swaps_tokenOut_id',\n",
    "    'swaps_amountIn',\n",
    "    'swaps_amountOut',  \n",
    "    'swaps_blockNumber',\n",
    "    'transaction_gas_fee_one_hop',\n",
    "    'transaction_gas_fee_median'\n",
    "    ]]"
   ]
  },
  {
   "cell_type": "code",
   "execution_count": 52,
   "metadata": {},
   "outputs": [
    {
     "data": {
      "text/plain": [
       "(419, 16)"
      ]
     },
     "execution_count": 52,
     "metadata": {},
     "output_type": "execute_result"
    }
   ],
   "source": [
    "#check pl dataframe size\n",
    "cow_uni_trunc_pl.shape"
   ]
  },
  {
   "cell_type": "code",
   "execution_count": 53,
   "metadata": {},
   "outputs": [],
   "source": [
    "chain_sg = sg.load_subgraph('https://api.thegraph.com/subgraphs/name/openpredict/chainlink-prices-subgraph')"
   ]
  },
  {
   "cell_type": "code",
   "execution_count": 54,
   "metadata": {},
   "outputs": [],
   "source": [
    "chain_price_qp = chain_sg.Query.prices"
   ]
  },
  {
   "cell_type": "code",
   "execution_count": 55,
   "metadata": {},
   "outputs": [],
   "source": [
    "chain_qp = chain_price_qp(\n",
    "    first=query_size * 5,\n",
    "    orderBy='timestamp',\n",
    "    orderDirection='desc',\n",
    "    where = {'timestamp_lt': timestamp, 'assetPair': \"ETH/USD\"}\n",
    "    )"
   ]
  },
  {
   "cell_type": "code",
   "execution_count": 56,
   "metadata": {},
   "outputs": [],
   "source": [
    "chain_df = sg.query_df(chain_qp)"
   ]
  },
  {
   "cell_type": "code",
   "execution_count": 57,
   "metadata": {},
   "outputs": [],
   "source": [
    "# convert chain_df to polars\n",
    "chain_pl = pl.from_pandas(chain_df)"
   ]
  },
  {
   "cell_type": "code",
   "execution_count": 58,
   "metadata": {},
   "outputs": [],
   "source": [
    "# drop prices_id, endpoint\n",
    "chain_pl = chain_pl.drop(['prices_id'])"
   ]
  },
  {
   "cell_type": "code",
   "execution_count": 59,
   "metadata": {},
   "outputs": [],
   "source": [
    "# divide prices_prices by 10 ** 8\n",
    "chain_pl = chain_pl.with_columns([\n",
    "    (pl.col(\"prices_price\") / 10**8).alias('prices_prices')\n",
    "    ])"
   ]
  },
  {
   "cell_type": "code",
   "execution_count": 60,
   "metadata": {},
   "outputs": [
    {
     "data": {
      "text/plain": [
       "(1375, 4)"
      ]
     },
     "execution_count": 60,
     "metadata": {},
     "output_type": "execute_result"
    }
   ],
   "source": [
    "chain_pl.shape"
   ]
  },
  {
   "cell_type": "code",
   "execution_count": 61,
   "metadata": {},
   "outputs": [],
   "source": [
    "# outer merge chain_df with cow_uni_outer_pl on timestamp\n",
    "cow_uni_chain_outer_pl = cow_uni_trunc_pl.join(other=chain_pl, left_on='trades_timestamp', right_on='prices_timestamp', how='outer')"
   ]
  },
  {
   "cell_type": "code",
   "execution_count": 62,
   "metadata": {},
   "outputs": [
    {
     "data": {
      "text/plain": [
       "(1794, 19)"
      ]
     },
     "execution_count": 62,
     "metadata": {},
     "output_type": "execute_result"
    }
   ],
   "source": [
    "cow_uni_chain_outer_pl.shape"
   ]
  },
  {
   "attachments": {},
   "cell_type": "markdown",
   "metadata": {},
   "source": [
    "### Price Calculations"
   ]
  },
  {
   "attachments": {},
   "cell_type": "markdown",
   "metadata": {},
   "source": [
    "#### Decimals"
   ]
  },
  {
   "cell_type": "code",
   "execution_count": 63,
   "metadata": {},
   "outputs": [],
   "source": [
    "# add decimals to cow trades sell tokens\n",
    "cow_uni_chain_outer_pl = cow_uni_chain_outer_pl.with_columns(\n",
    "    [\n",
    "        pl.col('trades_sellToken_id'),\n",
    "        (\n",
    "            pl.when(pl.col('trades_sellToken_id') == 'WETH')\n",
    "            .then(18)\n",
    "            .otherwise(6)\n",
    "            .cast(pl.UInt8)\n",
    "        ).alias('trades_sellToken_decimals'),\n",
    "    ]\n",
    ")\n",
    "\n",
    "# add decimals to cow trades buy tokens\n",
    "cow_uni_chain_outer_pl = cow_uni_chain_outer_pl.with_columns(\n",
    "    [\n",
    "        pl.col('trades_buyToken_id'),\n",
    "        (\n",
    "            pl.when(pl.col('trades_buyToken_id') == 'WETH')\n",
    "            .then(18)\n",
    "            .otherwise(6)\n",
    "            .cast(pl.UInt8)\n",
    "        ).alias('trades_buyToken_decimals'),\n",
    "    ]\n",
    ")\n",
    "\n",
    "# add decimals to cow trades sell tokens\n",
    "cow_uni_chain_outer_pl = cow_uni_chain_outer_pl.with_columns(\n",
    "    [\n",
    "        pl.col('swaps_tokenIn_id'),\n",
    "        (\n",
    "            pl.when(pl.col('swaps_tokenIn_id') == 'WETH')\n",
    "            .then(18)\n",
    "            .otherwise(6)\n",
    "            .cast(pl.UInt8)\n",
    "        ).alias('swaps_tokenIn_decimals'),\n",
    "    ]\n",
    ")\n",
    "\n",
    "# add decimals to cow trades buy tokens\n",
    "cow_uni_chain_outer_pl = cow_uni_chain_outer_pl.with_columns(\n",
    "    [\n",
    "        pl.col('swaps_tokenOut_id'),\n",
    "        (\n",
    "            pl.when(pl.col('swaps_tokenOut_id') == 'WETH')\n",
    "            .then(18)\n",
    "            .otherwise(6)\n",
    "            .cast(pl.UInt8)\n",
    "        ).alias('swaps_tokenOut_decimals'),\n",
    "    ]\n",
    ")"
   ]
  },
  {
   "cell_type": "code",
   "execution_count": 64,
   "metadata": {},
   "outputs": [],
   "source": [
    "# divide values by decimals\n",
    "trades_swaps_converted_pl = cow_uni_chain_outer_pl.with_columns([\n",
    "    (pl.col(\"trades_buyAmount\") / (10**pl.col(\"trades_buyToken_decimals\"))).alias('trades_buyAmount_converted'),\n",
    "    (pl.col(\"trades_sellAmount\") / (10**pl.col(\"trades_sellToken_decimals\"))).alias('trades_sellAmount_converted'),\n",
    "    (pl.col(\"swaps_amountIn\") / (10**pl.col(\"swaps_tokenIn_decimals\"))).alias('swaps_amountIn_converted'),\n",
    "    (pl.col(\"swaps_amountOut\") / (10**pl.col(\"swaps_tokenOut_decimals\"))).alias('swaps_amountOut_converted'),\n",
    "])"
   ]
  },
  {
   "cell_type": "code",
   "execution_count": 65,
   "metadata": {},
   "outputs": [],
   "source": [
    "# divide buy/sell amounts to get directional execution price\n",
    "trades_swaps_converted_trunc_pl = trades_swaps_converted_pl.with_columns([\n",
    "    (pl.col(\"trades_buyAmount_converted\") / pl.col(\"trades_sellAmount_converted\")).alias('trades_buy_sell_ratio'),\n",
    "    (pl.col(\"trades_sellAmount_converted\") / pl.col(\"trades_buyAmount_converted\")).alias('trades_sell_buy_ratio'),\n",
    "    (pl.col(\"swaps_amountIn_converted\") / pl.col(\"swaps_amountOut_converted\")).alias('swaps_amountIn_amountOut_ratio'),\n",
    "    (pl.col(\"swaps_amountOut_converted\") / pl.col(\"swaps_amountIn_converted\")).alias('swaps_amountOut_amountIn_ratio'),\n",
    "])"
   ]
  },
  {
   "cell_type": "code",
   "execution_count": 66,
   "metadata": {},
   "outputs": [],
   "source": [
    "# truncate dataframe\n",
    "trades_swaps_converted_trunc_pl = trades_swaps_converted_trunc_pl[\n",
    "    'trades_timestamp',\n",
    "    'swaps_blockNumber',\n",
    "    'trades_txHash',\n",
    "    'trades_feeAmount',\n",
    "    'trades_sellToken_id',\n",
    "    'trades_buyToken_id',\n",
    "    'trades_sellAmount_converted',\n",
    "    'trades_buyAmount_converted',\n",
    "    'swaps_pool_id',\n",
    "    'swaps_tokenIn_id',\n",
    "    'swaps_tokenOut_id',\n",
    "    'swaps_amountIn_converted',\n",
    "    'swaps_amountOut_converted',\n",
    "    'transaction_gas_fee_one_hop',\n",
    "    'transaction_gas_fee_median',\n",
    "    'trades_buy_sell_ratio',\n",
    "    'trades_sell_buy_ratio',\n",
    "    'swaps_amountIn_amountOut_ratio',\n",
    "    'swaps_amountOut_amountIn_ratio',\n",
    "    'prices_assetPair_id',\n",
    "    'prices_price'\n",
    "]"
   ]
  },
  {
   "cell_type": "code",
   "execution_count": 67,
   "metadata": {},
   "outputs": [
    {
     "data": {
      "text/plain": [
       "(1794, 21)"
      ]
     },
     "execution_count": 67,
     "metadata": {},
     "output_type": "execute_result"
    }
   ],
   "source": [
    "trades_swaps_converted_trunc_pl.shape"
   ]
  },
  {
   "cell_type": "code",
   "execution_count": 68,
   "metadata": {},
   "outputs": [],
   "source": [
    "# checkpoint, save to parquet\n",
    "trades_swaps_converted_trunc_pl.write_parquet('cow_uni_chain_outer_pl_historical.parquet')"
   ]
  },
  {
   "cell_type": "code",
   "execution_count": null,
   "metadata": {},
   "outputs": [],
   "source": []
  }
 ],
 "metadata": {
  "kernelspec": {
   "display_name": "ds",
   "language": "python",
   "name": "python3"
  },
  "language_info": {
   "codemirror_mode": {
    "name": "ipython",
    "version": 3
   },
   "file_extension": ".py",
   "mimetype": "text/x-python",
   "name": "python",
   "nbconvert_exporter": "python",
   "pygments_lexer": "ipython3",
   "version": "3.10.6"
  },
  "orig_nbformat": 4
 },
 "nbformat": 4,
 "nbformat_minor": 2
}
